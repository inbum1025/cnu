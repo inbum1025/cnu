{
 "cells": [
  {
   "cell_type": "code",
   "execution_count": 1,
   "metadata": {},
   "outputs": [],
   "source": [
    "import matplotlib.pyplot as plt\n",
    "import numpy as np\n",
    "import pandas as pd\n",
    "import os\n",
    "import shutil\n",
    "from tqdm import tqdm\n",
    "import wget\n",
    "\n",
    "import pickle\n",
    "\n",
    "from astropy import units as u\n",
    "from astropy.coordinates import SkyCoord, FK4"
   ]
  },
  {
   "cell_type": "code",
   "execution_count": 2,
   "metadata": {
    "collapsed": true,
    "jupyter": {
     "outputs_hidden": true
    },
    "tags": []
   },
   "outputs": [
    {
     "ename": "FileNotFoundError",
     "evalue": "[Errno 2] No such file or directory: '/media/M86/ML/CBIR/FEATURE/GZ2/HALF/halfmopholist.csv'",
     "output_type": "error",
     "traceback": [
      "\u001b[1;31m---------------------------------------------------------------------------\u001b[0m",
      "\u001b[1;31mFileNotFoundError\u001b[0m                         Traceback (most recent call last)",
      "Input \u001b[1;32mIn [2]\u001b[0m, in \u001b[0;36m<cell line: 1>\u001b[1;34m()\u001b[0m\n\u001b[1;32m----> 1\u001b[0m df \u001b[38;5;241m=\u001b[39m \u001b[43mpd\u001b[49m\u001b[38;5;241;43m.\u001b[39;49m\u001b[43mread_csv\u001b[49m\u001b[43m(\u001b[49m\u001b[38;5;124;43m'\u001b[39;49m\u001b[38;5;124;43m/media/M86/ML/CBIR/FEATURE/GZ2/HALF/halfmopholist.csv\u001b[39;49m\u001b[38;5;124;43m'\u001b[39;49m\u001b[43m)\u001b[49m\n",
      "File \u001b[1;32m~\\Anaconda3\\lib\\site-packages\\pandas\\util\\_decorators.py:311\u001b[0m, in \u001b[0;36mdeprecate_nonkeyword_arguments.<locals>.decorate.<locals>.wrapper\u001b[1;34m(*args, **kwargs)\u001b[0m\n\u001b[0;32m    305\u001b[0m \u001b[38;5;28;01mif\u001b[39;00m \u001b[38;5;28mlen\u001b[39m(args) \u001b[38;5;241m>\u001b[39m num_allow_args:\n\u001b[0;32m    306\u001b[0m     warnings\u001b[38;5;241m.\u001b[39mwarn(\n\u001b[0;32m    307\u001b[0m         msg\u001b[38;5;241m.\u001b[39mformat(arguments\u001b[38;5;241m=\u001b[39marguments),\n\u001b[0;32m    308\u001b[0m         \u001b[38;5;167;01mFutureWarning\u001b[39;00m,\n\u001b[0;32m    309\u001b[0m         stacklevel\u001b[38;5;241m=\u001b[39mstacklevel,\n\u001b[0;32m    310\u001b[0m     )\n\u001b[1;32m--> 311\u001b[0m \u001b[38;5;28;01mreturn\u001b[39;00m func(\u001b[38;5;241m*\u001b[39margs, \u001b[38;5;241m*\u001b[39m\u001b[38;5;241m*\u001b[39mkwargs)\n",
      "File \u001b[1;32m~\\Anaconda3\\lib\\site-packages\\pandas\\io\\parsers\\readers.py:678\u001b[0m, in \u001b[0;36mread_csv\u001b[1;34m(filepath_or_buffer, sep, delimiter, header, names, index_col, usecols, squeeze, prefix, mangle_dupe_cols, dtype, engine, converters, true_values, false_values, skipinitialspace, skiprows, skipfooter, nrows, na_values, keep_default_na, na_filter, verbose, skip_blank_lines, parse_dates, infer_datetime_format, keep_date_col, date_parser, dayfirst, cache_dates, iterator, chunksize, compression, thousands, decimal, lineterminator, quotechar, quoting, doublequote, escapechar, comment, encoding, encoding_errors, dialect, error_bad_lines, warn_bad_lines, on_bad_lines, delim_whitespace, low_memory, memory_map, float_precision, storage_options)\u001b[0m\n\u001b[0;32m    663\u001b[0m kwds_defaults \u001b[38;5;241m=\u001b[39m _refine_defaults_read(\n\u001b[0;32m    664\u001b[0m     dialect,\n\u001b[0;32m    665\u001b[0m     delimiter,\n\u001b[1;32m   (...)\u001b[0m\n\u001b[0;32m    674\u001b[0m     defaults\u001b[38;5;241m=\u001b[39m{\u001b[38;5;124m\"\u001b[39m\u001b[38;5;124mdelimiter\u001b[39m\u001b[38;5;124m\"\u001b[39m: \u001b[38;5;124m\"\u001b[39m\u001b[38;5;124m,\u001b[39m\u001b[38;5;124m\"\u001b[39m},\n\u001b[0;32m    675\u001b[0m )\n\u001b[0;32m    676\u001b[0m kwds\u001b[38;5;241m.\u001b[39mupdate(kwds_defaults)\n\u001b[1;32m--> 678\u001b[0m \u001b[38;5;28;01mreturn\u001b[39;00m \u001b[43m_read\u001b[49m\u001b[43m(\u001b[49m\u001b[43mfilepath_or_buffer\u001b[49m\u001b[43m,\u001b[49m\u001b[43m \u001b[49m\u001b[43mkwds\u001b[49m\u001b[43m)\u001b[49m\n",
      "File \u001b[1;32m~\\Anaconda3\\lib\\site-packages\\pandas\\io\\parsers\\readers.py:575\u001b[0m, in \u001b[0;36m_read\u001b[1;34m(filepath_or_buffer, kwds)\u001b[0m\n\u001b[0;32m    572\u001b[0m _validate_names(kwds\u001b[38;5;241m.\u001b[39mget(\u001b[38;5;124m\"\u001b[39m\u001b[38;5;124mnames\u001b[39m\u001b[38;5;124m\"\u001b[39m, \u001b[38;5;28;01mNone\u001b[39;00m))\n\u001b[0;32m    574\u001b[0m \u001b[38;5;66;03m# Create the parser.\u001b[39;00m\n\u001b[1;32m--> 575\u001b[0m parser \u001b[38;5;241m=\u001b[39m TextFileReader(filepath_or_buffer, \u001b[38;5;241m*\u001b[39m\u001b[38;5;241m*\u001b[39mkwds)\n\u001b[0;32m    577\u001b[0m \u001b[38;5;28;01mif\u001b[39;00m chunksize \u001b[38;5;129;01mor\u001b[39;00m iterator:\n\u001b[0;32m    578\u001b[0m     \u001b[38;5;28;01mreturn\u001b[39;00m parser\n",
      "File \u001b[1;32m~\\Anaconda3\\lib\\site-packages\\pandas\\io\\parsers\\readers.py:932\u001b[0m, in \u001b[0;36mTextFileReader.__init__\u001b[1;34m(self, f, engine, **kwds)\u001b[0m\n\u001b[0;32m    929\u001b[0m     \u001b[38;5;28mself\u001b[39m\u001b[38;5;241m.\u001b[39moptions[\u001b[38;5;124m\"\u001b[39m\u001b[38;5;124mhas_index_names\u001b[39m\u001b[38;5;124m\"\u001b[39m] \u001b[38;5;241m=\u001b[39m kwds[\u001b[38;5;124m\"\u001b[39m\u001b[38;5;124mhas_index_names\u001b[39m\u001b[38;5;124m\"\u001b[39m]\n\u001b[0;32m    931\u001b[0m \u001b[38;5;28mself\u001b[39m\u001b[38;5;241m.\u001b[39mhandles: IOHandles \u001b[38;5;241m|\u001b[39m \u001b[38;5;28;01mNone\u001b[39;00m \u001b[38;5;241m=\u001b[39m \u001b[38;5;28;01mNone\u001b[39;00m\n\u001b[1;32m--> 932\u001b[0m \u001b[38;5;28mself\u001b[39m\u001b[38;5;241m.\u001b[39m_engine \u001b[38;5;241m=\u001b[39m \u001b[38;5;28;43mself\u001b[39;49m\u001b[38;5;241;43m.\u001b[39;49m\u001b[43m_make_engine\u001b[49m\u001b[43m(\u001b[49m\u001b[43mf\u001b[49m\u001b[43m,\u001b[49m\u001b[43m \u001b[49m\u001b[38;5;28;43mself\u001b[39;49m\u001b[38;5;241;43m.\u001b[39;49m\u001b[43mengine\u001b[49m\u001b[43m)\u001b[49m\n",
      "File \u001b[1;32m~\\Anaconda3\\lib\\site-packages\\pandas\\io\\parsers\\readers.py:1216\u001b[0m, in \u001b[0;36mTextFileReader._make_engine\u001b[1;34m(self, f, engine)\u001b[0m\n\u001b[0;32m   1212\u001b[0m     mode \u001b[38;5;241m=\u001b[39m \u001b[38;5;124m\"\u001b[39m\u001b[38;5;124mrb\u001b[39m\u001b[38;5;124m\"\u001b[39m\n\u001b[0;32m   1213\u001b[0m \u001b[38;5;66;03m# error: No overload variant of \"get_handle\" matches argument types\u001b[39;00m\n\u001b[0;32m   1214\u001b[0m \u001b[38;5;66;03m# \"Union[str, PathLike[str], ReadCsvBuffer[bytes], ReadCsvBuffer[str]]\"\u001b[39;00m\n\u001b[0;32m   1215\u001b[0m \u001b[38;5;66;03m# , \"str\", \"bool\", \"Any\", \"Any\", \"Any\", \"Any\", \"Any\"\u001b[39;00m\n\u001b[1;32m-> 1216\u001b[0m \u001b[38;5;28mself\u001b[39m\u001b[38;5;241m.\u001b[39mhandles \u001b[38;5;241m=\u001b[39m \u001b[43mget_handle\u001b[49m\u001b[43m(\u001b[49m\u001b[43m  \u001b[49m\u001b[38;5;66;43;03m# type: ignore[call-overload]\u001b[39;49;00m\n\u001b[0;32m   1217\u001b[0m \u001b[43m    \u001b[49m\u001b[43mf\u001b[49m\u001b[43m,\u001b[49m\n\u001b[0;32m   1218\u001b[0m \u001b[43m    \u001b[49m\u001b[43mmode\u001b[49m\u001b[43m,\u001b[49m\n\u001b[0;32m   1219\u001b[0m \u001b[43m    \u001b[49m\u001b[43mencoding\u001b[49m\u001b[38;5;241;43m=\u001b[39;49m\u001b[38;5;28;43mself\u001b[39;49m\u001b[38;5;241;43m.\u001b[39;49m\u001b[43moptions\u001b[49m\u001b[38;5;241;43m.\u001b[39;49m\u001b[43mget\u001b[49m\u001b[43m(\u001b[49m\u001b[38;5;124;43m\"\u001b[39;49m\u001b[38;5;124;43mencoding\u001b[39;49m\u001b[38;5;124;43m\"\u001b[39;49m\u001b[43m,\u001b[49m\u001b[43m \u001b[49m\u001b[38;5;28;43;01mNone\u001b[39;49;00m\u001b[43m)\u001b[49m\u001b[43m,\u001b[49m\n\u001b[0;32m   1220\u001b[0m \u001b[43m    \u001b[49m\u001b[43mcompression\u001b[49m\u001b[38;5;241;43m=\u001b[39;49m\u001b[38;5;28;43mself\u001b[39;49m\u001b[38;5;241;43m.\u001b[39;49m\u001b[43moptions\u001b[49m\u001b[38;5;241;43m.\u001b[39;49m\u001b[43mget\u001b[49m\u001b[43m(\u001b[49m\u001b[38;5;124;43m\"\u001b[39;49m\u001b[38;5;124;43mcompression\u001b[39;49m\u001b[38;5;124;43m\"\u001b[39;49m\u001b[43m,\u001b[49m\u001b[43m \u001b[49m\u001b[38;5;28;43;01mNone\u001b[39;49;00m\u001b[43m)\u001b[49m\u001b[43m,\u001b[49m\n\u001b[0;32m   1221\u001b[0m \u001b[43m    \u001b[49m\u001b[43mmemory_map\u001b[49m\u001b[38;5;241;43m=\u001b[39;49m\u001b[38;5;28;43mself\u001b[39;49m\u001b[38;5;241;43m.\u001b[39;49m\u001b[43moptions\u001b[49m\u001b[38;5;241;43m.\u001b[39;49m\u001b[43mget\u001b[49m\u001b[43m(\u001b[49m\u001b[38;5;124;43m\"\u001b[39;49m\u001b[38;5;124;43mmemory_map\u001b[39;49m\u001b[38;5;124;43m\"\u001b[39;49m\u001b[43m,\u001b[49m\u001b[43m \u001b[49m\u001b[38;5;28;43;01mFalse\u001b[39;49;00m\u001b[43m)\u001b[49m\u001b[43m,\u001b[49m\n\u001b[0;32m   1222\u001b[0m \u001b[43m    \u001b[49m\u001b[43mis_text\u001b[49m\u001b[38;5;241;43m=\u001b[39;49m\u001b[43mis_text\u001b[49m\u001b[43m,\u001b[49m\n\u001b[0;32m   1223\u001b[0m \u001b[43m    \u001b[49m\u001b[43merrors\u001b[49m\u001b[38;5;241;43m=\u001b[39;49m\u001b[38;5;28;43mself\u001b[39;49m\u001b[38;5;241;43m.\u001b[39;49m\u001b[43moptions\u001b[49m\u001b[38;5;241;43m.\u001b[39;49m\u001b[43mget\u001b[49m\u001b[43m(\u001b[49m\u001b[38;5;124;43m\"\u001b[39;49m\u001b[38;5;124;43mencoding_errors\u001b[39;49m\u001b[38;5;124;43m\"\u001b[39;49m\u001b[43m,\u001b[49m\u001b[43m \u001b[49m\u001b[38;5;124;43m\"\u001b[39;49m\u001b[38;5;124;43mstrict\u001b[39;49m\u001b[38;5;124;43m\"\u001b[39;49m\u001b[43m)\u001b[49m\u001b[43m,\u001b[49m\n\u001b[0;32m   1224\u001b[0m \u001b[43m    \u001b[49m\u001b[43mstorage_options\u001b[49m\u001b[38;5;241;43m=\u001b[39;49m\u001b[38;5;28;43mself\u001b[39;49m\u001b[38;5;241;43m.\u001b[39;49m\u001b[43moptions\u001b[49m\u001b[38;5;241;43m.\u001b[39;49m\u001b[43mget\u001b[49m\u001b[43m(\u001b[49m\u001b[38;5;124;43m\"\u001b[39;49m\u001b[38;5;124;43mstorage_options\u001b[39;49m\u001b[38;5;124;43m\"\u001b[39;49m\u001b[43m,\u001b[49m\u001b[43m \u001b[49m\u001b[38;5;28;43;01mNone\u001b[39;49;00m\u001b[43m)\u001b[49m\u001b[43m,\u001b[49m\n\u001b[0;32m   1225\u001b[0m \u001b[43m\u001b[49m\u001b[43m)\u001b[49m\n\u001b[0;32m   1226\u001b[0m \u001b[38;5;28;01massert\u001b[39;00m \u001b[38;5;28mself\u001b[39m\u001b[38;5;241m.\u001b[39mhandles \u001b[38;5;129;01mis\u001b[39;00m \u001b[38;5;129;01mnot\u001b[39;00m \u001b[38;5;28;01mNone\u001b[39;00m\n\u001b[0;32m   1227\u001b[0m f \u001b[38;5;241m=\u001b[39m \u001b[38;5;28mself\u001b[39m\u001b[38;5;241m.\u001b[39mhandles\u001b[38;5;241m.\u001b[39mhandle\n",
      "File \u001b[1;32m~\\Anaconda3\\lib\\site-packages\\pandas\\io\\common.py:786\u001b[0m, in \u001b[0;36mget_handle\u001b[1;34m(path_or_buf, mode, encoding, compression, memory_map, is_text, errors, storage_options)\u001b[0m\n\u001b[0;32m    781\u001b[0m \u001b[38;5;28;01melif\u001b[39;00m \u001b[38;5;28misinstance\u001b[39m(handle, \u001b[38;5;28mstr\u001b[39m):\n\u001b[0;32m    782\u001b[0m     \u001b[38;5;66;03m# Check whether the filename is to be opened in binary mode.\u001b[39;00m\n\u001b[0;32m    783\u001b[0m     \u001b[38;5;66;03m# Binary mode does not support 'encoding' and 'newline'.\u001b[39;00m\n\u001b[0;32m    784\u001b[0m     \u001b[38;5;28;01mif\u001b[39;00m ioargs\u001b[38;5;241m.\u001b[39mencoding \u001b[38;5;129;01mand\u001b[39;00m \u001b[38;5;124m\"\u001b[39m\u001b[38;5;124mb\u001b[39m\u001b[38;5;124m\"\u001b[39m \u001b[38;5;129;01mnot\u001b[39;00m \u001b[38;5;129;01min\u001b[39;00m ioargs\u001b[38;5;241m.\u001b[39mmode:\n\u001b[0;32m    785\u001b[0m         \u001b[38;5;66;03m# Encoding\u001b[39;00m\n\u001b[1;32m--> 786\u001b[0m         handle \u001b[38;5;241m=\u001b[39m \u001b[38;5;28;43mopen\u001b[39;49m\u001b[43m(\u001b[49m\n\u001b[0;32m    787\u001b[0m \u001b[43m            \u001b[49m\u001b[43mhandle\u001b[49m\u001b[43m,\u001b[49m\n\u001b[0;32m    788\u001b[0m \u001b[43m            \u001b[49m\u001b[43mioargs\u001b[49m\u001b[38;5;241;43m.\u001b[39;49m\u001b[43mmode\u001b[49m\u001b[43m,\u001b[49m\n\u001b[0;32m    789\u001b[0m \u001b[43m            \u001b[49m\u001b[43mencoding\u001b[49m\u001b[38;5;241;43m=\u001b[39;49m\u001b[43mioargs\u001b[49m\u001b[38;5;241;43m.\u001b[39;49m\u001b[43mencoding\u001b[49m\u001b[43m,\u001b[49m\n\u001b[0;32m    790\u001b[0m \u001b[43m            \u001b[49m\u001b[43merrors\u001b[49m\u001b[38;5;241;43m=\u001b[39;49m\u001b[43merrors\u001b[49m\u001b[43m,\u001b[49m\n\u001b[0;32m    791\u001b[0m \u001b[43m            \u001b[49m\u001b[43mnewline\u001b[49m\u001b[38;5;241;43m=\u001b[39;49m\u001b[38;5;124;43m\"\u001b[39;49m\u001b[38;5;124;43m\"\u001b[39;49m\u001b[43m,\u001b[49m\n\u001b[0;32m    792\u001b[0m \u001b[43m        \u001b[49m\u001b[43m)\u001b[49m\n\u001b[0;32m    793\u001b[0m     \u001b[38;5;28;01melse\u001b[39;00m:\n\u001b[0;32m    794\u001b[0m         \u001b[38;5;66;03m# Binary mode\u001b[39;00m\n\u001b[0;32m    795\u001b[0m         handle \u001b[38;5;241m=\u001b[39m \u001b[38;5;28mopen\u001b[39m(handle, ioargs\u001b[38;5;241m.\u001b[39mmode)\n",
      "\u001b[1;31mFileNotFoundError\u001b[0m: [Errno 2] No such file or directory: '/media/M86/ML/CBIR/FEATURE/GZ2/HALF/halfmopholist.csv'"
     ]
    }
   ],
   "source": [
    "df = pd.read_csv('/media/M86/ML/CBIR/FEATURE/GZ2/HALF/halfmopholist.csv')"
   ]
  },
  {
   "cell_type": "code",
   "execution_count": 3,
   "metadata": {},
   "outputs": [],
   "source": [
    "fit = 587735348564787262\n",
    "ra =  df.ra[df.dr7objid == fit].values.item()\n",
    "dec = df.dec[df.dr7objid == fit].values.item()\n",
    "filters = 'gri'   # ugriz중에서 한 글자 혹은 여러글자 연달아 써도 됨 예) u, r, riz, ugz 등...\n",
    "size = 1"
   ]
  },
  {
   "cell_type": "code",
   "execution_count": 12,
   "metadata": {},
   "outputs": [
    {
     "data": {
      "text/plain": [
       "48812    J104207.00+134449.0\n",
       "Name: Jname, dtype: object"
      ]
     },
     "execution_count": 12,
     "metadata": {},
     "output_type": "execute_result"
    }
   ],
   "source": [
    "df.Jname[df.dr7objid == fit].values[0]"
   ]
  },
  {
   "cell_type": "code",
   "execution_count": 13,
   "metadata": {},
   "outputs": [
    {
     "data": {
      "text/plain": [
       "'/media/M86/EunSukWork/Galaxy_zoo/Sh/J104207.00+134449.0.sh'"
      ]
     },
     "execution_count": 13,
     "metadata": {},
     "output_type": "execute_result"
    }
   ],
   "source": [
    "url = 'https://dr12.sdss.org/mosaics/script?onlyprimary=True&pixelscale=0.396&ra=%s&filters=%s&dec=%s&size=%s'% (ra, filters, dec, size)\n",
    "wget.download(url, '/media/M86/EunSukWork/Galaxy_zoo/Sh/J104207.00+134449.0.sh')"
   ]
  },
  {
   "cell_type": "code",
   "execution_count": 14,
   "metadata": {},
   "outputs": [
    {
     "data": {
      "text/plain": [
       "['Big', 'Gz2', 'Miss', '.ipynb_checkpoints', 'J104207.00+134449.0.sh', 'EVCC']"
      ]
     },
     "execution_count": 14,
     "metadata": {},
     "output_type": "execute_result"
    }
   ],
   "source": [
    "os.listdir('/media/M86/EunSukWork/Galaxy_zoo/Sh/')#[0][-4]"
   ]
  },
  {
   "cell_type": "code",
   "execution_count": 15,
   "metadata": {},
   "outputs": [
    {
     "data": {
      "text/plain": [
       "0"
      ]
     },
     "execution_count": 15,
     "metadata": {},
     "output_type": "execute_result"
    }
   ],
   "source": [
    "os.system('bash /media/M86/EunSukWork/Galaxy_zoo/Sh/fewGZ2/J104207.00+134449.0.sh')"
   ]
  },
  {
   "cell_type": "code",
   "execution_count": 20,
   "metadata": {},
   "outputs": [],
   "source": [
    "file = df.Jname[df.dr7objid == fit].values[0]\n",
    "name = df.dr7objid[df.dr7objid == fit].values[0]\n",
    "if os.path.exists('%s-g.fits'%file):\n",
    "    os.renames('%s-g.fits'%file, '%s-g.fits'%name)\n",
    "    os.system('mv %s-g.fits /media/M86/DATA/SDSS/GALZOO/FIT/'%name)\n",
    "if os.path.exists('%s-r.fits'%file):\n",
    "    os.renames('%s-r.fits'%file, '%s-r.fits'%name)\n",
    "    os.system('mv %s-r.fits /media/M86/DATA/SDSS/GALZOO/FIT/'%name)\n",
    "if os.path.exists('%s-i.fits'%file):\n",
    "    os.renames('%s-i.fits'%file, '%s-i.fits'%name)\n",
    "    os.system('mv %s-i.fits /media/M86/DATA/SDSS/GALZOO/FIT/'%name)"
   ]
  },
  {
   "cell_type": "code",
   "execution_count": null,
   "metadata": {},
   "outputs": [],
   "source": []
  },
  {
   "cell_type": "code",
   "execution_count": null,
   "metadata": {},
   "outputs": [],
   "source": []
  },
  {
   "cell_type": "code",
   "execution_count": 18,
   "metadata": {},
   "outputs": [
    {
     "data": {
      "text/plain": [
       "25"
      ]
     },
     "execution_count": 18,
     "metadata": {},
     "output_type": "execute_result"
    }
   ],
   "source": [
    "len(os.listdir('/media/M86/DATA/SDSS/GALZOO/FIT/')[0])"
   ]
  },
  {
   "cell_type": "code",
   "execution_count": 21,
   "metadata": {},
   "outputs": [
    {
     "data": {
      "text/plain": [
       "[]"
      ]
     },
     "execution_count": 21,
     "metadata": {},
     "output_type": "execute_result"
    }
   ],
   "source": [
    "[_ for _ in os.listdir('/media/M86/DATA/SDSS/GALZOO/FIT/') if len(_) != 25]"
   ]
  },
  {
   "cell_type": "code",
   "execution_count": 5,
   "metadata": {},
   "outputs": [],
   "source": [
    "evcc = pd.read_csv('/media/M86/DATA/SDSS/GALZOO/Catalog/evcc.csv')\n",
    "\n",
    "with open('/media/M86/ML/CBIR/evccbig.pkl', \"rb\") as fr:\n",
    "    evccbig = pickle.load(fr)"
   ]
  },
  {
   "cell_type": "code",
   "execution_count": 3,
   "metadata": {},
   "outputs": [],
   "source": [
    "moph = pd.read_csv('/media/M86/DATA/SDSS/GALZOO/Catalog/mopholist.csv')\n",
    "lamoph = pd.read_csv('/media/M86/DATA/SDSS/GALZOO/Catalog/lastmopholist.csv')\n",
    "bigobt = pd.read_csv('/media/M86/DATA/SDSS/GALZOO/Catalog/bigobt.csv')\n",
    "biglaobt = pd.read_csv('/media/M86/DATA/SDSS/GALZOO/Catalog/lastbigobt.csv')"
   ]
  },
  {
   "cell_type": "code",
   "execution_count": 9,
   "metadata": {
    "collapsed": true,
    "jupyter": {
     "outputs_hidden": true
    },
    "tags": []
   },
   "outputs": [
    {
     "data": {
      "text/html": [
       "<div>\n",
       "<style scoped>\n",
       "    .dataframe tbody tr th:only-of-type {\n",
       "        vertical-align: middle;\n",
       "    }\n",
       "\n",
       "    .dataframe tbody tr th {\n",
       "        vertical-align: top;\n",
       "    }\n",
       "\n",
       "    .dataframe thead th {\n",
       "        text-align: right;\n",
       "    }\n",
       "</style>\n",
       "<table border=\"1\" class=\"dataframe\">\n",
       "  <thead>\n",
       "    <tr style=\"text-align: right;\">\n",
       "      <th></th>\n",
       "      <th>ID</th>\n",
       "      <th>ID_v</th>\n",
       "      <th>NGC</th>\n",
       "      <th>RA_e</th>\n",
       "      <th>Decl_e</th>\n",
       "      <th>RA_d</th>\n",
       "      <th>Decl_d</th>\n",
       "      <th>Delta</th>\n",
       "      <th>cz1</th>\n",
       "      <th>cz2</th>\n",
       "      <th>...</th>\n",
       "      <th>g_error</th>\n",
       "      <th>r</th>\n",
       "      <th>r_error</th>\n",
       "      <th>i</th>\n",
       "      <th>i_error</th>\n",
       "      <th>z</th>\n",
       "      <th>z_error</th>\n",
       "      <th>R_Kron</th>\n",
       "      <th>R50</th>\n",
       "      <th>Jname</th>\n",
       "    </tr>\n",
       "  </thead>\n",
       "  <tbody>\n",
       "    <tr>\n",
       "      <th>0</th>\n",
       "      <td>1</td>\n",
       "      <td>-</td>\n",
       "      <td>-</td>\n",
       "      <td>175.0771</td>\n",
       "      <td>9.0100</td>\n",
       "      <td>175.0771</td>\n",
       "      <td>9.0099</td>\n",
       "      <td>0.2414</td>\n",
       "      <td>1843.8</td>\n",
       "      <td>1861.2</td>\n",
       "      <td>...</td>\n",
       "      <td>0.020</td>\n",
       "      <td>12.75</td>\n",
       "      <td>0.020</td>\n",
       "      <td>12.33</td>\n",
       "      <td>0.020</td>\n",
       "      <td>12.01</td>\n",
       "      <td>0.031</td>\n",
       "      <td>50.02</td>\n",
       "      <td>8.89</td>\n",
       "      <td>J114018.00+090035.0</td>\n",
       "    </tr>\n",
       "    <tr>\n",
       "      <th>1</th>\n",
       "      <td>2</td>\n",
       "      <td>-</td>\n",
       "      <td>-</td>\n",
       "      <td>175.2362</td>\n",
       "      <td>14.0745</td>\n",
       "      <td>175.2364</td>\n",
       "      <td>14.0742</td>\n",
       "      <td>1.3461</td>\n",
       "      <td>977.9</td>\n",
       "      <td>-</td>\n",
       "      <td>...</td>\n",
       "      <td>0.020</td>\n",
       "      <td>15.82</td>\n",
       "      <td>0.021</td>\n",
       "      <td>15.50</td>\n",
       "      <td>0.021</td>\n",
       "      <td>15.13</td>\n",
       "      <td>0.033</td>\n",
       "      <td>36.20</td>\n",
       "      <td>7.59</td>\n",
       "      <td>J114056.00+140428.0</td>\n",
       "    </tr>\n",
       "    <tr>\n",
       "      <th>2</th>\n",
       "      <td>3</td>\n",
       "      <td>-</td>\n",
       "      <td>3810</td>\n",
       "      <td>175.2449</td>\n",
       "      <td>11.4711</td>\n",
       "      <td>175.2448</td>\n",
       "      <td>11.4711</td>\n",
       "      <td>0.4809</td>\n",
       "      <td>999.3</td>\n",
       "      <td>992.7</td>\n",
       "      <td>...</td>\n",
       "      <td>0.020</td>\n",
       "      <td>10.50</td>\n",
       "      <td>0.020</td>\n",
       "      <td>10.24</td>\n",
       "      <td>0.020</td>\n",
       "      <td>10.01</td>\n",
       "      <td>0.031</td>\n",
       "      <td>137.27</td>\n",
       "      <td>34.31</td>\n",
       "      <td>J114058.00+112815.0</td>\n",
       "    </tr>\n",
       "    <tr>\n",
       "      <th>3</th>\n",
       "      <td>4</td>\n",
       "      <td>-</td>\n",
       "      <td>-</td>\n",
       "      <td>175.4609</td>\n",
       "      <td>15.9737</td>\n",
       "      <td>175.4610</td>\n",
       "      <td>15.9737</td>\n",
       "      <td>0.4688</td>\n",
       "      <td>753.1</td>\n",
       "      <td>748.5</td>\n",
       "      <td>...</td>\n",
       "      <td>0.020</td>\n",
       "      <td>14.12</td>\n",
       "      <td>0.020</td>\n",
       "      <td>13.91</td>\n",
       "      <td>0.020</td>\n",
       "      <td>13.77</td>\n",
       "      <td>0.031</td>\n",
       "      <td>26.02</td>\n",
       "      <td>5.93</td>\n",
       "      <td>J114150.00+155825.0</td>\n",
       "    </tr>\n",
       "    <tr>\n",
       "      <th>4</th>\n",
       "      <td>5</td>\n",
       "      <td>-</td>\n",
       "      <td>-</td>\n",
       "      <td>175.5747</td>\n",
       "      <td>14.9949</td>\n",
       "      <td>175.5793</td>\n",
       "      <td>14.9962</td>\n",
       "      <td>16.6015</td>\n",
       "      <td>1021.5</td>\n",
       "      <td>-</td>\n",
       "      <td>...</td>\n",
       "      <td>0.020</td>\n",
       "      <td>15.42</td>\n",
       "      <td>0.021</td>\n",
       "      <td>15.08</td>\n",
       "      <td>0.021</td>\n",
       "      <td>15.52</td>\n",
       "      <td>0.037</td>\n",
       "      <td>106.17</td>\n",
       "      <td>22.43</td>\n",
       "      <td>J114217.00+145941.0</td>\n",
       "    </tr>\n",
       "    <tr>\n",
       "      <th>...</th>\n",
       "      <td>...</td>\n",
       "      <td>...</td>\n",
       "      <td>...</td>\n",
       "      <td>...</td>\n",
       "      <td>...</td>\n",
       "      <td>...</td>\n",
       "      <td>...</td>\n",
       "      <td>...</td>\n",
       "      <td>...</td>\n",
       "      <td>...</td>\n",
       "      <td>...</td>\n",
       "      <td>...</td>\n",
       "      <td>...</td>\n",
       "      <td>...</td>\n",
       "      <td>...</td>\n",
       "      <td>...</td>\n",
       "      <td>...</td>\n",
       "      <td>...</td>\n",
       "      <td>...</td>\n",
       "      <td>...</td>\n",
       "      <td>...</td>\n",
       "    </tr>\n",
       "    <tr>\n",
       "      <th>1584</th>\n",
       "      <td>2260</td>\n",
       "      <td>-</td>\n",
       "      <td>-</td>\n",
       "      <td>196.1936</td>\n",
       "      <td>-2.8712</td>\n",
       "      <td>-</td>\n",
       "      <td>-</td>\n",
       "      <td>-</td>\n",
       "      <td>-</td>\n",
       "      <td>1260.0</td>\n",
       "      <td>...</td>\n",
       "      <td>0.021</td>\n",
       "      <td>16.13</td>\n",
       "      <td>0.021</td>\n",
       "      <td>15.90</td>\n",
       "      <td>0.021</td>\n",
       "      <td>16.05</td>\n",
       "      <td>0.037</td>\n",
       "      <td>50.52</td>\n",
       "      <td>10.36</td>\n",
       "      <td>J130446.00-025216.0</td>\n",
       "    </tr>\n",
       "    <tr>\n",
       "      <th>1585</th>\n",
       "      <td>2261</td>\n",
       "      <td>-</td>\n",
       "      <td>-</td>\n",
       "      <td>198.0261</td>\n",
       "      <td>5.4758</td>\n",
       "      <td>-</td>\n",
       "      <td>-</td>\n",
       "      <td>-</td>\n",
       "      <td>-</td>\n",
       "      <td>913.5</td>\n",
       "      <td>...</td>\n",
       "      <td>0.021</td>\n",
       "      <td>15.83</td>\n",
       "      <td>0.021</td>\n",
       "      <td>15.90</td>\n",
       "      <td>0.021</td>\n",
       "      <td>15.76</td>\n",
       "      <td>0.034</td>\n",
       "      <td>57.83</td>\n",
       "      <td>14.57</td>\n",
       "      <td>J131206.00+052832.0</td>\n",
       "    </tr>\n",
       "    <tr>\n",
       "      <th>1586</th>\n",
       "      <td>2262</td>\n",
       "      <td>-</td>\n",
       "      <td>-</td>\n",
       "      <td>198.3319</td>\n",
       "      <td>10.1942</td>\n",
       "      <td>-</td>\n",
       "      <td>-</td>\n",
       "      <td>-</td>\n",
       "      <td>-</td>\n",
       "      <td>1157.7</td>\n",
       "      <td>...</td>\n",
       "      <td>0.020</td>\n",
       "      <td>14.40</td>\n",
       "      <td>0.020</td>\n",
       "      <td>14.20</td>\n",
       "      <td>0.020</td>\n",
       "      <td>14.02</td>\n",
       "      <td>0.031</td>\n",
       "      <td>60.77</td>\n",
       "      <td>16.35</td>\n",
       "      <td>J131319.00+101139.0</td>\n",
       "    </tr>\n",
       "    <tr>\n",
       "      <th>1587</th>\n",
       "      <td>2263</td>\n",
       "      <td>-</td>\n",
       "      <td>-</td>\n",
       "      <td>199.4431</td>\n",
       "      <td>-1.0381</td>\n",
       "      <td>-</td>\n",
       "      <td>-</td>\n",
       "      <td>-</td>\n",
       "      <td>-</td>\n",
       "      <td>1200.0</td>\n",
       "      <td>...</td>\n",
       "      <td>0.021</td>\n",
       "      <td>15.74</td>\n",
       "      <td>0.021</td>\n",
       "      <td>15.58</td>\n",
       "      <td>0.021</td>\n",
       "      <td>15.31</td>\n",
       "      <td>0.032</td>\n",
       "      <td>31.12</td>\n",
       "      <td>6.68</td>\n",
       "      <td>J131746.00-010217.0</td>\n",
       "    </tr>\n",
       "    <tr>\n",
       "      <th>1588</th>\n",
       "      <td>2264</td>\n",
       "      <td>-</td>\n",
       "      <td>-</td>\n",
       "      <td>199.5890</td>\n",
       "      <td>0.3468</td>\n",
       "      <td>-</td>\n",
       "      <td>-</td>\n",
       "      <td>-</td>\n",
       "      <td>-</td>\n",
       "      <td>1320.0</td>\n",
       "      <td>...</td>\n",
       "      <td>0.025</td>\n",
       "      <td>20.14</td>\n",
       "      <td>0.030</td>\n",
       "      <td>19.48</td>\n",
       "      <td>0.028</td>\n",
       "      <td>19.32</td>\n",
       "      <td>0.071</td>\n",
       "      <td>4.98</td>\n",
       "      <td>1.41</td>\n",
       "      <td>J131821.00+002048.0</td>\n",
       "    </tr>\n",
       "  </tbody>\n",
       "</table>\n",
       "<p>1589 rows × 29 columns</p>\n",
       "</div>"
      ],
      "text/plain": [
       "        ID ID_v   NGC      RA_e   Decl_e      RA_d   Decl_d    Delta     cz1  \\\n",
       "0        1    -     -  175.0771   9.0100  175.0771   9.0099   0.2414  1843.8   \n",
       "1        2    -     -  175.2362  14.0745  175.2364  14.0742   1.3461   977.9   \n",
       "2        3    -  3810  175.2449  11.4711  175.2448  11.4711   0.4809   999.3   \n",
       "3        4    -     -  175.4609  15.9737  175.4610  15.9737   0.4688   753.1   \n",
       "4        5    -     -  175.5747  14.9949  175.5793  14.9962  16.6015  1021.5   \n",
       "...    ...  ...   ...       ...      ...       ...      ...      ...     ...   \n",
       "1584  2260    -     -  196.1936  -2.8712         -        -        -       -   \n",
       "1585  2261    -     -  198.0261   5.4758         -        -        -       -   \n",
       "1586  2262    -     -  198.3319  10.1942         -        -        -       -   \n",
       "1587  2263    -     -  199.4431  -1.0381         -        -        -       -   \n",
       "1588  2264    -     -  199.5890   0.3468         -        -        -       -   \n",
       "\n",
       "         cz2  ... g_error      r r_error      i  i_error      z  z_error  \\\n",
       "0     1861.2  ...   0.020  12.75   0.020  12.33    0.020  12.01    0.031   \n",
       "1          -  ...   0.020  15.82   0.021  15.50    0.021  15.13    0.033   \n",
       "2      992.7  ...   0.020  10.50   0.020  10.24    0.020  10.01    0.031   \n",
       "3      748.5  ...   0.020  14.12   0.020  13.91    0.020  13.77    0.031   \n",
       "4          -  ...   0.020  15.42   0.021  15.08    0.021  15.52    0.037   \n",
       "...      ...  ...     ...    ...     ...    ...      ...    ...      ...   \n",
       "1584  1260.0  ...   0.021  16.13   0.021  15.90    0.021  16.05    0.037   \n",
       "1585   913.5  ...   0.021  15.83   0.021  15.90    0.021  15.76    0.034   \n",
       "1586  1157.7  ...   0.020  14.40   0.020  14.20    0.020  14.02    0.031   \n",
       "1587  1200.0  ...   0.021  15.74   0.021  15.58    0.021  15.31    0.032   \n",
       "1588  1320.0  ...   0.025  20.14   0.030  19.48    0.028  19.32    0.071   \n",
       "\n",
       "      R_Kron    R50                Jname  \n",
       "0      50.02   8.89  J114018.00+090035.0  \n",
       "1      36.20   7.59  J114056.00+140428.0  \n",
       "2     137.27  34.31  J114058.00+112815.0  \n",
       "3      26.02   5.93  J114150.00+155825.0  \n",
       "4     106.17  22.43  J114217.00+145941.0  \n",
       "...      ...    ...                  ...  \n",
       "1584   50.52  10.36  J130446.00-025216.0  \n",
       "1585   57.83  14.57  J131206.00+052832.0  \n",
       "1586   60.77  16.35  J131319.00+101139.0  \n",
       "1587   31.12   6.68  J131746.00-010217.0  \n",
       "1588    4.98   1.41  J131821.00+002048.0  \n",
       "\n",
       "[1589 rows x 29 columns]"
      ]
     },
     "execution_count": 9,
     "metadata": {},
     "output_type": "execute_result"
    }
   ],
   "source": [
    "evcc"
   ]
  },
  {
   "cell_type": "code",
   "execution_count": 26,
   "metadata": {
    "collapsed": true,
    "jupyter": {
     "outputs_hidden": true
    },
    "tags": []
   },
   "outputs": [
    {
     "data": {
      "text/html": [
       "<div>\n",
       "<style scoped>\n",
       "    .dataframe tbody tr th:only-of-type {\n",
       "        vertical-align: middle;\n",
       "    }\n",
       "\n",
       "    .dataframe tbody tr th {\n",
       "        vertical-align: top;\n",
       "    }\n",
       "\n",
       "    .dataframe thead th {\n",
       "        text-align: right;\n",
       "    }\n",
       "</style>\n",
       "<table border=\"1\" class=\"dataframe\">\n",
       "  <thead>\n",
       "    <tr style=\"text-align: right;\">\n",
       "      <th></th>\n",
       "      <th>ID</th>\n",
       "      <th>ID_v</th>\n",
       "      <th>NGC</th>\n",
       "      <th>RA_e</th>\n",
       "      <th>Decl_e</th>\n",
       "      <th>RA_d</th>\n",
       "      <th>Decl_d</th>\n",
       "      <th>Delta</th>\n",
       "      <th>cz1</th>\n",
       "      <th>cz2</th>\n",
       "      <th>...</th>\n",
       "      <th>g_error</th>\n",
       "      <th>r</th>\n",
       "      <th>r_error</th>\n",
       "      <th>i</th>\n",
       "      <th>i_error</th>\n",
       "      <th>z</th>\n",
       "      <th>z_error</th>\n",
       "      <th>R_Kron</th>\n",
       "      <th>R50</th>\n",
       "      <th>Jname</th>\n",
       "    </tr>\n",
       "  </thead>\n",
       "  <tbody>\n",
       "    <tr>\n",
       "      <th>551</th>\n",
       "      <td>552</td>\n",
       "      <td>792</td>\n",
       "      <td>4380</td>\n",
       "      <td>186.3423</td>\n",
       "      <td>10.0167</td>\n",
       "      <td>186.3423</td>\n",
       "      <td>10.0168</td>\n",
       "      <td>0.4735</td>\n",
       "      <td>957.1</td>\n",
       "      <td>963.6</td>\n",
       "      <td>...</td>\n",
       "      <td>0.020</td>\n",
       "      <td>11.28</td>\n",
       "      <td>0.020</td>\n",
       "      <td>10.89</td>\n",
       "      <td>0.020</td>\n",
       "      <td>10.63</td>\n",
       "      <td>0.031</td>\n",
       "      <td>151.05</td>\n",
       "      <td>39.16</td>\n",
       "      <td>J122522.00+100100.0</td>\n",
       "    </tr>\n",
       "    <tr>\n",
       "      <th>269</th>\n",
       "      <td>270</td>\n",
       "      <td>222</td>\n",
       "      <td>4235</td>\n",
       "      <td>184.2912</td>\n",
       "      <td>7.1915</td>\n",
       "      <td>184.2912</td>\n",
       "      <td>7.1916</td>\n",
       "      <td>0.3603</td>\n",
       "      <td>2225.1</td>\n",
       "      <td>2411.7</td>\n",
       "      <td>...</td>\n",
       "      <td>0.020</td>\n",
       "      <td>11.34</td>\n",
       "      <td>0.020</td>\n",
       "      <td>10.92</td>\n",
       "      <td>0.020</td>\n",
       "      <td>10.63</td>\n",
       "      <td>0.031</td>\n",
       "      <td>143.39</td>\n",
       "      <td>21.79</td>\n",
       "      <td>J121709.00+071129.0</td>\n",
       "    </tr>\n",
       "    <tr>\n",
       "      <th>875</th>\n",
       "      <td>876</td>\n",
       "      <td>1524</td>\n",
       "      <td>4523</td>\n",
       "      <td>188.4511</td>\n",
       "      <td>15.1681</td>\n",
       "      <td>188.4494</td>\n",
       "      <td>15.1542</td>\n",
       "      <td>50.3959</td>\n",
       "      <td>335.6</td>\n",
       "      <td>262.2</td>\n",
       "      <td>...</td>\n",
       "      <td>0.020</td>\n",
       "      <td>12.77</td>\n",
       "      <td>0.020</td>\n",
       "      <td>12.56</td>\n",
       "      <td>0.020</td>\n",
       "      <td>12.66</td>\n",
       "      <td>0.031</td>\n",
       "      <td>115.02</td>\n",
       "      <td>37.59</td>\n",
       "      <td>J123348.00+151005.0</td>\n",
       "    </tr>\n",
       "    <tr>\n",
       "      <th>1121</th>\n",
       "      <td>1122</td>\n",
       "      <td>-</td>\n",
       "      <td>-</td>\n",
       "      <td>191.1202</td>\n",
       "      <td>0.4683</td>\n",
       "      <td>191.1199</td>\n",
       "      <td>0.4681</td>\n",
       "      <td>1.2183</td>\n",
       "      <td>1209.1</td>\n",
       "      <td>1180.5</td>\n",
       "      <td>...</td>\n",
       "      <td>0.020</td>\n",
       "      <td>12.87</td>\n",
       "      <td>0.020</td>\n",
       "      <td>12.32</td>\n",
       "      <td>0.020</td>\n",
       "      <td>12.27</td>\n",
       "      <td>0.031</td>\n",
       "      <td>124.49</td>\n",
       "      <td>42.55</td>\n",
       "      <td>J124428.00+002805.0</td>\n",
       "    </tr>\n",
       "    <tr>\n",
       "      <th>1166</th>\n",
       "      <td>1167</td>\n",
       "      <td>-</td>\n",
       "      <td>4688</td>\n",
       "      <td>191.9448</td>\n",
       "      <td>4.3376</td>\n",
       "      <td>191.9458</td>\n",
       "      <td>4.3332</td>\n",
       "      <td>16.0509</td>\n",
       "      <td>968.8</td>\n",
       "      <td>-</td>\n",
       "      <td>...</td>\n",
       "      <td>0.021</td>\n",
       "      <td>12.36</td>\n",
       "      <td>0.021</td>\n",
       "      <td>12.14</td>\n",
       "      <td>0.021</td>\n",
       "      <td>12.14</td>\n",
       "      <td>0.032</td>\n",
       "      <td>127.40</td>\n",
       "      <td>39.78</td>\n",
       "      <td>J124746.00+042015.0</td>\n",
       "    </tr>\n",
       "    <tr>\n",
       "      <th>1300</th>\n",
       "      <td>1301</td>\n",
       "      <td>-</td>\n",
       "      <td>-</td>\n",
       "      <td>196.1349</td>\n",
       "      <td>-3.5732</td>\n",
       "      <td>196.1300</td>\n",
       "      <td>-3.5724</td>\n",
       "      <td>17.7638</td>\n",
       "      <td>1364.6</td>\n",
       "      <td>-</td>\n",
       "      <td>...</td>\n",
       "      <td>0.020</td>\n",
       "      <td>12.31</td>\n",
       "      <td>0.020</td>\n",
       "      <td>12.24</td>\n",
       "      <td>0.021</td>\n",
       "      <td>12.02</td>\n",
       "      <td>0.031</td>\n",
       "      <td>148.48</td>\n",
       "      <td>52.35</td>\n",
       "      <td>J130432.00-033423.0</td>\n",
       "    </tr>\n",
       "  </tbody>\n",
       "</table>\n",
       "<p>6 rows × 29 columns</p>\n",
       "</div>"
      ],
      "text/plain": [
       "        ID  ID_v   NGC      RA_e   Decl_e      RA_d   Decl_d    Delta     cz1  \\\n",
       "551    552   792  4380  186.3423  10.0167  186.3423  10.0168   0.4735   957.1   \n",
       "269    270   222  4235  184.2912   7.1915  184.2912   7.1916   0.3603  2225.1   \n",
       "875    876  1524  4523  188.4511  15.1681  188.4494  15.1542  50.3959   335.6   \n",
       "1121  1122     -     -  191.1202   0.4683  191.1199   0.4681   1.2183  1209.1   \n",
       "1166  1167     -  4688  191.9448   4.3376  191.9458   4.3332  16.0509   968.8   \n",
       "1300  1301     -     -  196.1349  -3.5732  196.1300  -3.5724  17.7638  1364.6   \n",
       "\n",
       "         cz2  ... g_error      r r_error      i  i_error      z  z_error  \\\n",
       "551    963.6  ...   0.020  11.28   0.020  10.89    0.020  10.63    0.031   \n",
       "269   2411.7  ...   0.020  11.34   0.020  10.92    0.020  10.63    0.031   \n",
       "875    262.2  ...   0.020  12.77   0.020  12.56    0.020  12.66    0.031   \n",
       "1121  1180.5  ...   0.020  12.87   0.020  12.32    0.020  12.27    0.031   \n",
       "1166       -  ...   0.021  12.36   0.021  12.14    0.021  12.14    0.032   \n",
       "1300       -  ...   0.020  12.31   0.020  12.24    0.021  12.02    0.031   \n",
       "\n",
       "      R_Kron    R50                Jname  \n",
       "551   151.05  39.16  J122522.00+100100.0  \n",
       "269   143.39  21.79  J121709.00+071129.0  \n",
       "875   115.02  37.59  J123348.00+151005.0  \n",
       "1121  124.49  42.55  J124428.00+002805.0  \n",
       "1166  127.40  39.78  J124746.00+042015.0  \n",
       "1300  148.48  52.35  J130432.00-033423.0  \n",
       "\n",
       "[6 rows x 29 columns]"
      ]
     },
     "execution_count": 26,
     "metadata": {},
     "output_type": "execute_result"
    }
   ],
   "source": [
    "evcc.iloc[[551, 269, 875, 1121, 1166, 1300]]"
   ]
  },
  {
   "cell_type": "code",
   "execution_count": 27,
   "metadata": {},
   "outputs": [],
   "source": [
    "bigid = [552, 270, 876, 1122, 1167, 1301]\n",
    "bigJ = ['J122522.00+100100.0', 'J121709.00+071129.0', 'J123348.00+151005.0', 'J124428.00+002805.0', 'J124746.00+042015.0', 'J130432.00-033423.0']"
   ]
  },
  {
   "cell_type": "code",
   "execution_count": 28,
   "metadata": {},
   "outputs": [],
   "source": [
    "e_ra = [evcc.RA_e[evcc.ID == eb].values.item() for eb in bigid]\n",
    "e_dec = [evcc.Decl_e[evcc.ID == eb].values.item() for eb in bigid]"
   ]
  },
  {
   "cell_type": "code",
   "execution_count": 29,
   "metadata": {},
   "outputs": [],
   "source": [
    "#시간으로 하면 안됨, file 이름 안 넣어도 자동으로 됨\n",
    "\n",
    "ra = e_ra\n",
    "dec = e_dec\n",
    "filters = 'gri'   # ugriz중에서 한 글자 혹은 여러글자 연달아 써도 됨 예) u, r, riz, ugz 등...\n",
    "size = 0.5     "
   ]
  },
  {
   "cell_type": "code",
   "execution_count": 6,
   "metadata": {},
   "outputs": [],
   "source": [
    "fit = 587735348564787262\n",
    "ra =  moph.ra[moph.dr7objid == fit].values.item()\n",
    "dec = moph.dec[moph.dr7objid == fit].values.item()\n",
    "filters = 'gri'   # ugriz중에서 한 글자 혹은 여러글자 연달아 써도 됨 예) u, r, riz, ugz 등...\n",
    "size = 0.7"
   ]
  },
  {
   "cell_type": "code",
   "execution_count": 7,
   "metadata": {},
   "outputs": [
    {
     "data": {
      "text/plain": [
       "(184.77292, 47.273567)"
      ]
     },
     "execution_count": 7,
     "metadata": {},
     "output_type": "execute_result"
    }
   ],
   "source": [
    "ra, dec"
   ]
  },
  {
   "cell_type": "code",
   "execution_count": 15,
   "metadata": {},
   "outputs": [],
   "source": [
    "os.chdir('/media/M86/EunSukWork/Galaxy_zoo/Sh/EVCC')"
   ]
  },
  {
   "cell_type": "code",
   "execution_count": 35,
   "metadata": {},
   "outputs": [
    {
     "data": {
      "text/plain": [
       "'/media/M86/EunSukWork/Galaxy_zoo/Sh/EVCC'"
      ]
     },
     "execution_count": 35,
     "metadata": {},
     "output_type": "execute_result"
    }
   ],
   "source": [
    "os.getcwd()"
   ]
  },
  {
   "cell_type": "code",
   "execution_count": 10,
   "metadata": {},
   "outputs": [
    {
     "data": {
      "text/plain": [
       "'J121905.00+471624.0.sh'"
      ]
     },
     "execution_count": 10,
     "metadata": {},
     "output_type": "execute_result"
    }
   ],
   "source": [
    "url = 'https://dr12.sdss.org/mosaics/script?onlyprimary=True&pixelscale=0.396&ra=%s&filters=%s&dec=%s&size=%s'% (ra, filters, dec, size)\n",
    "wget.download(url) "
   ]
  },
  {
   "cell_type": "code",
   "execution_count": 17,
   "metadata": {},
   "outputs": [
    {
     "data": {
      "text/plain": [
       "['J104207.00+134449.0-i.weight.fits',\n",
       " 'J104207.00+134449.0-g.weight.fits',\n",
       " 'J104207.00+134449.0.sh']"
      ]
     },
     "execution_count": 17,
     "metadata": {},
     "output_type": "execute_result"
    }
   ],
   "source": [
    "[_ for _ in os.listdir('/media/M86/EunSukWork/Galaxy_zoo/Sh/Big') if _[:19] == 'J104207.00+134449.0']"
   ]
  },
  {
   "cell_type": "code",
   "execution_count": 33,
   "metadata": {},
   "outputs": [
    {
     "data": {
      "text/plain": [
       "6"
      ]
     },
     "execution_count": 33,
     "metadata": {},
     "output_type": "execute_result"
    }
   ],
   "source": [
    "len(ra)"
   ]
  },
  {
   "cell_type": "code",
   "execution_count": 34,
   "metadata": {},
   "outputs": [
    {
     "name": "stderr",
     "output_type": "stream",
     "text": [
      "100%|██████████| 6/6 [00:09<00:00,  1.67s/it]\n"
     ]
    }
   ],
   "source": [
    "for i in tqdm(range(len(ra))):         \n",
    "    url = 'https://dr12.sdss.org/mosaics/script?onlyprimary=True&pixelscale=0.396&ra=%s&filters=%s&dec=%s&size=%s'% (ra[i], filters, dec[i], size)\n",
    "    wget.download(url) "
   ]
  },
  {
   "cell_type": "code",
   "execution_count": 9,
   "metadata": {},
   "outputs": [],
   "source": [
    "inbig = os.listdir('/media/M86/EunSukWork/Galaxy_zoo/Sh/Big')"
   ]
  },
  {
   "cell_type": "code",
   "execution_count": 10,
   "metadata": {},
   "outputs": [
    {
     "data": {
      "text/plain": [
       "17772"
      ]
     },
     "execution_count": 10,
     "metadata": {},
     "output_type": "execute_result"
    }
   ],
   "source": [
    "len(inbig)"
   ]
  },
  {
   "cell_type": "code",
   "execution_count": 27,
   "metadata": {},
   "outputs": [],
   "source": [
    "inbigname = [n[:-3] for n in inbig]"
   ]
  },
  {
   "cell_type": "code",
   "execution_count": 5,
   "metadata": {},
   "outputs": [],
   "source": [
    "nJevcc = pd.read_csv('/media/M86/EunSukWork/Galaxy_zoo/Sh/EVCC/doJname_evcc.csv')\n",
    "evcc = pd.read_csv('/media/M86/DATA/SDSS/GALZOO/Catalog/evcc.csv')"
   ]
  },
  {
   "cell_type": "code",
   "execution_count": 7,
   "metadata": {},
   "outputs": [],
   "source": [
    "evccid = [evcc.ID[evcc.Jname == nj].values.item() for nj in nJevcc.Jname.values]"
   ]
  },
  {
   "cell_type": "code",
   "execution_count": 15,
   "metadata": {},
   "outputs": [],
   "source": [
    "evccid = np.array(evccid)"
   ]
  },
  {
   "cell_type": "code",
   "execution_count": 16,
   "metadata": {},
   "outputs": [
    {
     "data": {
      "text/plain": [
       "array([2166,  874,  421, ...,  597,  651,  766])"
      ]
     },
     "execution_count": 16,
     "metadata": {},
     "output_type": "execute_result"
    }
   ],
   "source": [
    "evccid"
   ]
  },
  {
   "cell_type": "markdown",
   "metadata": {},
   "source": [
    "# sh 파일 실행"
   ]
  },
  {
   "cell_type": "code",
   "execution_count": 36,
   "metadata": {},
   "outputs": [],
   "source": [
    "for (file, name) in zip(bigJ, bigid):\n",
    "    os.system('bash %s.sh' % file)\n",
    "    if os.path.exists('%s-g.fits'%file):\n",
    "        os.renames('%s-g.fits'%file, '%s-g.fits'%name)\n",
    "        os.system('mv %s-g.fits /media/M86/DATA/SDSS/GALZOO/EVCC_FIT/'%name)\n",
    "    if os.path.exists('%s-r.fits'%file):\n",
    "        os.renames('%s-r.fits'%file, '%s-r.fits'%name)\n",
    "        os.system('mv %s-r.fits /media/M86/DATA/SDSS/GALZOO/EVCC_FIT/'%name)\n",
    "    if os.path.exists('%s-i.fits'%file):\n",
    "        os.renames('%s-i.fits'%file, '%s-i.fits'%name)\n",
    "        os.system('mv %s-i.fits /media/M86/DATA/SDSS/GALZOO/EVCC_FIT/'%name)"
   ]
  },
  {
   "cell_type": "code",
   "execution_count": 11,
   "metadata": {},
   "outputs": [],
   "source": [
    "file = 'J121905.00+471624.0'\n",
    "name = 588017110759243821\n",
    "os.system('bash %s.sh' % file)\n",
    "if os.path.exists('%s-g.fits'%file):\n",
    "    os.renames('%s-g.fits'%file, '%s-g.fits'%name)\n",
    "    os.system('mv %s-g.fits /media/M86/DATA/SDSS/GALZOO/BigobjFIT/'%name)\n",
    "if os.path.exists('%s-r.fits'%file):\n",
    "    os.renames('%s-r.fits'%file, '%s-r.fits'%name)\n",
    "    os.system('mv %s-r.fits /media/M86/DATA/SDSS/GALZOO/BigobjFIT/'%name)\n",
    "if os.path.exists('%s-i.fits'%file):\n",
    "    os.renames('%s-i.fits'%file, '%s-i.fits'%name)\n",
    "    os.system('mv %s-i.fits /media/M86/DATA/SDSS/GALZOO/BigobjFIT/'%name)"
   ]
  },
  {
   "cell_type": "code",
   "execution_count": 170,
   "metadata": {},
   "outputs": [],
   "source": [
    "list_f = os.listdir('/media/M86/EunSukWork/Galaxy_zoo/Fits/Gz2/')"
   ]
  },
  {
   "cell_type": "code",
   "execution_count": 171,
   "metadata": {},
   "outputs": [],
   "source": [
    "list_r = [_ for _ in list_f if _.endswith('r.fits')]"
   ]
  },
  {
   "cell_type": "code",
   "execution_count": 172,
   "metadata": {},
   "outputs": [
    {
     "data": {
      "text/plain": [
       "['587739114698768599-r.fits',\n",
       " '587742013819519101-r.fits',\n",
       " '588017565490741382-r.fits',\n",
       " '587739156582695017-r.fits',\n",
       " '587739458833416214-r.fits',\n",
       " '587738952031797385-r.fits',\n",
       " '587725993035432191-r.fits',\n",
       " '587739157112357023-r.fits',\n",
       " '587741422179385579-r.fits',\n",
       " '587726016680099968-r.fits',\n",
       " '587741816238833688-r.fits',\n",
       " '587742013269737553-r.fits',\n",
       " '587739407832383515-r.fits',\n",
       " '588010358539354256-r.fits',\n",
       " '587732582056853728-r.fits',\n",
       " '587745404152578273-r.fits',\n",
       " '588017111826956461-r.fits',\n",
       " '588010359079895255-r.fits',\n",
       " '587739843769532543-r.fits',\n",
       " '587726032780787935-r.fits',\n",
       " '587742012752134258-r.fits',\n",
       " '588010360145903812-r.fits',\n",
       " '587724649793061021-r.fits',\n",
       " '588011218596134930-r.fits',\n",
       " '587742550146023672-r.fits',\n",
       " '587741533306093843-r.fits',\n",
       " '587739647281856743-r.fits',\n",
       " '587729158973489302-r.fits',\n",
       " '587738952029896855-r.fits',\n",
       " '587739608082153488-r.fits',\n",
       " '587739809964294639-r.fits',\n",
       " '587729228764020945-r.fits',\n",
       " '587739406786166940-r.fits',\n",
       " '587739115233804519-r.fits',\n",
       " '588010879832031376-r.fits',\n",
       " '588017722253967477-r.fits',\n",
       " '587734691421880632-r.fits',\n",
       " '588017606291816500-r.fits',\n",
       " '587726014552801409-r.fits',\n",
       " '587731499724701804-r.fits',\n",
       " '587726033848041599-r.fits',\n",
       " '587725816414797881-r.fits',\n",
       " '588017977827786821-r.fits',\n",
       " '587732771575234669-r.fits',\n",
       " '588017728687964279-r.fits',\n",
       " '588016891170914405-r.fits',\n",
       " '588007004721250392-r.fits',\n",
       " '587727942422560973-r.fits',\n",
       " '588017702411763744-r.fits',\n",
       " '587742627449471089-r.fits',\n",
       " '588848898833383444-r.fits',\n",
       " '587728309634793598-r.fits',\n",
       " '587741709414563890-r.fits',\n",
       " '587739707408187553-r.fits',\n",
       " '587733398112436557-r.fits',\n",
       " '588017978377372024-r.fits',\n",
       " '587744728760647886-r.fits',\n",
       " '588848900428398906-r.fits',\n",
       " '587733080272994528-r.fits',\n",
       " '587725474418196540-r.fits',\n",
       " '587742568936833112-r.fits',\n",
       " '588017111295918202-r.fits',\n",
       " '587733432998756827-r.fits',\n",
       " '587725577501016295-r.fits',\n",
       " '587739407848243287-r.fits',\n",
       " '587732483267887217-r.fits',\n",
       " '587732772126785620-r.fits',\n",
       " '588023669173780605-r.fits',\n",
       " '587734861609894001-r.fits',\n",
       " '588295841243136007-r.fits',\n",
       " '588009372302049389-r.fits',\n",
       " '587736753005527191-r.fits',\n",
       " '587745968928325888-r.fits',\n",
       " '587733604268638524-r.fits',\n",
       " '587729751131095373-r.fits',\n",
       " '587734893824835682-r.fits',\n",
       " '587739407862071383-r.fits',\n",
       " '587739719214432379-r.fits',\n",
       " '587742627986407645-r.fits',\n",
       " '587736919969104095-r.fits',\n",
       " '587739506615713896-r.fits',\n",
       " '587745538908749961-r.fits',\n",
       " '587735349632499886-r.fits',\n",
       " '588017705082224757-r.fits',\n",
       " '587739304760967308-r.fits',\n",
       " '588017627236466818-r.fits',\n",
       " '587727942953992464-r.fits',\n",
       " '587739609175556221-r.fits',\n",
       " '587734950205849745-r.fits',\n",
       " '587725552292003939-r.fits',\n",
       " '587735665316397308-r.fits',\n",
       " '588017702411042996-r.fits',\n",
       " '587728932413046862-r.fits',\n",
       " '587735348564525141-r.fits',\n",
       " '588016841245196443-r.fits',\n",
       " '587739156578959434-r.fits',\n",
       " '587729160578596942-r.fits',\n",
       " '587732484340187427-r.fits',\n",
       " '587732152032493644-r.fits',\n",
       " '588848899368419474-r.fits',\n",
       " '587739132951789661-r.fits',\n",
       " '587739721370173619-r.fits',\n",
       " '587736809380839700-r.fits',\n",
       " '587741721210847383-r.fits',\n",
       " '587733431382835218-r.fits',\n",
       " '587738615951720606-r.fits',\n",
       " '587742775634165837-r.fits',\n",
       " '587742014350622757-r.fits',\n",
       " '588017606302564510-r.fits',\n",
       " '587744873713959377-r.fits',\n",
       " '588011124655915101-r.fits',\n",
       " '588010877688676484-r.fits',\n",
       " '588011218065293422-r.fits',\n",
       " '587742863138881614-r.fits',\n",
       " '588017627221131466-r.fits',\n",
       " '587742576457023684-r.fits',\n",
       " '587742577514774585-r.fits',\n",
       " '587732484370661536-r.fits',\n",
       " '587741602561916959-r.fits',\n",
       " '588017569242021997-r.fits',\n",
       " '587733079738810533-r.fits',\n",
       " '587732153104859273-r.fits',\n",
       " '587739720826552543-r.fits',\n",
       " '588017948283043988-r.fits',\n",
       " '588848900428792255-r.fits',\n",
       " '587745244704669835-r.fits',\n",
       " '587729158430720141-r.fits',\n",
       " '587732483832741982-r.fits',\n",
       " '588018055650083014-r.fits',\n",
       " '587732771040395409-r.fits',\n",
       " '587736941986185422-r.fits',\n",
       " '587726032780853401-r.fits',\n",
       " '587733410986328244-r.fits',\n",
       " '587748929237876890-r.fits',\n",
       " '587741531717238854-r.fits',\n",
       " '587741817858752657-r.fits',\n",
       " '588017566027415610-r.fits',\n",
       " '588023669172076778-r.fits',\n",
       " '587729229301547179-r.fits',\n",
       " '587725550142750804-r.fits',\n",
       " '587732483815702689-r.fits',\n",
       " '588017702412353616-r.fits',\n",
       " '588848898825650344-r.fits',\n",
       " '587742774015885400-r.fits',\n",
       " '588017702935789686-r.fits',\n",
       " '587732703396757671-r.fits',\n",
       " '587725576424194334-r.fits',\n",
       " '587739096449351793-r.fits',\n",
       " '587741815708057835-r.fits',\n",
       " '587726015613108379-r.fits',\n",
       " '587739158730375400-r.fits',\n",
       " '587734949670158457-r.fits',\n",
       " '587738947741483104-r.fits',\n",
       " '587739721900556347-r.fits',\n",
       " '587729776909877482-r.fits',\n",
       " '587742062670184612-r.fits',\n",
       " '587746211594567756-r.fits',\n",
       " '587735241173893360-r.fits',\n",
       " '587742567320453320-r.fits',\n",
       " '587735346952143071-r.fits',\n",
       " '587731511543660670-r.fits',\n",
       " '587732772389912834-r.fits',\n",
       " '587742061055246437-r.fits',\n",
       " '587731892187627701-r.fits',\n",
       " '587738952569585820-r.fits',\n",
       " '587734950196936842-r.fits',\n",
       " '587725470132928694-r.fits',\n",
       " '588017978348011703-r.fits',\n",
       " '587741828585226422-r.fits',\n",
       " '587739407878324293-r.fits',\n",
       " '587741489818042531-r.fits',\n",
       " '587726033334108355-r.fits',\n",
       " '587742012747612286-r.fits',\n",
       " '588017724939108519-r.fits',\n",
       " '587732050553602289-r.fits',\n",
       " '587726014541988126-r.fits',\n",
       " '587745243616444701-r.fits',\n",
       " '587726032770498749-r.fits',\n",
       " '587725550672609399-r.fits',\n",
       " '587737827293659320-r.fits',\n",
       " '587739303144980571-r.fits',\n",
       " '588017604690247811-r.fits',\n",
       " '588015510351773825-r.fits',\n",
       " '587742577513398364-r.fits',\n",
       " '587725816688410792-r.fits',\n",
       " '587736618793042416-r.fits',\n",
       " '587731512616419440-r.fits',\n",
       " '587741533306487116-r.fits',\n",
       " '587742061068157155-r.fits',\n",
       " '587742014909382993-r.fits',\n",
       " '588017713123361004-r.fits',\n",
       " '587739720314388912-r.fits',\n",
       " '587742626908995755-r.fits',\n",
       " '587735695913386089-r.fits',\n",
       " '587726033330503829-r.fits',\n",
       " '587741710495907966-r.fits',\n",
       " '587732484369350872-r.fits',\n",
       " '587739607552622662-r.fits',\n",
       " '587739707940339852-r.fits',\n",
       " '588295840706199751-r.fits',\n",
       " '587731680649871534-r.fits',\n",
       " '587732577233338481-r.fits',\n",
       " '587732582592282736-r.fits',\n",
       " '587739406776336584-r.fits',\n",
       " '587742865282236464-r.fits',\n",
       " '587741490909151415-r.fits',\n",
       " '587726033312743465-r.fits',\n",
       " '588297864182825095-r.fits',\n",
       " '588017990150651977-r.fits',\n",
       " '587742575914516586-r.fits',\n",
       " '587738570855546969-r.fits',\n",
       " '587725471208505537-r.fits',\n",
       " '588017949350297776-r.fits',\n",
       " '587726015081480350-r.fits',\n",
       " '588013382183485487-r.fits',\n",
       " '587725551213215979-r.fits',\n",
       " '588017720639488165-r.fits',\n",
       " '587725982302142653-r.fits',\n",
       " '588017726547755065-r.fits',\n",
       " '587739376154378606-r.fits',\n",
       " '588295841785708641-r.fits',\n",
       " '587725503409750293-r.fits',\n",
       " '587734690884354343-r.fits',\n",
       " '587741816772559024-r.fits',\n",
       " '587738953099575390-r.fits',\n",
       " '587722981744771250-r.fits',\n",
       " '587739304749301853-r.fits',\n",
       " '587736545236680892-r.fits',\n",
       " '587726102022258883-r.fits',\n",
       " '587726016681476231-r.fits',\n",
       " '587742014882775293-r.fits',\n",
       " '588010880371785851-r.fits',\n",
       " '588017705072394255-r.fits',\n",
       " '587725503410667663-r.fits',\n",
       " '587735695906963555-r.fits',\n",
       " '587733080811634774-r.fits',\n",
       " '587731521748795585-r.fits',\n",
       " '587722982288261152-r.fits',\n",
       " '587729776910598390-r.fits',\n",
       " '587734950199951470-r.fits',\n",
       " '587739609696174230-r.fits',\n",
       " '588017978380517588-r.fits',\n",
       " '587726032785899661-r.fits',\n",
       " '587736543626068177-r.fits',\n",
       " '588017978346111086-r.fits',\n",
       " '587739827676250181-r.fits',\n",
       " '588015508207304936-r.fits',\n",
       " '587734862685208731-r.fits',\n",
       " '587739608634097725-r.fits',\n",
       " '587735430151602319-r.fits',\n",
       " '587735240100085978-r.fits',\n",
       " '587742578059182184-r.fits',\n",
       " '587730022793478362-r.fits',\n",
       " '587728879806382234-r.fits',\n",
       " '588017626686881978-r.fits',\n",
       " '587742576994156721-r.fits',\n",
       " '588015508749418608-r.fits',\n",
       " '587742061097517266-r.fits',\n",
       " '587739407837233390-r.fits',\n",
       " '587725575886536926-r.fits',\n",
       " '587741490901418123-r.fits',\n",
       " '587741707807031445-r.fits',\n",
       " '587734948588224645-r.fits',\n",
       " '587741600415285308-r.fits',\n",
       " '587731890579963968-r.fits',\n",
       " '588017949347676302-r.fits',\n",
       " '587732578312978583-r.fits',\n",
       " '587732590641938606-r.fits',\n",
       " '588015510343909538-r.fits',\n",
       " '587742062156185744-r.fits',\n",
       " '587725550661665018-r.fits',\n",
       " '587735344801906780-r.fits',\n",
       " '588017949887037638-r.fits',\n",
       " '587738372743037486-r.fits',\n",
       " '587732771594633340-r.fits',\n",
       " '588013383256834501-r.fits',\n",
       " '587744728760909897-r.fits',\n",
       " '588017977818939532-r.fits',\n",
       " '587733604266607003-r.fits',\n",
       " '587725492137558319-r.fits',\n",
       " '587745539979739298-r.fits',\n",
       " '587742189377421502-r.fits',\n",
       " '588009365860843625-r.fits',\n",
       " '587741708860391870-r.fits',\n",
       " '587742616172495200-r.fits',\n",
       " '587736543623315601-r.fits',\n",
       " '588017720905760904-r.fits',\n",
       " '587741490368086124-r.fits',\n",
       " '587732578838446103-r.fits',\n",
       " '588010878225285287-r.fits',\n",
       " '587738569776300181-r.fits',\n",
       " '587735661548863681-r.fits',\n",
       " '588010879830786196-r.fits',\n",
       " '587738065661002091-r.fits',\n",
       " '587734864295166164-r.fits',\n",
       " '588017114514784438-r.fits',\n",
       " '588017703487995911-r.fits',\n",
       " '587732134848299126-r.fits',\n",
       " '587738568169160792-r.fits',\n",
       " '587739096993759332-r.fits',\n",
       " '587726033847779454-r.fits',\n",
       " '587735665308008682-r.fits',\n",
       " '587735346954633351-r.fits',\n",
       " '588010878227120251-r.fits',\n",
       " '587726033306321045-r.fits',\n",
       " '588010359607656594-r.fits',\n",
       " '587739610236518513-r.fits',\n",
       " '587739707943485656-r.fits',\n",
       " '588015509805727861-r.fits',\n",
       " '587742592546504771-r.fits',\n",
       " '587741603109666945-r.fits',\n",
       " '587726032780394656-r.fits',\n",
       " '588017704002257027-r.fits',\n",
       " '587734303803375850-r.fits',\n",
       " '587725469052960975-r.fits',\n",
       " '587742060550488293-r.fits',\n",
       " '587728309101789218-r.fits',\n",
       " '588017703481639125-r.fits',\n",
       " '588017626701496594-r.fits',\n",
       " '587725551732916401-r.fits',\n",
       " '587729158980436047-r.fits',\n",
       " '587741829653201036-r.fits',\n",
       " '587729157903024404-r.fits',\n",
       " '587733081884000340-r.fits',\n",
       " '587739407854207083-r.fits',\n",
       " '588017677693091982-r.fits',\n",
       " '587739814779945279-r.fits',\n",
       " '587726102557622412-r.fits',\n",
       " '588017702407241816-r.fits',\n",
       " '587736807768784987-r.fits',\n",
       " '587734862683701302-r.fits',\n",
       " '587732770517549142-r.fits',\n",
       " '587732701779919131-r.fits',\n",
       " '587732577761689978-r.fits',\n",
       " '587735349646655567-r.fits',\n",
       " '587732703398854697-r.fits',\n",
       " '587725040627220566-r.fits',\n",
       " '587734691425288232-r.fits',\n",
       " '587733604270014765-r.fits',\n",
       " '587734623240716478-r.fits',\n",
       " '587730022256017575-r.fits',\n",
       " '588017979971993751-r.fits',\n",
       " '587733080804425861-r.fits',\n",
       " '587742061072547950-r.fits',\n",
       " '587741726039998540-r.fits',\n",
       " '588017567100764339-r.fits',\n",
       " '587725470130438196-r.fits',\n",
       " '587735348564787262-r.fits',\n",
       " '587742188842516639-r.fits',\n",
       " '587736477054599415-r.fits',\n",
       " '587732771055927439-r.fits',\n",
       " '588017604138434692-r.fits',\n",
       " '588297864189575315-r.fits',\n",
       " '587742772954333298-r.fits',\n",
       " '587739406791999602-r.fits',\n",
       " '587732582056853760-r.fits',\n",
       " '587745401999917118-r.fits',\n",
       " '587739827131449486-r.fits',\n",
       " '587732702850056682-r.fits',\n",
       " '587739303145898070-r.fits',\n",
       " '587742610804048101-r.fits',\n",
       " '587741533842637118-r.fits',\n",
       " '587729387694129358-r.fits',\n",
       " '587735662624309400-r.fits',\n",
       " '588010878227382436-r.fits',\n",
       " '587731891115130961-r.fits',\n",
       " '587738950953009155-r.fits',\n",
       " '587732053235008079-r.fits',\n",
       " '587729157897257132-r.fits',\n",
       " '588023669171749027-r.fits',\n",
       " '587739707420967368-r.fits',\n",
       " '587739828214890798-r.fits',\n",
       " '588023670782558311-r.fits',\n",
       " '588010358533455944-r.fits',\n",
       " '587742611338428591-r.fits',\n",
       " '587741829116919810-r.fits',\n",
       " '587731514233454747-r.fits',\n",
       " '588017705086877706-r.fits',\n",
       " '588848900996333784-r.fits',\n",
       " '588017721720242277-r.fits',\n",
       " '588017603601236068-r.fits',\n",
       " '587736546318221352-r.fits',\n",
       " '587741708871532767-r.fits',\n",
       " '587741421100597361-r.fits',\n",
       " '587729409150222618-r.fits',\n",
       " '587742775099392120-r.fits',\n",
       " '587739610234749042-r.fits',\n",
       " '587732577763655868-r.fits',\n",
       " '588007006330355904-r.fits',\n",
       " '587736915680231757-r.fits',\n",
       " '588848898838691971-r.fits',\n",
       " '587736543630000360-r.fits',\n",
       " '587742865279746118-r.fits',\n",
       " '587738067802521611-r.fits',\n",
       " '587732470921887878-r.fits',\n",
       " '587725503409488068-r.fits',\n",
       " '587741600957464706-r.fits',\n",
       " '587742551215505620-r.fits',\n",
       " '587741709418496065-r.fits',\n",
       " '588297864179155097-r.fits',\n",
       " '587742012761833600-r.fits',\n",
       " '587742577513332827-r.fits',\n",
       " '587733604266410279-r.fits',\n",
       " '587732579384623212-r.fits',\n",
       " '587741600947503129-r.fits',\n",
       " '588017949347676276-r.fits',\n",
       " '587742611340918945-r.fits',\n",
       " '588016878829568196-r.fits',\n",
       " '587739720309932323-r.fits',\n",
       " '588016890636075151-r.fits',\n",
       " '587738572999950565-r.fits',\n",
       " '587731187277496445-r.fits',\n",
       " '587736808300871818-r.fits',\n",
       " '587742576451911765-r.fits',\n",
       " '588297863636189443-r.fits',\n",
       " '587732580977737869-r.fits',\n",
       " '587738568712192204-r.fits',\n",
       " '587732771595092042-r.fits',\n",
       " '587738616487477286-r.fits',\n",
       " '587736545237663962-r.fits',\n",
       " '587728879270232159-r.fits',\n",
       " '588023668639793267-r.fits',\n",
       " '587730022794920149-r.fits',\n",
       " '587735240903688438-r.fits',\n",
       " '587734623783944220-r.fits',\n",
       " '587741722286686282-r.fits',\n",
       " '588298663579746400-r.fits',\n",
       " '587729228756549730-r.fits',\n",
       " '587741725502669048-r.fits',\n",
       " '588848900458545247-r.fits',\n",
       " '587739648349962362-r.fits',\n",
       " '587732578846310568-r.fits',\n",
       " '588017704006910125-r.fits',\n",
       " '587725075529072837-r.fits',\n",
       " '588848899375759552-r.fits',\n",
       " '587738617023496224-r.fits',\n",
       " '587738575142518967-r.fits',\n",
       " '587739827133219054-r.fits',\n",
       " '587736782001799260-r.fits',\n",
       " '587742062147797093-r.fits',\n",
       " '587726033305338033-r.fits',\n",
       " '588017990148227140-r.fits',\n",
       " '588017703999766604-r.fits',\n",
       " '587739607554261075-r.fits',\n",
       " '587738066195972248-r.fits',\n",
       " '587736543626199210-r.fits',\n",
       " '587739809950335135-r.fits',\n",
       " '587739630633877672-r.fits',\n",
       " '587735241713451178-r.fits',\n",
       " '587736807771472150-r.fits',\n",
       " '587726101488795878-r.fits',\n",
       " '587738947730538977-r.fits',\n",
       " '588013384338833591-r.fits',\n",
       " '587742575914778897-r.fits',\n",
       " '587728308561051765-r.fits',\n",
       " '588015507667484795-r.fits',\n",
       " '587742061627572381-r.fits',\n",
       " '587738411409866824-r.fits',\n",
       " '587732702324850871-r.fits',\n",
       " '588023720174616794-r.fits',\n",
       " '587736620400050386-r.fits',\n",
       " '587735343184806048-r.fits',\n",
       " '588297863109607639-r.fits',\n",
       " '587742568393081021-r.fits',\n",
       " '587742009506725904-r.fits',\n",
       " '587729408080085020-r.fits',\n",
       " '588018056199930161-r.fits',\n",
       " '587735349099561114-r.fits',\n",
       " '587725589310537740-r.fits',\n",
       " '588016839637205235-r.fits',\n",
       " '588023669173518415-r.fits',\n",
       " '587742568390918322-r.fits',\n",
       " '588023239669579984-r.fits',\n",
       " '587742573755498572-r.fits',\n",
       " '587739376708288648-r.fits',\n",
       " '587739706340212746-r.fits',\n",
       " '588007003634794666-r.fits',\n",
       " '588017991760281814-r.fits',\n",
       " '587741828047175865-r.fits',\n",
       " '587742061595328632-r.fits',\n",
       " '588017564949479444-r.fits',\n",
       " '587736809378480287-r.fits',\n",
       " '587739507153961087-r.fits',\n",
       " '587731892186775648-r.fits',\n",
       " '587732578297380952-r.fits',\n",
       " '588017947748925578-r.fits',\n",
       " '587735043610509586-r.fits',\n",
       " '587739610230358123-r.fits',\n",
       " '588017110225190972-r.fits',\n",
       " '588015508739522739-r.fits',\n",
       " '587725552273064181-r.fits',\n",
       " '588297863109345428-r.fits',\n",
       " '587739457224769574-r.fits',\n",
       " '587732483293904933-r.fits',\n",
       " '587736915676954807-r.fits',\n",
       " '587731514225787012-r.fits',\n",
       " '587735666389745677-r.fits',\n",
       " '587728949586034855-r.fits',\n",
       " '587742062130692291-r.fits',\n",
       " '587739303684407495-r.fits',\n",
       " '587735666915147947-r.fits',\n",
       " '587739506617221250-r.fits',\n",
       " '587736781999505641-r.fits',\n",
       " '587736479205883927-r.fits',\n",
       " '587735696453664840-r.fits',\n",
       " '587733432999150009-r.fits',\n",
       " '587736809381298321-r.fits',\n",
       " '588017565485563908-r.fits',\n",
       " '588017606297387113-r.fits',\n",
       " '588017992840052851-r.fits',\n",
       " '587745244694315140-r.fits',\n",
       " '587736976351232052-r.fits',\n",
       " '587734622701879488-r.fits',\n",
       " '587738618091733111-r.fits',\n",
       " '588017724397322520-r.fits',\n",
       " '587739132951199755-r.fits',\n",
       " '588015508749811924-r.fits',\n",
       " '587729653959164188-r.fits',\n",
       " '588017567636979814-r.fits',\n",
       " '587734841741869577-r.fits',\n",
       " '587725551755657317-r.fits',\n",
       " '587739647810928842-r.fits',\n",
       " '587741723360428245-r.fits',\n",
       " '587739407332081891-r.fits',\n",
       " '587728949584855213-r.fits',\n",
       " '587731868023193700-r.fits',\n",
       " '587735042537488631-r.fits',\n",
       " '587732578832089334-r.fits',\n",
       " '588016878831534137-r.fits',\n",
       " '588017703482032186-r.fits',\n",
       " '587735236882006353-r.fits',\n",
       " '587738570321887391-r.fits',\n",
       " '587741532254240831-r.fits',\n",
       " '587729388229623861-r.fits',\n",
       " '587738617566068876-r.fits',\n",
       " '587732048413720586-r.fits',\n",
       " '587729387694129464-r.fits',\n",
       " '587741708343574670-r.fits',\n",
       " '587731870702305530-r.fits',\n",
       " '587731890574393447-r.fits',\n",
       " '587732483276472360-r.fits',\n",
       " '587745403608301868-r.fits',\n",
       " '587735696985948207-r.fits',\n",
       " '587731186730795179-r.fits',\n",
       " '588016891710734399-r.fits',\n",
       " '587741828582211641-r.fits',\n",
       " '587725469597302968-r.fits',\n",
       " '587741727124357228-r.fits',\n",
       " '587736809913712662-r.fits',\n",
       " '587741600411877382-r.fits',\n",
       " '588017721180881076-r.fits',\n",
       " '587741391036219582-r.fits',\n",
       " '588016892243738699-r.fits',\n",
       " '587729160040677494-r.fits',\n",
       " '587733410987507854-r.fits',\n",
       " '588007005791912118-r.fits',\n",
       " '587728905026339189-r.fits',\n",
       " '587741828045275330-r.fits',\n",
       " '587733079200235542-r.fits',\n",
       " '587741489281761549-r.fits',\n",
       " '587742013289267369-r.fits',\n",
       " '588018056196325674-r.fits',\n",
       " '588013383265091903-r.fits',\n",
       " '587732053771289067-r.fits',\n",
       " '588848899898867739-r.fits',\n",
       " '587728308566360330-r.fits',\n",
       " '587729409159201535-r.fits',\n",
       " '587738946662367502-r.fits',\n",
       " '587745401994871460-r.fits',\n",
       " '587739130812498138-r.fits',\n",
       " '587725980150726781-r.fits',\n",
       " '587724649263005920-r.fits',\n",
       " '587732702315413745-r.fits',\n",
       " '587731870705975437-r.fits',\n",
       " '588010357997043839-r.fits',\n",
       " '587732050551636178-r.fits',\n",
       " '587738617567248546-r.fits',\n",
       " '588017606299549823-r.fits',\n",
       " '588016878830289050-r.fits',\n",
       " '587741722820345999-r.fits',\n",
       " '587729229300826315-r.fits',\n",
       " '588010360160649434-r.fits',\n",
       " '587735348040564937-r.fits',\n",
       " '587745244705390708-r.fits',\n",
       " '588013384356397175-r.fits',\n",
       " '588007005809017186-r.fits',\n",
       " '588007004728721587-r.fits',\n",
       " '588017110759637159-r.fits',\n",
       " '588017704540110960-r.fits',\n",
       " '588009371761180789-r.fits',\n",
       " '587734948594450442-r.fits',\n",
       " '587735695368192159-r.fits',\n",
       " '587734305419362510-r.fits',\n",
       " '587739304755462188-r.fits',\n",
       " '587734949121032496-r.fits',\n",
       " '587739845386305696-r.fits',\n",
       " '587742060561433007-r.fits',\n",
       " '587731174917014184-r.fits',\n",
       " '588848900973461606-r.fits',\n",
       " '587735696442261561-r.fits',\n",
       " '587748928165642410-r.fits',\n",
       " '587742578061934743-r.fits',\n",
       " '587736543090114953-r.fits',\n",
       " '587739407325659232-r.fits',\n",
       " '588017112368545917-r.fits',\n",
       " '587727944568602816-r.fits',\n",
       " '587733604255662229-r.fits',\n",
       " '587736479197495397-r.fits',\n",
       " '587735488671776905-r.fits',\n",
       " '588017626157219963-r.fits',\n",
       " '587741490374705355-r.fits',\n",
       " '588017977825886338-r.fits',\n",
       " '588017720113234014-r.fits',\n",
       " '588017978353975416-r.fits',\n",
       " '587739382058909817-r.fits',\n",
       " '587742902869295230-r.fits',\n",
       " '587735043072983369-r.fits',\n",
       " '587736542029611537-r.fits',\n",
       " '587733604795613260-r.fits',\n",
       " '587735348024967365-r.fits',\n",
       " '587735664773955688-r.fits',\n",
       " '587742060551864441-r.fits',\n",
       " '587739303686111335-r.fits',\n",
       " '587742189361168549-r.fits',\n",
       " '587742566777815122-r.fits',\n",
       " '588018055650017397-r.fits',\n",
       " '587734305949089967-r.fits',\n",
       " '587741534398185582-r.fits',\n",
       " '587739707403337872-r.fits',\n",
       " '587742572147769357-r.fits',\n",
       " '587726032779870321-r.fits',\n",
       " '587728880346202248-r.fits',\n",
       " '587741488765993123-r.fits',\n",
       " '587738409791193279-r.fits',\n",
       " '587739631706570918-r.fits',\n",
       " '588848900439801984-r.fits',\n",
       " '588010359087038500-r.fits',\n",
       " '587733079742283987-r.fits',\n",
       " '587725041699586140-r.fits',\n",
       " '588018252687409474-r.fits',\n",
       " '588015509813657703-r.fits',\n",
       " '587742863133638810-r.fits',\n",
       " '587729388217368721-r.fits',\n",
       " '587742626911944779-r.fits',\n",
       " '587726014535827499-r.fits',\n",
       " '587742012758491223-r.fits',\n",
       " '588015509810708561-r.fits',\n",
       " '587736586055647337-r.fits',\n",
       " '587729154670657668-r.fits',\n",
       " '588017979956985953-r.fits',\n",
       " '587726032770236656-r.fits',\n",
       " '587742593085145263-r.fits',\n",
       " '587742627988963488-r.fits',\n",
       " '587741600947961984-r.fits',\n",
       " '587725816950161518-r.fits',\n",
       " '588017702918815860-r.fits',\n",
       " '588017729765113982-r.fits',\n",
       " '587741421633732762-r.fits',\n",
       " '587728878734606412-r.fits',\n",
       " '587729388229361672-r.fits',\n",
       " '587738568700985473-r.fits',\n",
       " '587734622176149705-r.fits',\n",
       " '587738946659221657-r.fits',\n",
       " '587731912574107830-r.fits',\n",
       " '588013382728941691-r.fits',\n",
       " '588017110224797815-r.fits',\n",
       " '587736753549410944-r.fits',\n",
       " '587736808307097705-r.fits',\n",
       " '587735665855103215-r.fits',\n",
       " '587728669338042527-r.fits',\n",
       " '587734623240519926-r.fits',\n",
       " '587742060554027263-r.fits',\n",
       " '587725552277455025-r.fits',\n",
       " '587745539434676641-r.fits',\n",
       " '588011124656898112-r.fits',\n",
       " '588848899354525998-r.fits',\n",
       " '588017726554898512-r.fits',\n",
       " '587742189372375174-r.fits',\n",
       " '587735662090059845-r.fits',\n",
       " '587742627450978328-r.fits',\n",
       " '587726032796647547-r.fits',\n",
       " '587742188826984540-r.fits',\n",
       " '587745538911568092-r.fits',\n",
       " '588010359065149677-r.fits',\n",
       " '587729387147690183-r.fits',\n",
       " '587742567862698042-r.fits',\n",
       " '587734303264932103-r.fits',\n",
       " '587727865645039682-r.fits',\n",
       " '587725550141702211-r.fits',\n",
       " '587731512617926735-r.fits',\n",
       " '587739810498412879-r.fits',\n",
       " '587738066724979110-r.fits',\n",
       " '588015510362193934-r.fits',\n",
       " '588007004701851873-r.fits',\n",
       " '587731185133879331-r.fits',\n",
       " '588848899367895255-r.fits',\n",
       " '587725491598393612-r.fits',\n",
       " '587742954934829217-r.fits',\n",
       " '587741817861898455-r.fits',\n",
       " '587739646737317948-r.fits',\n",
       " '587734948587831474-r.fits',\n",
       " '587737810646401091-r.fits',\n",
       " '588298663041630293-r.fits',\n",
       " '587725552273129630-r.fits',\n",
       " '587734948579508599-r.fits',\n",
       " '588011218062737546-r.fits',\n",
       " '587725076069679210-r.fits',\n",
       " '587742610806472916-r.fits',\n",
       " '587739382062973086-r.fits',\n",
       " '587734949128175827-r.fits',\n",
       " '588007006312005776-r.fits',\n",
       " '587734622174773444-r.fits',\n",
       " '587741721752371310-r.fits',\n",
       " '587741817324634263-r.fits',\n",
       " '587732470923002146-r.fits',\n",
       " '587732134309462099-r.fits',\n",
       " '588297864193245311-r.fits',\n",
       " '587725589847408683-r.fits',\n",
       " '587742061082706012-r.fits',\n",
       " '588017978380845399-r.fits',\n",
       " '588017949345710240-r.fits',\n",
       " '587728950124216525-r.fits',\n",
       " '588023669168930909-r.fits',\n",
       " '587738411408818335-r.fits',\n",
       " '587735349092810961-r.fits',\n",
       " '588009368545198201-r.fits',\n",
       " '587738947203629248-r.fits',\n",
       " '588015510340108456-r.fits',\n",
       " '587741602026881165-r.fits',\n",
       " '587738372745855316-r.fits',\n",
       " '588015508740046959-r.fits',\n",
       " '587735349634334916-r.fits',\n",
       " '588017978364461087-r.fits',\n",
       " '587745243093008424-r.fits',\n",
       " '587739381520662648-r.fits',\n",
       " '587729773147258910-r.fits',\n",
       " '587736963994091721-r.fits',\n",
       " '587742061606731963-r.fits',\n",
       " '588017702392365209-r.fits',\n",
       " '587731869627711591-r.fits',\n",
       " '588017115052376076-r.fits',\n",
       " '587742189900398794-r.fits',\n",
       " '587741532768633044-r.fits',\n",
       " '587739459371204625-r.fits',\n",
       " '587742865281712190-r.fits',\n",
       " '587733441050771619-r.fits',\n",
       " '587742013292282012-r.fits',\n",
       " '587735666383323324-r.fits',\n",
       " '587741709414039716-r.fits',\n",
       " '587733080815894534-r.fits',\n",
       " '588017720109432965-r.fits',\n",
       " '587739721384329623-r.fits',\n",
       " '587745243631255718-r.fits',\n",
       " '587725041706991800-r.fits',\n",
       " '588018091086774508-r.fits',\n",
       " '587732772653957258-r.fits',\n",
       " '588017705074491482-r.fits',\n",
       " '588015508752761004-r.fits',\n",
       " '588017712587342004-r.fits',\n",
       " '587735661549650109-r.fits',\n",
       " '587735694831321216-r.fits',\n",
       " '588017115056046140-r.fits',\n",
       " '587739380984447036-r.fits',\n",
       " '588017605215649936-r.fits',\n",
       " '588011123039273039-r.fits',\n",
       " '588010358001041557-r.fits',\n",
       " '587738196110082163-r.fits',\n",
       " '587722982294094056-r.fits',\n",
       " '587731500798443666-r.fits',\n",
       " '587738615952179297-r.fits',\n",
       " '588018254302806432-r.fits',\n",
       " '587742567320322124-r.fits',\n",
       " '587728930795159822-r.fits',\n",
       " '587738617026117716-r.fits',\n",
       " '587733079738155088-r.fits',\n",
       " '587742578068750468-r.fits',\n",
       " '587729970714313001-r.fits',\n",
       " '588297865256960089-r.fits',\n",
       " '588017626159054944-r.fits',\n",
       " '587727943489159422-r.fits',\n",
       " '587739504474783841-r.fits',\n",
       " '587732136988639349-r.fits',\n",
       " '587729781738635930-r.fits',\n",
       " '587731185135190173-r.fits',\n",
       " '587736804009902178-r.fits',\n",
       " '587729385541861407-r.fits',\n",
       " '587729233057022161-r.fits',\n",
       " '587735696980901976-r.fits',\n",
       " '587739097524011147-r.fits',\n",
       " '587742774554198184-r.fits',\n",
       " '588017977799213323-r.fits',\n",
       " '587722982818578601-r.fits',\n",
       " '587745541045158264-r.fits',\n",
       " '587731868558229559-r.fits',\n",
       " '588010358541779191-r.fits',\n",
       " '587729231977447488-r.fits',\n",
       " '587736543094964449-r.fits',\n",
       " '587726102021144783-r.fits',\n",
       " '588848899369992368-r.fits',\n",
       " '587736546847555662-r.fits',\n",
       " '587739811559505999-r.fits',\n",
       " '587738568175517863-r.fits',\n",
       " '588017948283240623-r.fits',\n",
       " '588016879902916838-r.fits',\n",
       " '588848899362193487-r.fits',\n",
       " '587739648892862532-r.fits',\n",
       " '587732701791715516-r.fits',\n",
       " '587739133488136220-r.fits',\n",
       " '587741391030255840-r.fits',\n",
       " '587739809964753089-r.fits',\n",
       " '587739406258274467-r.fits',\n",
       " '588295841243529272-r.fits',\n",
       " '588017704023294274-r.fits',\n",
       " '588018254833254598-r.fits',\n",
       " '588011101565485207-r.fits',\n",
       " '587741534399692813-r.fits',\n",
       " '588297863657488449-r.fits',\n",
       " '587735348032897294-r.fits',\n",
       " '587741726575820892-r.fits',\n",
       " '587736524833423693-r.fits',\n",
       " '587735661552533638-r.fits',\n",
       " '587732578848931910-r.fits',\n",
       " '587739843773726937-r.fits',\n",
       " '588017109680652388-r.fits',\n",
       " '587735348035125468-r.fits',\n",
       " '587742775627939933-r.fits',\n",
       " '587742902331113720-r.fits',\n",
       " '587741421634847008-r.fits',\n",
       " '587736916750172345-r.fits',\n",
       " '588295841247789163-r.fits',\n",
       " '587739166237851766-r.fits',\n",
       " '587735695912992870-r.fits',\n",
       " '587738947220733979-r.fits',\n",
       " '587738947735453954-r.fits',\n",
       " '588848900987486248-r.fits',\n",
       " '587734892757057618-r.fits',\n",
       " '587745244704211125-r.fits',\n",
       " '587729409158742601-r.fits',\n",
       " '587728917371551836-r.fits',\n",
       " '587729231978496056-r.fits',\n",
       " '588017705074819119-r.fits',\n",
       " '587732048951050392-r.fits',\n",
       " '587737809575673911-r.fits',\n",
       " '588023046409748546-r.fits',\n",
       " '588017948285337761-r.fits',\n",
       " '587732578307539026-r.fits',\n",
       " '587741727111053441-r.fits',\n",
       " '587731913110323392-r.fits',\n",
       " '587732771589718197-r.fits',\n",
       " '587741726039670898-r.fits',\n",
       " '587735347494649878-r.fits',\n",
       " '587742190442709049-r.fits',\n",
       " '588018056186888536-r.fits',\n",
       " '587736919435116577-r.fits',\n",
       " '587729773680722144-r.fits',\n",
       " '587732135381368968-r.fits',\n",
       " '587741531712389245-r.fits',\n",
       " '588848900443865288-r.fits',\n",
       " '588017702383386760-r.fits',\n",
       " '587728948511703406-r.fits',\n",
       " '587728930270412891-r.fits',\n",
       " '587734691962880214-r.fits',\n",
       " '587742015441272930-r.fits',\n",
       " '587731512083021932-r.fits',\n",
       " '587742012746498140-r.fits',\n",
       " '588013382735298681-r.fits',\n",
       " '587739457763475604-r.fits',\n",
       " '588017571385639071-r.fits',\n",
       " '587735694837481557-r.fits',\n",
       " '587735348018151622-r.fits',\n",
       " '588297863655784541-r.fits',\n",
       " '587738410866901145-r.fits',\n",
       " '587725576423276819-r.fits',\n",
       " '587735491360194619-r.fits',\n",
       " '587736547385868590-r.fits',\n",
       " '587742010044973328-r.fits',\n",
       " '587738947211362373-r.fits',\n",
       " '587739827677495436-r.fits',\n",
       " '587729160045396133-r.fits',\n",
       " '587742865820287047-r.fits',\n",
       " '587739131341897867-r.fits',\n",
       " '587739719760216284-r.fits',\n",
       " '588017627238695074-r.fits',\n",
       " '587725074995413163-r.fits',\n",
       " '587725551200305355-r.fits',\n",
       " '587739648346292253-r.fits',\n",
       " '588010879303286813-r.fits',\n",
       " '587734893288489049-r.fits',\n",
       " '587742062681260197-r.fits',\n",
       " '587732701777363002-r.fits',\n",
       " '588017704002125966-r.fits',\n",
       " '587739296161595507-r.fits',\n",
       " '587745243095498843-r.fits',\n",
       " '587745402001686675-r.fits',\n",
       " '587729386618028047-r.fits',\n",
       " '587732134308675698-r.fits',\n",
       " '587741707808276542-r.fits',\n",
       " '587725818023444650-r.fits',\n",
       " '587739810485633217-r.fits',\n",
       " '587742774020800602-r.fits',\n",
       " '587739506089197746-r.fits',\n",
       " '587733442127987104-r.fits',\n",
       " '587739132421734574-r.fits',\n",
       " '588010878764843140-r.fits',\n",
       " '587741568198639715-r.fits',\n",
       " '587736619868422402-r.fits',\n",
       " '587731870708924454-r.fits',\n",
       " '587741828579721331-r.fits',\n",
       " '588017947748794440-r.fits',\n",
       " '588017604698505335-r.fits',\n",
       " '588017113975160917-r.fits',\n",
       " '588017726020124789-r.fits',\n",
       " '587742644626784732-r.fits',\n",
       " '587735696987259064-r.fits',\n",
       " '587731186738790493-r.fits',\n",
       " '588017565482025066-r.fits',\n",
       " '587745539444375630-r.fits',\n",
       " '588015508741750903-r.fits',\n",
       " '587733605328945306-r.fits',\n",
       " '587741422177026189-r.fits',\n",
       " '588017977814876328-r.fits',\n",
       " '588295841245167763-r.fits',\n",
       " '587741600947568680-r.fits',\n",
       " '587742550679879839-r.fits',\n",
       " '588017606291816593-r.fits',\n",
       " '588017979421819026-r.fits',\n",
       " '587741533852401675-r.fits',\n",
       " '587734862684029016-r.fits',\n",
       " '587729160044150956-r.fits',\n",
       " '587725552807772319-r.fits',\n",
       " '587731889500258410-r.fits',\n",
       " '588016879367487697-r.fits',\n",
       " '588013383284490390-r.fits',\n",
       " '587742888898986304-r.fits',\n",
       " '588015510343909563-r.fits',\n",
       " '587739304757231689-r.fits',\n",
       " '587748929239711890-r.fits',\n",
       " '587742062134952063-r.fits',\n",
       " '587737808493412719-r.fits',\n",
       " '587739721370239150-r.fits',\n",
       " '587735666918293639-r.fits',\n",
       " '588023720173043847-r.fits',\n",
       " '587739380460486784-r.fits',\n",
       " '587731172234428510-r.fits',\n",
       " '587726016158498956-r.fits',\n",
       " '587728880868720963-r.fits',\n",
       " '587733424406659216-r.fits',\n",
       " '587738946129625192-r.fits',\n",
       " '587739647277072489-r.fits',\n",
       " '587736809919283393-r.fits',\n",
       " '587739384742543642-r.fits',\n",
       " '587742550139469952-r.fits',\n",
       " '587735348551417899-r.fits',\n",
       " '587733609625092339-r.fits',\n",
       " '588015507655753818-r.fits',\n",
       " '587732135377305726-r.fits',\n",
       " '588007003635253376-r.fits',\n",
       " '587725773993345075-r.fits',\n",
       " '588848898838429877-r.fits',\n",
       " '587739407316877443-r.fits',\n",
       " '588017990683787467-r.fits',\n",
       " '588015507665453212-r.fits',\n",
       " '587746209446756576-r.fits',\n",
       " '587735662089666762-r.fits',\n",
       " '587739828734328837-r.fits',\n",
       " '587731511546282098-r.fits',\n",
       " '587732471459807490-r.fits',\n",
       " '588017724931833912-r.fits',\n",
       " '587742013271965816-r.fits',\n",
       " '587732053244575993-r.fits',\n",
       " '587735697523540144-r.fits',\n",
       " '587736977416913056-r.fits',\n",
       " '588017977831194713-r.fits',\n",
       " '587741601501347944-r.fits',\n",
       " '587736975268708515-r.fits',\n",
       " '588017728156991585-r.fits',\n",
       " '587736547383574756-r.fits',\n",
       " '587742062691680408-r.fits',\n",
       " '587725039552561266-r.fits',\n",
       " '587729387143757827-r.fits',\n",
       " '588017948291694794-r.fits',\n",
       " '587742014349902043-r.fits',\n",
       " '587726015075254466-r.fits',\n",
       " '587742903401054333-r.fits',\n",
       " '587739843775168657-r.fits',\n",
       " '587733081352503392-r.fits',\n",
       " '588017704018575543-r.fits',\n",
       " '587739719764344996-r.fits',\n",
       " '587739377242013801-r.fits',\n",
       " '588295842317598793-r.fits',\n",
       " '587732577774469279-r.fits',\n",
       " '587739609158451344-r.fits',\n",
       " '587728309103231063-r.fits',\n",
       " '588010879295422604-r.fits',\n",
       " '587742572686868612-r.fits',\n",
       " '587741727651397802-r.fits',\n",
       " '587742061623050337-r.fits',\n",
       " '587739814243926208-r.fits',\n",
       " '587726033328472076-r.fits',\n",
       " '588017603624698175-r.fits',\n",
       " ...]"
      ]
     },
     "execution_count": 172,
     "metadata": {},
     "output_type": "execute_result"
    }
   ],
   "source": [
    "list_r"
   ]
  },
  {
   "cell_type": "code",
   "execution_count": 177,
   "metadata": {},
   "outputs": [
    {
     "data": {
      "text/plain": [
       "array([587736915149980032, 587729159518880060, 587733410451947796, ...,\n",
       "       587739845925535877, 587739131889975626, 588018054582829148])"
      ]
     },
     "execution_count": 177,
     "metadata": {},
     "output_type": "execute_result"
    }
   ],
   "source": [
    "non_df['dr7objid'].values"
   ]
  },
  {
   "cell_type": "code",
   "execution_count": 24,
   "metadata": {},
   "outputs": [
    {
     "data": {
      "text/plain": [
       "242767    587731187277627630\n",
       "Name: dr7objid, dtype: int64"
      ]
     },
     "execution_count": 24,
     "metadata": {},
     "output_type": "execute_result"
    }
   ],
   "source": [
    "gz2_list['dr7objid'][-2:-1]"
   ]
  },
  {
   "cell_type": "code",
   "execution_count": 29,
   "metadata": {},
   "outputs": [
    {
     "data": {
      "text/html": [
       "<div>\n",
       "<style scoped>\n",
       "    .dataframe tbody tr th:only-of-type {\n",
       "        vertical-align: middle;\n",
       "    }\n",
       "\n",
       "    .dataframe tbody tr th {\n",
       "        vertical-align: top;\n",
       "    }\n",
       "\n",
       "    .dataframe thead th {\n",
       "        text-align: right;\n",
       "    }\n",
       "</style>\n",
       "<table border=\"1\" class=\"dataframe\">\n",
       "  <thead>\n",
       "    <tr style=\"text-align: right;\">\n",
       "      <th></th>\n",
       "      <th>0</th>\n",
       "    </tr>\n",
       "  </thead>\n",
       "  <tbody>\n",
       "    <tr>\n",
       "      <th>192555</th>\n",
       "      <td>587731187277627636-r.fits</td>\n",
       "    </tr>\n",
       "  </tbody>\n",
       "</table>\n",
       "</div>"
      ],
      "text/plain": [
       "                                0\n",
       "192555  587731187277627636-r.fits"
      ]
     },
     "execution_count": 29,
     "metadata": {},
     "output_type": "execute_result"
    }
   ],
   "source": [
    "dfr[dfr[0] == '%s-r.fits'%587731187277627636]"
   ]
  },
  {
   "cell_type": "code",
   "execution_count": 7,
   "metadata": {},
   "outputs": [],
   "source": [
    "dfr = pd.DataFrame(list_r)"
   ]
  },
  {
   "cell_type": "code",
   "execution_count": 77,
   "metadata": {},
   "outputs": [
    {
     "data": {
      "text/plain": [
       "(220692, 242769, 21772)"
      ]
     },
     "execution_count": 77,
     "metadata": {},
     "output_type": "execute_result"
    }
   ],
   "source": [
    "len(dfr), len(gz2_list), len(gz2_list_d)-len(dfr)"
   ]
  },
  {
   "cell_type": "code",
   "execution_count": 53,
   "metadata": {},
   "outputs": [],
   "source": [
    "gz2_list_d = gz2_list.drop_duplicates('dr7objid')"
   ]
  },
  {
   "cell_type": "code",
   "execution_count": 55,
   "metadata": {},
   "outputs": [
    {
     "data": {
      "text/plain": [
       "Series([], Name: dr7objid, dtype: int64)"
      ]
     },
     "execution_count": 55,
     "metadata": {},
     "output_type": "execute_result"
    }
   ],
   "source": [
    "gz2_list_d['dr7objid'][gz2_list_d.duplicated('dr7objid')]"
   ]
  },
  {
   "cell_type": "code",
   "execution_count": 58,
   "metadata": {},
   "outputs": [
    {
     "data": {
      "text/plain": [
       "array(['587739114698768599-r.fits', '587742013819519101-r.fits',\n",
       "       '588017565490741382-r.fits', ..., '587735349096349985-r.fits',\n",
       "       '587745540521590923-r.fits', '588017978339622989-r.fits'],\n",
       "      dtype=object)"
      ]
     },
     "execution_count": 58,
     "metadata": {},
     "output_type": "execute_result"
    }
   ],
   "source": [
    "dfr[0].values"
   ]
  },
  {
   "cell_type": "code",
   "execution_count": 66,
   "metadata": {},
   "outputs": [],
   "source": [
    "dr_list = []\n",
    "for dr in gz2_list_d['dr7objid']:\n",
    "    dr_list += ['%s-r.fits'%dr]"
   ]
  },
  {
   "cell_type": "code",
   "execution_count": 67,
   "metadata": {},
   "outputs": [
    {
     "data": {
      "text/plain": [
       "242464"
      ]
     },
     "execution_count": 67,
     "metadata": {},
     "output_type": "execute_result"
    }
   ],
   "source": [
    "len(dr_list)"
   ]
  },
  {
   "cell_type": "code",
   "execution_count": 92,
   "metadata": {},
   "outputs": [],
   "source": [
    "non_list = list(set(dr_list)-set(dfr[0].values))"
   ]
  },
  {
   "cell_type": "code",
   "execution_count": 127,
   "metadata": {},
   "outputs": [],
   "source": [
    "non_sh = []\n",
    "for nl in non_list:\n",
    "    non_sh += ['%s.sh'%gz2_list_d['Jname'][gz2_list_d['dr7objid'] == int(nl[:-7])].values[0]]"
   ]
  },
  {
   "cell_type": "code",
   "execution_count": 135,
   "metadata": {},
   "outputs": [
    {
     "data": {
      "text/plain": [
       "True"
      ]
     },
     "execution_count": 135,
     "metadata": {},
     "output_type": "execute_result"
    }
   ],
   "source": [
    "non_sh[-1] == '%s.sh'%gz2_list_d['Jname'][gz2_list_d['dr7objid'] == int(non_list[-1][:-7])].values[0]"
   ]
  },
  {
   "cell_type": "code",
   "execution_count": 137,
   "metadata": {},
   "outputs": [],
   "source": [
    "non_df = pd.DataFrame(non_list, columns=['dr7objid'])"
   ]
  },
  {
   "cell_type": "code",
   "execution_count": 142,
   "metadata": {},
   "outputs": [],
   "source": [
    "non = []\n",
    "for nl in non_list:\n",
    "    non += [int(nl[:-7])]"
   ]
  },
  {
   "cell_type": "code",
   "execution_count": 159,
   "metadata": {},
   "outputs": [
    {
     "data": {
      "text/plain": [
       "21779"
      ]
     },
     "execution_count": 159,
     "metadata": {},
     "output_type": "execute_result"
    }
   ],
   "source": [
    "len(non_df)"
   ]
  },
  {
   "cell_type": "code",
   "execution_count": 161,
   "metadata": {},
   "outputs": [
    {
     "data": {
      "text/plain": [
       "True"
      ]
     },
     "execution_count": 161,
     "metadata": {},
     "output_type": "execute_result"
    }
   ],
   "source": [
    "non_df['Jname'][21778] == '%s.sh'%gz2_list_d['Jname'][gz2_list_d['dr7objid'] == non_df['dr7objid'][21778]].values[0]"
   ]
  },
  {
   "cell_type": "code",
   "execution_count": 168,
   "metadata": {},
   "outputs": [],
   "source": [
    "non_df.to_csv('/media/M86/EunSukWork/Galaxy_zoo/non_list.csv', index=False)"
   ]
  },
  {
   "cell_type": "code",
   "execution_count": 164,
   "metadata": {},
   "outputs": [
    {
     "data": {
      "text/plain": [
       "('J155422.00+083415.0.sh', 587736915149980032)"
      ]
     },
     "execution_count": 164,
     "metadata": {},
     "output_type": "execute_result"
    }
   ],
   "source": [
    "non_df['Jname'][0], non_df['dr7objid'][0]"
   ]
  },
  {
   "cell_type": "code",
   "execution_count": 178,
   "metadata": {},
   "outputs": [
    {
     "data": {
      "text/html": [
       "<div>\n",
       "<style scoped>\n",
       "    .dataframe tbody tr th:only-of-type {\n",
       "        vertical-align: middle;\n",
       "    }\n",
       "\n",
       "    .dataframe tbody tr th {\n",
       "        vertical-align: top;\n",
       "    }\n",
       "\n",
       "    .dataframe thead th {\n",
       "        text-align: right;\n",
       "    }\n",
       "</style>\n",
       "<table border=\"1\" class=\"dataframe\">\n",
       "  <thead>\n",
       "    <tr style=\"text-align: right;\">\n",
       "      <th></th>\n",
       "      <th>dr7objid</th>\n",
       "      <th>Jname</th>\n",
       "    </tr>\n",
       "  </thead>\n",
       "  <tbody>\n",
       "    <tr>\n",
       "      <th>0</th>\n",
       "      <td>587736915149980032</td>\n",
       "      <td>J155422.00+083415.0.sh</td>\n",
       "    </tr>\n",
       "    <tr>\n",
       "      <th>1</th>\n",
       "      <td>587729159518880060</td>\n",
       "      <td>J152136.00+034757.0.sh</td>\n",
       "    </tr>\n",
       "    <tr>\n",
       "      <th>2</th>\n",
       "      <td>587733410451947796</td>\n",
       "      <td>J152410.00+440618.0.sh</td>\n",
       "    </tr>\n",
       "    <tr>\n",
       "      <th>3</th>\n",
       "      <td>587729748448641383</td>\n",
       "      <td>J152156.00+022039.0.sh</td>\n",
       "    </tr>\n",
       "    <tr>\n",
       "      <th>4</th>\n",
       "      <td>587736915149914502</td>\n",
       "      <td>J155403.00+083330.0.sh</td>\n",
       "    </tr>\n",
       "    <tr>\n",
       "      <th>...</th>\n",
       "      <td>...</td>\n",
       "      <td>...</td>\n",
       "    </tr>\n",
       "    <tr>\n",
       "      <th>21774</th>\n",
       "      <td>587728919524933742</td>\n",
       "      <td>J151853.00+572349.0.sh</td>\n",
       "    </tr>\n",
       "    <tr>\n",
       "      <th>21775</th>\n",
       "      <td>587736584972861604</td>\n",
       "      <td>J154150.00+295505.0.sh</td>\n",
       "    </tr>\n",
       "    <tr>\n",
       "      <th>21776</th>\n",
       "      <td>587739845925535877</td>\n",
       "      <td>J152053.00+190200.0.sh</td>\n",
       "    </tr>\n",
       "    <tr>\n",
       "      <th>21777</th>\n",
       "      <td>587739131889975626</td>\n",
       "      <td>J153544.00+263710.0.sh</td>\n",
       "    </tr>\n",
       "    <tr>\n",
       "      <th>21778</th>\n",
       "      <td>588018054582829148</td>\n",
       "      <td>J153116.00+400517.0.sh</td>\n",
       "    </tr>\n",
       "  </tbody>\n",
       "</table>\n",
       "<p>21779 rows × 2 columns</p>\n",
       "</div>"
      ],
      "text/plain": [
       "                 dr7objid                   Jname\n",
       "0      587736915149980032  J155422.00+083415.0.sh\n",
       "1      587729159518880060  J152136.00+034757.0.sh\n",
       "2      587733410451947796  J152410.00+440618.0.sh\n",
       "3      587729748448641383  J152156.00+022039.0.sh\n",
       "4      587736915149914502  J155403.00+083330.0.sh\n",
       "...                   ...                     ...\n",
       "21774  587728919524933742  J151853.00+572349.0.sh\n",
       "21775  587736584972861604  J154150.00+295505.0.sh\n",
       "21776  587739845925535877  J152053.00+190200.0.sh\n",
       "21777  587739131889975626  J153544.00+263710.0.sh\n",
       "21778  588018054582829148  J153116.00+400517.0.sh\n",
       "\n",
       "[21779 rows x 2 columns]"
      ]
     },
     "execution_count": 178,
     "metadata": {},
     "output_type": "execute_result"
    }
   ],
   "source": [
    "non_df"
   ]
  },
  {
   "cell_type": "code",
   "execution_count": 169,
   "metadata": {},
   "outputs": [],
   "source": [
    "os.chdir('/media/M86/EunSukWork/Galaxy_zoo/Trash/')\n",
    "\n",
    "for (file, name) in zip(non_df['Jname'][30:], non_df['dr7objid'][30:]):\n",
    "    os.system('bash /media/M86/EunSukWork/Galaxy_zoo/Sh/Gz2/%s' % file)\n",
    "    if os.path.exists('/media/M86/EunSukWork/Galaxy_zoo/Trash/%s-g.fits'%file[:-3]):\n",
    "        os.renames('%s-g.fits'%file[:-3], '%s-g.fits'%name)\n",
    "        os.system('mv %s-g.fits /media/M86/EunSukWork/Galaxy_zoo/Fits/Gz2'%name)\n",
    "    if os.path.exists('/media/M86/EunSukWork/Galaxy_zoo/Trash/%s-r.fits'%file[:-3]):\n",
    "        os.renames('%s-r.fits'%file[:-3], '%s-r.fits'%name)\n",
    "        os.system('mv %s-r.fits /media/M86/EunSukWork/Galaxy_zoo/Fits/Gz2'%name)\n",
    "    if os.path.exists('/media/M86/EunSukWork/Galaxy_zoo/Trash/%s-i.fits'%file[:-3]):\n",
    "        os.renames('%s-i.fits'%file[:-3], '%s-i.fits'%name)\n",
    "        os.system('mv %s-i.fits /media/M86/EunSukWork/Galaxy_zoo/Fits/Gz2'%name)"
   ]
  },
  {
   "cell_type": "code",
   "execution_count": 125,
   "metadata": {},
   "outputs": [
    {
     "data": {
      "text/plain": [
       "'J155422.00+083415.0.sh'"
      ]
     },
     "execution_count": 125,
     "metadata": {},
     "output_type": "execute_result"
    }
   ],
   "source": [
    "'%s.sh'%gz2_list_d['Jname'][gz2_list_d['dr7objid'] == int(non_list[0][:-7])].values[0]"
   ]
  },
  {
   "cell_type": "code",
   "execution_count": 112,
   "metadata": {},
   "outputs": [
    {
     "data": {
      "text/plain": [
       "0         588015510343123099\n",
       "1         587731186203951236\n",
       "2         587731187277693087\n",
       "3         587731187814563977\n",
       "4         588015507658768490\n",
       "                 ...        \n",
       "242764    587731186740756649\n",
       "242765    587731187277627616\n",
       "242766    588015509806252115\n",
       "242767    587731187277627630\n",
       "242768    587731187277627636\n",
       "Name: dr7objid, Length: 242464, dtype: int64"
      ]
     },
     "execution_count": 112,
     "metadata": {},
     "output_type": "execute_result"
    }
   ],
   "source": [
    "gz2_list_d['dr7objid']"
   ]
  },
  {
   "cell_type": "code",
   "execution_count": 113,
   "metadata": {},
   "outputs": [
    {
     "data": {
      "text/plain": [
       "587736915149980032"
      ]
     },
     "execution_count": 113,
     "metadata": {},
     "output_type": "execute_result"
    }
   ],
   "source": [
    "int(non_list[0][:-7])"
   ]
  },
  {
   "cell_type": "code",
   "execution_count": 103,
   "metadata": {},
   "outputs": [
    {
     "data": {
      "text/plain": [
       "'J000007.00+005128.0.sh'"
      ]
     },
     "execution_count": 103,
     "metadata": {},
     "output_type": "execute_result"
    }
   ],
   "source": [
    "'%s.sh'%(gz2_list['Jname'][0])"
   ]
  },
  {
   "cell_type": "code",
   "execution_count": 102,
   "metadata": {},
   "outputs": [
    {
     "data": {
      "text/plain": [
       "'J000007.00+005128.0'"
      ]
     },
     "execution_count": 102,
     "metadata": {},
     "output_type": "execute_result"
    }
   ],
   "source": [
    "gz2_list['Jname'][0]"
   ]
  },
  {
   "cell_type": "code",
   "execution_count": 48,
   "metadata": {
    "collapsed": true,
    "jupyter": {
     "outputs_hidden": true
    },
    "tags": []
   },
   "outputs": [
    {
     "name": "stdout",
     "output_type": "stream",
     "text": [
      "0 , 82958    588015507658309796-r.fits\n",
      "Name: 0, dtype: object\n",
      "1 , 90379    588015509268922487-r.fits\n",
      "Name: 0, dtype: object\n",
      "2 , 133346    588015510342664297-r.fits\n",
      "Name: 0, dtype: object\n",
      "3 , 18069    587731186740363406-r.fits\n",
      "Name: 0, dtype: object\n",
      "4 , 215957    587731186203492528-r.fits\n",
      "Name: 0, dtype: object\n",
      "5 , 161753    588015507658309748-r.fits\n",
      "Name: 0, dtype: object\n",
      "6 , 27694    588015507658309753-r.fits\n",
      "Name: 0, dtype: object\n",
      "7 , 125523    588015509805793362-r.fits\n",
      "Name: 0, dtype: object\n",
      "8 , 109039    587731185129750586-r.fits\n",
      "Name: 0, dtype: object\n",
      "9 , 37105    588015508732051595-r.fits\n",
      "Name: 0, dtype: object\n",
      "10 , 190101    587731186203492561-r.fits\n",
      "Name: 0, dtype: object\n",
      "11 , 156495    587731185666621597-r.fits\n",
      "Name: 0, dtype: object\n",
      "12 , 127059    588015508732116995-r.fits\n",
      "Name: 0, dtype: object\n",
      "13 , 157007    588015510342729746-r.fits\n",
      "Name: 0, dtype: object\n",
      "14 , 56166    588015508732117101-r.fits\n",
      "Name: 0, dtype: object\n",
      "15 , 151960    588015508732117111-r.fits\n",
      "Name: 0, dtype: object\n",
      "16 , 199223    587731185129750726-r.fits\n",
      "Name: 0, dtype: object\n",
      "17 , 100788    587731186740428877-r.fits\n",
      "Name: 0, dtype: object\n",
      "18 , 196825    588015508732117036-r.fits\n",
      "Name: 0, dtype: object\n",
      "19 , 96321    587731186203557954-r.fits\n",
      "Name: 0, dtype: object\n",
      "20 , 129913    588015509805858908-r.fits\n",
      "Name: 0, dtype: object\n",
      "21 , 175285    588015508195246227-r.fits\n",
      "Name: 0, dtype: object\n",
      "22 , 152848    587731187814170793-r.fits\n",
      "Name: 0, dtype: object\n",
      "23 , 58746    587731187277299784-r.fits\n",
      "Name: 0, dtype: object\n",
      "24 , 121642    587731187277299818-r.fits\n",
      "Name: 0, dtype: object\n",
      "25 , 177653    587731186203557977-r.fits\n",
      "Name: 0, dtype: object\n",
      "26 , 105946    588015509805924405-r.fits\n",
      "Name: 0, dtype: object\n",
      "27 , 69662    587731187277299907-r.fits\n",
      "Name: 0, dtype: object\n",
      "28 , 124309    588015508195311772-r.fits\n",
      "Name: 0, dtype: object\n",
      "29 , 125379    587731185129816189-r.fits\n",
      "Name: 0, dtype: object\n",
      "30 , 158142    587731185129816192-r.fits\n",
      "Name: 0, dtype: object\n",
      "31 , 22196    588015510342795362-r.fits\n",
      "Name: 0, dtype: object\n",
      "32 , 169136    587731186203558005-r.fits\n",
      "Name: 0, dtype: object\n",
      "33 , 48203    588015507658440808-r.fits\n",
      "Name: 0, dtype: object\n",
      "34 , 131803    588015508195311797-r.fits\n",
      "Name: 0, dtype: object\n",
      "35 , 112059    588015507658440727-r.fits\n",
      "Name: 0, dtype: object\n",
      "36 , 104074    587731185129881685-r.fits\n",
      "Name: 0, dtype: object\n",
      "37 , 88593    588015508195311713-r.fits\n",
      "Name: 0, dtype: object\n",
      "38 , 32651    588015509805924399-r.fits\n",
      "Name: 0, dtype: object\n",
      "39 , 69926    588015508195311821-r.fits\n",
      "Name: 0, dtype: object\n",
      "40 , 166126    588015510342795405-r.fits\n",
      "Name: 0, dtype: object\n",
      "41 , 162232    588015507658506244-r.fits\n",
      "Name: 0, dtype: object\n",
      "42 , 38011    587731187814236210-r.fits\n",
      "Name: 0, dtype: object\n",
      "43 , 14348    587731186203623589-r.fits\n",
      "Name: 0, dtype: object\n",
      "44 , 11279    587731187277430864-r.fits\n",
      "Name: 0, dtype: object\n",
      "45 , 46002    587731187277430877-r.fits\n",
      "Name: 0, dtype: object\n",
      "46 , 93967    587731186203689081-r.fits\n",
      "Name: 0, dtype: object\n",
      "47 , 202914    588015509805990006-r.fits\n",
      "Name: 0, dtype: object\n",
      "48 , 92582    587731187277430803-r.fits\n",
      "Name: 0, dtype: object\n",
      "49 , 121532    588015509269119141-r.fits\n",
      "Name: 0, dtype: object\n",
      "50 , 125836    588015507658506380-r.fits\n",
      "Name: 0, dtype: object\n",
      "51 , 160288    587731187277430908-r.fits\n",
      "Name: 0, dtype: object\n",
      "52 , 15751    587731187277430934-r.fits\n",
      "Name: 0, dtype: object\n",
      "53 , 207023    588015508195442767-r.fits\n",
      "Name: 0, dtype: object\n",
      "54 , 191365    588015507658571781-r.fits\n",
      "Name: 0, dtype: object\n",
      "55 , 38939    587731185129947285-r.fits\n",
      "Name: 0, dtype: object\n",
      "56 , 111236    587731187277430937-r.fits\n",
      "Name: 0, dtype: object\n",
      "57 , 210730    587731185129947292-r.fits\n",
      "Name: 0, dtype: object\n",
      "58 , 64601    587731185129947296-r.fits\n",
      "Name: 0, dtype: object\n",
      "59 , 68751    587731187277496425-r.fits\n",
      "Name: 0, dtype: object\n",
      "60 , 149465    588015509806055495-r.fits\n",
      "Name: 0, dtype: object\n",
      "61 , 410    587731187277496445-r.fits\n",
      "Name: 0, dtype: object\n",
      "62 , 72153    587731185130012887-r.fits\n",
      "Name: 0, dtype: object\n",
      "63 , 86865    588015509806055501-r.fits\n",
      "Name: 0, dtype: object\n",
      "64 , 6657    587731187277496375-r.fits\n",
      "Name: 0, dtype: object\n",
      "65 , 150023    587731187277496449-r.fits\n",
      "Name: 0, dtype: object\n",
      "66 , 212879    587731187277496455-r.fits\n",
      "Name: 0, dtype: object\n",
      "67 , 167397    588015509806055509-r.fits\n",
      "Name: 0, dtype: object\n",
      "68 , 176611    588015507658571954-r.fits\n",
      "Name: 0, dtype: object\n",
      "69 , 199736    588015507658571945-r.fits\n",
      "Name: 0, dtype: object\n",
      "70 , 51369    587731187277496400-r.fits\n",
      "Name: 0, dtype: object\n",
      "71 , 98284    588015510342992077-r.fits\n",
      "Name: 0, dtype: object\n",
      "72 , 79037    587731185130012924-r.fits\n",
      "Name: 0, dtype: object\n",
      "73 , 44130    588015510342992037-r.fits\n",
      "Name: 0, dtype: object\n",
      "74 , 165116    587731186740691038-r.fits\n",
      "Name: 0, dtype: object\n",
      "75 , 218490    588015509806121009-r.fits\n",
      "Name: 0, dtype: object\n",
      "76 , 4803    588015507658637476-r.fits\n",
      "Name: 0, dtype: object\n",
      "77 , 13513    588015509269250155-r.fits\n",
      "Name: 0, dtype: object\n",
      "78 , 101400    587731187277561963-r.fits\n",
      "Name: 0, dtype: object\n",
      "79 , 68132    587731187277561967-r.fits\n",
      "Name: 0, dtype: object\n",
      "80 , 70655    587731186740691073-r.fits\n",
      "Name: 0, dtype: object\n",
      "81 , 85012    587731185666949276-r.fits\n",
      "Name: 0, dtype: object\n",
      "82 , 158122    588015509806186624-r.fits\n",
      "Name: 0, dtype: object\n",
      "83 , 173754    588015510343057517-r.fits\n",
      "Name: 0, dtype: object\n",
      "84 , 170437    588015510343057539-r.fits\n",
      "Name: 0, dtype: object\n",
      "85 , 35578    587731187277562005-r.fits\n",
      "Name: 0, dtype: object\n",
      "86 , 55946    588015510343057548-r.fits\n",
      "Name: 0, dtype: object\n",
      "87 , 16157    587731187277627400-r.fits\n",
      "Name: 0, dtype: object\n",
      "88 , 147761    587731186740756599-r.fits\n",
      "Name: 0, dtype: object\n",
      "89 , 158223    587731187277627574-r.fits\n",
      "Name: 0, dtype: object\n",
      "90 , 92456    588015507658702971-r.fits\n",
      "Name: 0, dtype: object\n",
      "91 , 65469    587731187277627588-r.fits\n",
      "Name: 0, dtype: object\n",
      "92 , 52971    588015509806186676-r.fits\n",
      "Name: 0, dtype: object\n",
      "93 , 63422    587731187814498448-r.fits\n",
      "Name: 0, dtype: object\n",
      "94 , 40570    587731186203885730-r.fits\n",
      "Name: 0, dtype: object\n",
      "95 , 63898    587731186740756649-r.fits\n",
      "Name: 0, dtype: object\n",
      "96 , 202105    587731187277627616-r.fits\n",
      "Name: 0, dtype: object\n",
      "97 , 127106    588015509806252115-r.fits\n",
      "Name: 0, dtype: object\n",
      "98 , 46810    587731187277627630-r.fits\n",
      "Name: 0, dtype: object\n",
      "99 , 192555    587731187277627636-r.fits\n",
      "Name: 0, dtype: object\n"
     ]
    }
   ],
   "source": [
    "for i, li in enumerate(gz2_list['dr7objid'][242769-100:242769]):\n",
    "    print(i, ',', dfr[0][dfr[0] == '%s-r.fits'%li]) #197597"
   ]
  },
  {
   "cell_type": "code",
   "execution_count": 37,
   "metadata": {},
   "outputs": [
    {
     "data": {
      "text/plain": [
       "(195937, 196141, 196097)"
      ]
     },
     "execution_count": 37,
     "metadata": {},
     "output_type": "execute_result"
    }
   ],
   "source": [
    "len([_ for _ in list_f if _.endswith('g.fits')]), len([_ for _ in list_f if _.endswith('r.fits')]), len([_ for _ in list_f if _.endswith('i.fits')])"
   ]
  },
  {
   "cell_type": "markdown",
   "metadata": {},
   "source": [
    "g_id = []\n",
    "r_id = []\n",
    "i_id = []\n",
    "for gf in [_ for _ in list_f if _.endswith('g.fits')]:\n",
    "    g_id += [gf[:-7]]\n",
    "for rf in [_ for _ in list_f if _.endswith('r.fits')]:\n",
    "    r_id += [rf[:-7]]\n",
    "for i_f in [_ for _ in list_f if _.endswith('i.fits')]:\n",
    "    i_id += [i_f[:-7]]"
   ]
  },
  {
   "cell_type": "markdown",
   "metadata": {},
   "source": [
    "set(i_id) - set(g_id), set(r_id) - set(g_id)"
   ]
  },
  {
   "cell_type": "code",
   "execution_count": 56,
   "metadata": {},
   "outputs": [],
   "source": [
    "list_t = os.listdir('./')"
   ]
  },
  {
   "cell_type": "code",
   "execution_count": 59,
   "metadata": {},
   "outputs": [
    {
     "data": {
      "text/plain": [
       "(['J080112.00+253323.0-r.fits',\n",
       "  'J073023.00+382849.0-r.fits',\n",
       "  'J073022.00+435310.0-r.fits',\n",
       "  'J073022.00+395254.0-r.fits'],\n",
       " ['J073022.00+395254.0.sh',\n",
       "  'J073022.00+435310.0.sh',\n",
       "  'J073023.00+382849.0.sh'])"
      ]
     },
     "execution_count": 59,
     "metadata": {},
     "output_type": "execute_result"
    }
   ],
   "source": [
    "[_ for _ in list_t if _.endswith('r.fits')], list_sh[5570:5573]"
   ]
  },
  {
   "cell_type": "code",
   "execution_count": 62,
   "metadata": {},
   "outputs": [
    {
     "data": {
      "text/plain": [
       "5570    587737809564467424\n",
       "5571    587738196110541276\n",
       "5572    587737825670136227\n",
       "Name: dr7objid, dtype: int64"
      ]
     },
     "execution_count": 62,
     "metadata": {},
     "output_type": "execute_result"
    }
   ],
   "source": [
    "for name in gz2_list['dr7objid'][5570:5573]:\n",
    "    os."
   ]
  },
  {
   "cell_type": "code",
   "execution_count": 51,
   "metadata": {},
   "outputs": [
    {
     "ename": "FileNotFoundError",
     "evalue": "[Errno 2] No such file or directory: 'J073022.00+435310.0-g.fits' -> '587737809564467424-g.fits'",
     "output_type": "error",
     "traceback": [
      "\u001b[0;31m---------------------------------------------------------------------------\u001b[0m",
      "\u001b[0;31mFileNotFoundError\u001b[0m                         Traceback (most recent call last)",
      "\u001b[0;32m<ipython-input-51-9d3778a2ec80>\u001b[0m in \u001b[0;36m<module>\u001b[0;34m\u001b[0m\n\u001b[1;32m      1\u001b[0m \u001b[0;32mfor\u001b[0m \u001b[0;34m(\u001b[0m\u001b[0mname\u001b[0m\u001b[0;34m,\u001b[0m \u001b[0mfits\u001b[0m\u001b[0;34m)\u001b[0m \u001b[0;32min\u001b[0m \u001b[0mzip\u001b[0m\u001b[0;34m(\u001b[0m\u001b[0mgz2_list\u001b[0m\u001b[0;34m[\u001b[0m\u001b[0;34m'dr7objid'\u001b[0m\u001b[0;34m]\u001b[0m\u001b[0;34m[\u001b[0m\u001b[0;36m5570\u001b[0m\u001b[0;34m:\u001b[0m\u001b[0;36m5573\u001b[0m\u001b[0;34m]\u001b[0m\u001b[0;34m,\u001b[0m \u001b[0;34m[\u001b[0m\u001b[0m_\u001b[0m \u001b[0;32mfor\u001b[0m \u001b[0m_\u001b[0m \u001b[0;32min\u001b[0m \u001b[0mlist_t\u001b[0m \u001b[0;32mif\u001b[0m \u001b[0m_\u001b[0m\u001b[0;34m.\u001b[0m\u001b[0mendswith\u001b[0m\u001b[0;34m(\u001b[0m\u001b[0;34m'g.fits'\u001b[0m\u001b[0;34m)\u001b[0m\u001b[0;34m]\u001b[0m\u001b[0;34m)\u001b[0m\u001b[0;34m:\u001b[0m\u001b[0;34m\u001b[0m\u001b[0;34m\u001b[0m\u001b[0m\n\u001b[0;32m----> 2\u001b[0;31m     \u001b[0mos\u001b[0m\u001b[0;34m.\u001b[0m\u001b[0mrenames\u001b[0m\u001b[0;34m(\u001b[0m\u001b[0mfits\u001b[0m\u001b[0;34m,\u001b[0m \u001b[0;34m'%s-g.fits'\u001b[0m\u001b[0;34m%\u001b[0m\u001b[0mname\u001b[0m\u001b[0;34m)\u001b[0m\u001b[0;34m\u001b[0m\u001b[0;34m\u001b[0m\u001b[0m\n\u001b[0m\u001b[1;32m      3\u001b[0m \u001b[0;34m\u001b[0m\u001b[0m\n\u001b[1;32m      4\u001b[0m \u001b[0;34m\u001b[0m\u001b[0m\n",
      "\u001b[0;32m/home/anaconda3/lib/python3.7/os.py\u001b[0m in \u001b[0;36mrenames\u001b[0;34m(old, new)\u001b[0m\n\u001b[1;32m    266\u001b[0m     \u001b[0;32mif\u001b[0m \u001b[0mhead\u001b[0m \u001b[0;32mand\u001b[0m \u001b[0mtail\u001b[0m \u001b[0;32mand\u001b[0m \u001b[0;32mnot\u001b[0m \u001b[0mpath\u001b[0m\u001b[0;34m.\u001b[0m\u001b[0mexists\u001b[0m\u001b[0;34m(\u001b[0m\u001b[0mhead\u001b[0m\u001b[0;34m)\u001b[0m\u001b[0;34m:\u001b[0m\u001b[0;34m\u001b[0m\u001b[0;34m\u001b[0m\u001b[0m\n\u001b[1;32m    267\u001b[0m         \u001b[0mmakedirs\u001b[0m\u001b[0;34m(\u001b[0m\u001b[0mhead\u001b[0m\u001b[0;34m)\u001b[0m\u001b[0;34m\u001b[0m\u001b[0;34m\u001b[0m\u001b[0m\n\u001b[0;32m--> 268\u001b[0;31m     \u001b[0mrename\u001b[0m\u001b[0;34m(\u001b[0m\u001b[0mold\u001b[0m\u001b[0;34m,\u001b[0m \u001b[0mnew\u001b[0m\u001b[0;34m)\u001b[0m\u001b[0;34m\u001b[0m\u001b[0;34m\u001b[0m\u001b[0m\n\u001b[0m\u001b[1;32m    269\u001b[0m     \u001b[0mhead\u001b[0m\u001b[0;34m,\u001b[0m \u001b[0mtail\u001b[0m \u001b[0;34m=\u001b[0m \u001b[0mpath\u001b[0m\u001b[0;34m.\u001b[0m\u001b[0msplit\u001b[0m\u001b[0;34m(\u001b[0m\u001b[0mold\u001b[0m\u001b[0;34m)\u001b[0m\u001b[0;34m\u001b[0m\u001b[0;34m\u001b[0m\u001b[0m\n\u001b[1;32m    270\u001b[0m     \u001b[0;32mif\u001b[0m \u001b[0mhead\u001b[0m \u001b[0;32mand\u001b[0m \u001b[0mtail\u001b[0m\u001b[0;34m:\u001b[0m\u001b[0;34m\u001b[0m\u001b[0;34m\u001b[0m\u001b[0m\n",
      "\u001b[0;31mFileNotFoundError\u001b[0m: [Errno 2] No such file or directory: 'J073022.00+435310.0-g.fits' -> '587737809564467424-g.fits'"
     ]
    }
   ],
   "source": [
    "for (name, fits) in zip(gz2_list['dr7objid'][5570:5573], [_ for _ in list_t if _.endswith('r.fits')]):\n",
    "    os.renames(fits, '%s-r.fits'%name)\n",
    "    os.system('mv %s ../Fits/Gz2/'%fits) \n",
    "             "
   ]
  },
  {
   "cell_type": "code",
   "execution_count": 55,
   "metadata": {},
   "outputs": [],
   "source": [
    "for fits in [_ for _ in list_t if _.endswith('g.fits')]:\n",
    "    os.system('mv %s ../Fits/Gz2/'%fits) "
   ]
  },
  {
   "cell_type": "markdown",
   "metadata": {},
   "source": [
    "# degname 파일과 dataframe"
   ]
  },
  {
   "cell_type": "markdown",
   "metadata": {},
   "source": [
    "c = SkyCoord(gz2['ra'], gz2['dec'], unit=(u.deg, u.deg), obstime='J2000')"
   ]
  },
  {
   "cell_type": "markdown",
   "metadata": {},
   "source": [
    "c.dec.dms"
   ]
  },
  {
   "cell_type": "markdown",
   "metadata": {},
   "source": [
    "degandname = []\n",
    "\n",
    "for (ra, dec, name) in zip(gz2['ra'], gz2['dec'], gz2['dr7objid']):\n",
    "    c = SkyCoord(ra, dec, unit=(u.deg, u.deg), obstime='J2000')\n",
    "    if str(c.ra.hms.h)[1] == '.':\n",
    "        rah = '0' + str(c.ra.hms.h)[0]\n",
    "    else: rah = str(c.ra.hms.h)[:2]\n",
    "    if str(c.ra.hms.m)[1] == '.':\n",
    "        ram = '0' + str(c.ra.hms.m)[0]\n",
    "    else: ram = str(c.ra.hms.m)[:2]\n",
    "    if str(c.ra.hms.s)[1] == '.':\n",
    "        ras = '0' + str(c.ra.hms.s)[0]\n",
    "    else: ras = str(c.ra.hms.s)[:2]\n",
    "    if str(c.dec.dms.d)[0] == '-':\n",
    "        if str(c.dec.dms.d)[2] == '.':\n",
    "            decd = '0' + str(c.dec.dms.d)[1]\n",
    "        else: decd = str(c.dec.dms.d)[1:3]\n",
    "        if str(c.dec.dms.m)[2] == '.':\n",
    "            decm = '0' + str(c.dec.dms.m)[1]\n",
    "        else: decm = str(c.dec.dms.m)[1:3]\n",
    "        if str(c.dec.dms.s)[2] == '.':\n",
    "            decs = '0' + str(c.dec.dms.s)[1]\n",
    "        else: decs = str(c.dec.dms.s)[1:3]\n",
    "    else:\n",
    "        if str(c.dec.dms.d)[1] == '.':\n",
    "            decd = '0' + str(c.dec.dms.d)[0]\n",
    "        else: decd = str(c.dec.dms.d)[:2]\n",
    "        if str(c.dec.dms.m)[1] == '.':\n",
    "            decm = '0' + str(c.dec.dms.m)[0]\n",
    "        else: decm = str(c.dec.dms.m)[:2]\n",
    "        if str(c.dec.dms.s)[1] == '.':\n",
    "            decs = '0' + str(c.dec.dms.s)[0]\n",
    "        else: decs = str(c.dec.dms.s)[:2]\n",
    "    degandname += [[rah+ram+ras, decd+decm+decs, name]]\n",
    "    print('.')"
   ]
  },
  {
   "cell_type": "markdown",
   "metadata": {},
   "source": [
    "degandname_df = pd.DataFrame(degandname, columns=['ra', 'dec', 'name'])"
   ]
  },
  {
   "cell_type": "markdown",
   "metadata": {},
   "source": [
    "degandname_df.to_csv('/media/M86/EunSukWork/gz2_degname.csv', index=False)"
   ]
  },
  {
   "cell_type": "markdown",
   "metadata": {},
   "source": [
    "# Trash에 있는 fits 옮김"
   ]
  },
  {
   "cell_type": "code",
   "execution_count": 45,
   "metadata": {},
   "outputs": [],
   "source": [
    "os.chdir('/media/M86/EunSukWork/Galaxy_zoo/Fits/Gz2/')\n",
    "for (ra, dec, name) in zip(degandname_df['ra'], degandname_df['dec'], degandname_df['name']):\n",
    "    if list_sh[3252] == 'J%06d.00%+06d.0.sh'%(ra, dec):\n",
    "            print(name)\n",
    "            #os.rename('J020835.00+002730.0-g.fits', '%s-g.fits'%name)\n",
    "            #os.rename('J020835.00+002730.0-r.fits', '%s-r.fits'%name)\n",
    "            #os.rename('J020835.00+002730.0-i.fits', '%s-i.fits'%name)"
   ]
  },
  {
   "cell_type": "code",
   "execution_count": 141,
   "metadata": {},
   "outputs": [],
   "source": [
    "for i in range(len(filters)): # fits 파일 Fits/로 이동\n",
    "                    os.system('mv ./*%s.fits ../Fits/Gz2/' % filters[i]) "
   ]
  },
  {
   "cell_type": "code",
   "execution_count": 21,
   "metadata": {},
   "outputs": [
    {
     "data": {
      "text/html": [
       "<div>\n",
       "<style scoped>\n",
       "    .dataframe tbody tr th:only-of-type {\n",
       "        vertical-align: middle;\n",
       "    }\n",
       "\n",
       "    .dataframe tbody tr th {\n",
       "        vertical-align: top;\n",
       "    }\n",
       "\n",
       "    .dataframe thead th {\n",
       "        text-align: right;\n",
       "    }\n",
       "</style>\n",
       "<table border=\"1\" class=\"dataframe\">\n",
       "  <thead>\n",
       "    <tr style=\"text-align: right;\">\n",
       "      <th></th>\n",
       "      <th>ra</th>\n",
       "      <th>dec</th>\n",
       "      <th>name</th>\n",
       "    </tr>\n",
       "  </thead>\n",
       "  <tbody>\n",
       "    <tr>\n",
       "      <th>0</th>\n",
       "      <td>104357</td>\n",
       "      <td>114213</td>\n",
       "      <td>588017703996096547</td>\n",
       "    </tr>\n",
       "    <tr>\n",
       "      <th>1</th>\n",
       "      <td>124938</td>\n",
       "      <td>150951</td>\n",
       "      <td>587738569780428805</td>\n",
       "    </tr>\n",
       "    <tr>\n",
       "      <th>2</th>\n",
       "      <td>140312</td>\n",
       "      <td>542056</td>\n",
       "      <td>587735695913320507</td>\n",
       "    </tr>\n",
       "    <tr>\n",
       "      <th>3</th>\n",
       "      <td>122112</td>\n",
       "      <td>182257</td>\n",
       "      <td>587742775634624545</td>\n",
       "    </tr>\n",
       "    <tr>\n",
       "      <th>4</th>\n",
       "      <td>122928</td>\n",
       "      <td>84459</td>\n",
       "      <td>587732769983889439</td>\n",
       "    </tr>\n",
       "    <tr>\n",
       "      <th>...</th>\n",
       "      <td>...</td>\n",
       "      <td>...</td>\n",
       "      <td>...</td>\n",
       "    </tr>\n",
       "    <tr>\n",
       "      <th>243495</th>\n",
       "      <td>94041</td>\n",
       "      <td>630915</td>\n",
       "      <td>587737807967092857</td>\n",
       "    </tr>\n",
       "    <tr>\n",
       "      <th>243496</th>\n",
       "      <td>131925</td>\n",
       "      <td>10214</td>\n",
       "      <td>588848898847605001</td>\n",
       "    </tr>\n",
       "    <tr>\n",
       "      <th>243497</th>\n",
       "      <td>91828</td>\n",
       "      <td>101904</td>\n",
       "      <td>587735348018872369</td>\n",
       "    </tr>\n",
       "    <tr>\n",
       "      <th>243498</th>\n",
       "      <td>32952</td>\n",
       "      <td>4500</td>\n",
       "      <td>588015508218577115</td>\n",
       "    </tr>\n",
       "    <tr>\n",
       "      <th>243499</th>\n",
       "      <td>32403</td>\n",
       "      <td>7</td>\n",
       "      <td>587731512619893016</td>\n",
       "    </tr>\n",
       "  </tbody>\n",
       "</table>\n",
       "<p>243500 rows × 3 columns</p>\n",
       "</div>"
      ],
      "text/plain": [
       "            ra     dec                name\n",
       "0       104357  114213  588017703996096547\n",
       "1       124938  150951  587738569780428805\n",
       "2       140312  542056  587735695913320507\n",
       "3       122112  182257  587742775634624545\n",
       "4       122928   84459  587732769983889439\n",
       "...        ...     ...                 ...\n",
       "243495   94041  630915  587737807967092857\n",
       "243496  131925   10214  588848898847605001\n",
       "243497   91828  101904  587735348018872369\n",
       "243498   32952    4500  588015508218577115\n",
       "243499   32403       7  587731512619893016\n",
       "\n",
       "[243500 rows x 3 columns]"
      ]
     },
     "execution_count": 21,
     "metadata": {},
     "output_type": "execute_result"
    }
   ],
   "source": [
    "degandname_df"
   ]
  },
  {
   "cell_type": "code",
   "execution_count": 31,
   "metadata": {},
   "outputs": [
    {
     "data": {
      "text/plain": [
       "32403"
      ]
     },
     "execution_count": 31,
     "metadata": {},
     "output_type": "execute_result"
    }
   ],
   "source": [
    "degandname_df['ra'].values[-1]"
   ]
  },
  {
   "cell_type": "code",
   "execution_count": 39,
   "metadata": {},
   "outputs": [
    {
     "data": {
      "text/plain": [
       "'J032403.00+02730.0.sh'"
      ]
     },
     "execution_count": 39,
     "metadata": {},
     "output_type": "execute_result"
    }
   ],
   "source": [
    "'J%06d.00%+06d.0.sh'%(degandname_df['ra'].values[-1],2730)"
   ]
  },
  {
   "cell_type": "code",
   "execution_count": 84,
   "metadata": {},
   "outputs": [],
   "source": [
    "list_sh_deg = []\n",
    "for file in list_sh:\n",
    "    list_sh_deg += [file[:-3]]"
   ]
  },
  {
   "cell_type": "code",
   "execution_count": 75,
   "metadata": {},
   "outputs": [
    {
     "data": {
      "text/plain": [
       "'J000007.00+005128.0'"
      ]
     },
     "execution_count": 75,
     "metadata": {},
     "output_type": "execute_result"
    }
   ],
   "source": [
    "list_sh_deg2[0]"
   ]
  },
  {
   "cell_type": "code",
   "execution_count": 85,
   "metadata": {},
   "outputs": [],
   "source": [
    "c = SkyCoord(list_sh_deg, unit=(u.hour, u.deg))"
   ]
  },
  {
   "cell_type": "code",
   "execution_count": 83,
   "metadata": {},
   "outputs": [
    {
     "name": "stdout",
     "output_type": "stream",
     "text": [
      "Help on function match_to_catalog_sky in module astropy.coordinates.sky_coordinate:\n",
      "\n",
      "match_to_catalog_sky(self, catalogcoord, nthneighbor=1)\n",
      "    Finds the nearest on-sky matches of this coordinate in a set of\n",
      "    catalog coordinates.\n",
      "    \n",
      "    For more on how to use this (and related) functionality, see the\n",
      "    examples in :doc:`/coordinates/matchsep`.\n",
      "    \n",
      "    Parameters\n",
      "    ----------\n",
      "    catalogcoord : `~astropy.coordinates.SkyCoord` or `~astropy.coordinates.BaseCoordinateFrame`\n",
      "        The base catalog in which to search for matches. Typically this\n",
      "        will be a coordinate object that is an array (i.e.,\n",
      "        ``catalogcoord.isscalar == False``)\n",
      "    nthneighbor : int, optional\n",
      "        Which closest neighbor to search for.  Typically ``1`` is\n",
      "        desired here, as that is correct for matching one set of\n",
      "        coordinates to another. The next likely use case is ``2``,\n",
      "        for matching a coordinate catalog against *itself* (``1``\n",
      "        is inappropriate because each point will find itself as the\n",
      "        closest match).\n",
      "    \n",
      "    Returns\n",
      "    -------\n",
      "    idx : integer array\n",
      "        Indices into ``catalogcoord`` to get the matched points for\n",
      "        each of this object's coordinates. Shape matches this\n",
      "        object.\n",
      "    sep2d : `~astropy.coordinates.Angle`\n",
      "        The on-sky separation between the closest match for each\n",
      "        element in this object in ``catalogcoord``. Shape matches\n",
      "        this object.\n",
      "    dist3d : `~astropy.units.Quantity`\n",
      "        The 3D distance between the closest match for each element\n",
      "        in this object in ``catalogcoord``. Shape matches this\n",
      "        object. Unless both this and ``catalogcoord`` have associated\n",
      "        distances, this quantity assumes that all sources are at a\n",
      "        distance of 1 (dimensionless).\n",
      "    \n",
      "    Notes\n",
      "    -----\n",
      "    This method requires `SciPy <https://www.scipy.org/>`_ to be\n",
      "    installed or it will fail.\n",
      "    \n",
      "    See Also\n",
      "    --------\n",
      "    astropy.coordinates.match_coordinates_sky\n",
      "    SkyCoord.match_to_catalog_3d\n",
      "\n"
     ]
    }
   ],
   "source": [
    "help(SkyCoord.match_to_catalog_sky)"
   ]
  },
  {
   "cell_type": "code",
   "execution_count": 92,
   "metadata": {},
   "outputs": [],
   "source": [
    "cc = SkyCoord(gz2['ra'], gz2['dec'],unit=(u.deg, u.deg), obstime='J2000')"
   ]
  },
  {
   "cell_type": "code",
   "execution_count": 98,
   "metadata": {},
   "outputs": [],
   "source": [
    "matched = SkyCoord.match_to_catalog_sky(c, cc, nthneighbor=1)"
   ]
  },
  {
   "cell_type": "code",
   "execution_count": 114,
   "metadata": {},
   "outputs": [
    {
     "data": {
      "text/plain": [
       "array([214982, 214635])"
      ]
     },
     "execution_count": 114,
     "metadata": {},
     "output_type": "execute_result"
    }
   ],
   "source": [
    "matched[0][5567:5569]"
   ]
  },
  {
   "cell_type": "code",
   "execution_count": 122,
   "metadata": {},
   "outputs": [
    {
     "data": {
      "text/html": [
       "<div>\n",
       "<style scoped>\n",
       "    .dataframe tbody tr th:only-of-type {\n",
       "        vertical-align: middle;\n",
       "    }\n",
       "\n",
       "    .dataframe tbody tr th {\n",
       "        vertical-align: top;\n",
       "    }\n",
       "\n",
       "    .dataframe thead th {\n",
       "        text-align: right;\n",
       "    }\n",
       "</style>\n",
       "<table border=\"1\" class=\"dataframe\">\n",
       "  <thead>\n",
       "    <tr style=\"text-align: right;\">\n",
       "      <th></th>\n",
       "      <th>rastring</th>\n",
       "      <th>decstring</th>\n",
       "    </tr>\n",
       "  </thead>\n",
       "  <tbody>\n",
       "    <tr>\n",
       "      <th>214982</th>\n",
       "      <td>07:30:19.80</td>\n",
       "      <td>+41:48:56.8</td>\n",
       "    </tr>\n",
       "  </tbody>\n",
       "</table>\n",
       "</div>"
      ],
      "text/plain": [
       "           rastring    decstring\n",
       "214982  07:30:19.80  +41:48:56.8"
      ]
     },
     "execution_count": 122,
     "metadata": {},
     "output_type": "execute_result"
    }
   ],
   "source": [
    "gz2[['rastring', 'decstring']][214982:214983]"
   ]
  },
  {
   "cell_type": "code",
   "execution_count": 109,
   "metadata": {},
   "outputs": [
    {
     "data": {
      "text/plain": [
       "['J073019.00+414856.0.sh', 'J073020.00+405740.0.sh']"
      ]
     },
     "execution_count": 109,
     "metadata": {},
     "output_type": "execute_result"
    }
   ],
   "source": [
    "list_sh[5568:5569]"
   ]
  },
  {
   "cell_type": "code",
   "execution_count": null,
   "metadata": {},
   "outputs": [],
   "source": [
    "os.chdir('/media/M86/EunSukWork/Galaxy_zoo/Trash/')\n",
    "filters ='gri'\n",
    "\n",
    "for file in list_sh[5570:15570]:\n",
    "    os.system('bash ../Sh/Gz2/%s' % file)\n",
    "    for mat in matched[0][5570:15570]:\n",
    "        if os.path.exists('/media/M86/EunSukWork/Galaxy_zoo/Trash/%s-g.fits'%file[:-3]):\n",
    "            os.renames('%s-g.fits'%file[:-3], '%s-g.fits'%gz2['dr7objid'][mat])\n",
    "        if os.path.exists('/media/M86/EunSukWork/Galaxy_zoo/Trash/%s-r.fits'%file[:-3]):\n",
    "            os.renames('%s-r.fits'%file[:-3], '%s-r.fits'%gz2['dr7objid'][mat])\n",
    "        if os.path.exists('/media/M86/EunSukWork/Galaxy_zoo/Trash/%s-i.fits'%file[:-3]):\n",
    "            os.renames('%s-i.fits'%file[:-3], '%s-i.fits'%gz2['dr7objid'][mat])\n",
    "        \n",
    "    for i in range(len(filters)): # fits 파일 Fits/로 이동\n",
    "        os.system('mv ./*%s.fits ../Fits/Gz2/' % filters[i]) \n",
    "                #for file in os.scandir('./'): # 남은 파일들 삭제\n",
    "                    #os.remove(file.path)"
   ]
  },
  {
   "cell_type": "code",
   "execution_count": 125,
   "metadata": {},
   "outputs": [
    {
     "data": {
      "text/plain": [
       "588015510343188539"
      ]
     },
     "execution_count": 125,
     "metadata": {},
     "output_type": "execute_result"
    }
   ],
   "source": [
    "gz2['dr7objid'][matched[0][10]]"
   ]
  },
  {
   "cell_type": "code",
   "execution_count": 147,
   "metadata": {},
   "outputs": [
    {
     "data": {
      "text/plain": [
       "True"
      ]
     },
     "execution_count": 147,
     "metadata": {},
     "output_type": "execute_result"
    }
   ],
   "source": [
    "os.path.exists('/media/M86/EunSukWork/Galaxy_zoo/Fits/Gz2/587737810101797329-g.fits')"
   ]
  },
  {
   "cell_type": "code",
   "execution_count": 132,
   "metadata": {},
   "outputs": [
    {
     "name": "stdout",
     "output_type": "stream",
     "text": [
      "587738195036012952\n",
      "587737810101797329\n"
     ]
    }
   ],
   "source": [
    "for mat in matched[0][5567:5569]:\n",
    "    print(gz2['dr7objid'][mat])"
   ]
  },
  {
   "cell_type": "code",
   "execution_count": 169,
   "metadata": {},
   "outputs": [],
   "source": [
    "deg_df = pd.DataFrame(list_sh_deg, columns=['list_deg'])"
   ]
  },
  {
   "cell_type": "code",
   "execution_count": 171,
   "metadata": {},
   "outputs": [],
   "source": [
    "deg_df.index = matched[0]"
   ]
  },
  {
   "cell_type": "code",
   "execution_count": 210,
   "metadata": {},
   "outputs": [],
   "source": [
    "deg_df.sort_index(inplace=True)"
   ]
  },
  {
   "cell_type": "code",
   "execution_count": 211,
   "metadata": {},
   "outputs": [
    {
     "data": {
      "text/html": [
       "<div>\n",
       "<style scoped>\n",
       "    .dataframe tbody tr th:only-of-type {\n",
       "        vertical-align: middle;\n",
       "    }\n",
       "\n",
       "    .dataframe tbody tr th {\n",
       "        vertical-align: top;\n",
       "    }\n",
       "\n",
       "    .dataframe thead th {\n",
       "        text-align: right;\n",
       "    }\n",
       "</style>\n",
       "<table border=\"1\" class=\"dataframe\">\n",
       "  <thead>\n",
       "    <tr style=\"text-align: right;\">\n",
       "      <th></th>\n",
       "      <th>list_deg</th>\n",
       "    </tr>\n",
       "  </thead>\n",
       "  <tbody>\n",
       "    <tr>\n",
       "      <th>0</th>\n",
       "      <td>J104357.00+114213.0</td>\n",
       "    </tr>\n",
       "    <tr>\n",
       "      <th>1</th>\n",
       "      <td>J124938.00+150951.0</td>\n",
       "    </tr>\n",
       "    <tr>\n",
       "      <th>2</th>\n",
       "      <td>J140312.00+542056.0</td>\n",
       "    </tr>\n",
       "    <tr>\n",
       "      <th>3</th>\n",
       "      <td>J122112.00+182257.0</td>\n",
       "    </tr>\n",
       "    <tr>\n",
       "      <th>4</th>\n",
       "      <td>J122928.00+084459.0</td>\n",
       "    </tr>\n",
       "    <tr>\n",
       "      <th>...</th>\n",
       "      <td>...</td>\n",
       "    </tr>\n",
       "    <tr>\n",
       "      <th>243495</th>\n",
       "      <td>J094041.00+630915.0</td>\n",
       "    </tr>\n",
       "    <tr>\n",
       "      <th>243496</th>\n",
       "      <td>J131925.00-010214.0</td>\n",
       "    </tr>\n",
       "    <tr>\n",
       "      <th>243497</th>\n",
       "      <td>J091828.00+101904.0</td>\n",
       "    </tr>\n",
       "    <tr>\n",
       "      <th>243498</th>\n",
       "      <td>J032952.00-004500.0</td>\n",
       "    </tr>\n",
       "    <tr>\n",
       "      <th>243499</th>\n",
       "      <td>J032403.00-000007.0</td>\n",
       "    </tr>\n",
       "  </tbody>\n",
       "</table>\n",
       "<p>242769 rows × 1 columns</p>\n",
       "</div>"
      ],
      "text/plain": [
       "                   list_deg\n",
       "0       J104357.00+114213.0\n",
       "1       J124938.00+150951.0\n",
       "2       J140312.00+542056.0\n",
       "3       J122112.00+182257.0\n",
       "4       J122928.00+084459.0\n",
       "...                     ...\n",
       "243495  J094041.00+630915.0\n",
       "243496  J131925.00-010214.0\n",
       "243497  J091828.00+101904.0\n",
       "243498  J032952.00-004500.0\n",
       "243499  J032403.00-000007.0\n",
       "\n",
       "[242769 rows x 1 columns]"
      ]
     },
     "execution_count": 211,
     "metadata": {},
     "output_type": "execute_result"
    }
   ],
   "source": [
    "deg_df"
   ]
  },
  {
   "cell_type": "code",
   "execution_count": 212,
   "metadata": {
    "collapsed": true,
    "jupyter": {
     "outputs_hidden": true
    }
   },
   "outputs": [
    {
     "ename": "ValueError",
     "evalue": "cannot reindex from a duplicate axis",
     "output_type": "error",
     "traceback": [
      "\u001b[0;31m---------------------------------------------------------------------------\u001b[0m",
      "\u001b[0;31mValueError\u001b[0m                                Traceback (most recent call last)",
      "\u001b[0;32m<ipython-input-212-c500d9fd2c66>\u001b[0m in \u001b[0;36m<module>\u001b[0;34m\u001b[0m\n\u001b[0;32m----> 1\u001b[0;31m \u001b[0mgz2\u001b[0m\u001b[0;34m[\u001b[0m\u001b[0;34m'list_deg'\u001b[0m\u001b[0;34m]\u001b[0m \u001b[0;34m=\u001b[0m \u001b[0mdeg_df\u001b[0m\u001b[0;34m[\u001b[0m\u001b[0;34m'list_deg'\u001b[0m\u001b[0;34m]\u001b[0m\u001b[0;34m\u001b[0m\u001b[0;34m\u001b[0m\u001b[0m\n\u001b[0m",
      "\u001b[0;32m/home/anaconda3/lib/python3.7/site-packages/pandas/core/frame.py\u001b[0m in \u001b[0;36m__setitem__\u001b[0;34m(self, key, value)\u001b[0m\n\u001b[1;32m   2936\u001b[0m         \u001b[0;32melse\u001b[0m\u001b[0;34m:\u001b[0m\u001b[0;34m\u001b[0m\u001b[0;34m\u001b[0m\u001b[0m\n\u001b[1;32m   2937\u001b[0m             \u001b[0;31m# set column\u001b[0m\u001b[0;34m\u001b[0m\u001b[0;34m\u001b[0m\u001b[0;34m\u001b[0m\u001b[0m\n\u001b[0;32m-> 2938\u001b[0;31m             \u001b[0mself\u001b[0m\u001b[0;34m.\u001b[0m\u001b[0m_set_item\u001b[0m\u001b[0;34m(\u001b[0m\u001b[0mkey\u001b[0m\u001b[0;34m,\u001b[0m \u001b[0mvalue\u001b[0m\u001b[0;34m)\u001b[0m\u001b[0;34m\u001b[0m\u001b[0;34m\u001b[0m\u001b[0m\n\u001b[0m\u001b[1;32m   2939\u001b[0m \u001b[0;34m\u001b[0m\u001b[0m\n\u001b[1;32m   2940\u001b[0m     \u001b[0;32mdef\u001b[0m \u001b[0m_setitem_slice\u001b[0m\u001b[0;34m(\u001b[0m\u001b[0mself\u001b[0m\u001b[0;34m,\u001b[0m \u001b[0mkey\u001b[0m\u001b[0;34m,\u001b[0m \u001b[0mvalue\u001b[0m\u001b[0;34m)\u001b[0m\u001b[0;34m:\u001b[0m\u001b[0;34m\u001b[0m\u001b[0;34m\u001b[0m\u001b[0m\n",
      "\u001b[0;32m/home/anaconda3/lib/python3.7/site-packages/pandas/core/frame.py\u001b[0m in \u001b[0;36m_set_item\u001b[0;34m(self, key, value)\u001b[0m\n\u001b[1;32m   2998\u001b[0m \u001b[0;34m\u001b[0m\u001b[0m\n\u001b[1;32m   2999\u001b[0m         \u001b[0mself\u001b[0m\u001b[0;34m.\u001b[0m\u001b[0m_ensure_valid_index\u001b[0m\u001b[0;34m(\u001b[0m\u001b[0mvalue\u001b[0m\u001b[0;34m)\u001b[0m\u001b[0;34m\u001b[0m\u001b[0;34m\u001b[0m\u001b[0m\n\u001b[0;32m-> 3000\u001b[0;31m         \u001b[0mvalue\u001b[0m \u001b[0;34m=\u001b[0m \u001b[0mself\u001b[0m\u001b[0;34m.\u001b[0m\u001b[0m_sanitize_column\u001b[0m\u001b[0;34m(\u001b[0m\u001b[0mkey\u001b[0m\u001b[0;34m,\u001b[0m \u001b[0mvalue\u001b[0m\u001b[0;34m)\u001b[0m\u001b[0;34m\u001b[0m\u001b[0;34m\u001b[0m\u001b[0m\n\u001b[0m\u001b[1;32m   3001\u001b[0m         \u001b[0mNDFrame\u001b[0m\u001b[0;34m.\u001b[0m\u001b[0m_set_item\u001b[0m\u001b[0;34m(\u001b[0m\u001b[0mself\u001b[0m\u001b[0;34m,\u001b[0m \u001b[0mkey\u001b[0m\u001b[0;34m,\u001b[0m \u001b[0mvalue\u001b[0m\u001b[0;34m)\u001b[0m\u001b[0;34m\u001b[0m\u001b[0;34m\u001b[0m\u001b[0m\n\u001b[1;32m   3002\u001b[0m \u001b[0;34m\u001b[0m\u001b[0m\n",
      "\u001b[0;32m/home/anaconda3/lib/python3.7/site-packages/pandas/core/frame.py\u001b[0m in \u001b[0;36m_sanitize_column\u001b[0;34m(self, key, value, broadcast)\u001b[0m\n\u001b[1;32m   3611\u001b[0m \u001b[0;34m\u001b[0m\u001b[0m\n\u001b[1;32m   3612\u001b[0m         \u001b[0;32mif\u001b[0m \u001b[0misinstance\u001b[0m\u001b[0;34m(\u001b[0m\u001b[0mvalue\u001b[0m\u001b[0;34m,\u001b[0m \u001b[0mSeries\u001b[0m\u001b[0;34m)\u001b[0m\u001b[0;34m:\u001b[0m\u001b[0;34m\u001b[0m\u001b[0;34m\u001b[0m\u001b[0m\n\u001b[0;32m-> 3613\u001b[0;31m             \u001b[0mvalue\u001b[0m \u001b[0;34m=\u001b[0m \u001b[0mreindexer\u001b[0m\u001b[0;34m(\u001b[0m\u001b[0mvalue\u001b[0m\u001b[0;34m)\u001b[0m\u001b[0;34m\u001b[0m\u001b[0;34m\u001b[0m\u001b[0m\n\u001b[0m\u001b[1;32m   3614\u001b[0m \u001b[0;34m\u001b[0m\u001b[0m\n\u001b[1;32m   3615\u001b[0m         \u001b[0;32melif\u001b[0m \u001b[0misinstance\u001b[0m\u001b[0;34m(\u001b[0m\u001b[0mvalue\u001b[0m\u001b[0;34m,\u001b[0m \u001b[0mDataFrame\u001b[0m\u001b[0;34m)\u001b[0m\u001b[0;34m:\u001b[0m\u001b[0;34m\u001b[0m\u001b[0;34m\u001b[0m\u001b[0m\n",
      "\u001b[0;32m/home/anaconda3/lib/python3.7/site-packages/pandas/core/frame.py\u001b[0m in \u001b[0;36mreindexer\u001b[0;34m(value)\u001b[0m\n\u001b[1;32m   3602\u001b[0m                     \u001b[0;32mif\u001b[0m \u001b[0;32mnot\u001b[0m \u001b[0mvalue\u001b[0m\u001b[0;34m.\u001b[0m\u001b[0mindex\u001b[0m\u001b[0;34m.\u001b[0m\u001b[0mis_unique\u001b[0m\u001b[0;34m:\u001b[0m\u001b[0;34m\u001b[0m\u001b[0;34m\u001b[0m\u001b[0m\n\u001b[1;32m   3603\u001b[0m                         \u001b[0;31m# duplicate axis\u001b[0m\u001b[0;34m\u001b[0m\u001b[0;34m\u001b[0m\u001b[0;34m\u001b[0m\u001b[0m\n\u001b[0;32m-> 3604\u001b[0;31m                         \u001b[0;32mraise\u001b[0m \u001b[0merr\u001b[0m\u001b[0;34m\u001b[0m\u001b[0;34m\u001b[0m\u001b[0m\n\u001b[0m\u001b[1;32m   3605\u001b[0m \u001b[0;34m\u001b[0m\u001b[0m\n\u001b[1;32m   3606\u001b[0m                     \u001b[0;31m# other\u001b[0m\u001b[0;34m\u001b[0m\u001b[0;34m\u001b[0m\u001b[0;34m\u001b[0m\u001b[0m\n",
      "\u001b[0;32m/home/anaconda3/lib/python3.7/site-packages/pandas/core/frame.py\u001b[0m in \u001b[0;36mreindexer\u001b[0;34m(value)\u001b[0m\n\u001b[1;32m   3597\u001b[0m                 \u001b[0;31m# GH 4107\u001b[0m\u001b[0;34m\u001b[0m\u001b[0;34m\u001b[0m\u001b[0;34m\u001b[0m\u001b[0m\n\u001b[1;32m   3598\u001b[0m                 \u001b[0;32mtry\u001b[0m\u001b[0;34m:\u001b[0m\u001b[0;34m\u001b[0m\u001b[0;34m\u001b[0m\u001b[0m\n\u001b[0;32m-> 3599\u001b[0;31m                     \u001b[0mvalue\u001b[0m \u001b[0;34m=\u001b[0m \u001b[0mvalue\u001b[0m\u001b[0;34m.\u001b[0m\u001b[0mreindex\u001b[0m\u001b[0;34m(\u001b[0m\u001b[0mself\u001b[0m\u001b[0;34m.\u001b[0m\u001b[0mindex\u001b[0m\u001b[0;34m)\u001b[0m\u001b[0;34m.\u001b[0m\u001b[0m_values\u001b[0m\u001b[0;34m\u001b[0m\u001b[0;34m\u001b[0m\u001b[0m\n\u001b[0m\u001b[1;32m   3600\u001b[0m                 \u001b[0;32mexcept\u001b[0m \u001b[0mValueError\u001b[0m \u001b[0;32mas\u001b[0m \u001b[0merr\u001b[0m\u001b[0;34m:\u001b[0m\u001b[0;34m\u001b[0m\u001b[0;34m\u001b[0m\u001b[0m\n\u001b[1;32m   3601\u001b[0m                     \u001b[0;31m# raised in MultiIndex.from_tuples, see test_insert_error_msmgs\u001b[0m\u001b[0;34m\u001b[0m\u001b[0;34m\u001b[0m\u001b[0;34m\u001b[0m\u001b[0m\n",
      "\u001b[0;32m/home/anaconda3/lib/python3.7/site-packages/pandas/core/series.py\u001b[0m in \u001b[0;36mreindex\u001b[0;34m(self, index, **kwargs)\u001b[0m\n\u001b[1;32m   4028\u001b[0m     \u001b[0;34m@\u001b[0m\u001b[0mAppender\u001b[0m\u001b[0;34m(\u001b[0m\u001b[0mgeneric\u001b[0m\u001b[0;34m.\u001b[0m\u001b[0mNDFrame\u001b[0m\u001b[0;34m.\u001b[0m\u001b[0mreindex\u001b[0m\u001b[0;34m.\u001b[0m\u001b[0m__doc__\u001b[0m\u001b[0;34m)\u001b[0m\u001b[0;34m\u001b[0m\u001b[0;34m\u001b[0m\u001b[0m\n\u001b[1;32m   4029\u001b[0m     \u001b[0;32mdef\u001b[0m \u001b[0mreindex\u001b[0m\u001b[0;34m(\u001b[0m\u001b[0mself\u001b[0m\u001b[0;34m,\u001b[0m \u001b[0mindex\u001b[0m\u001b[0;34m=\u001b[0m\u001b[0;32mNone\u001b[0m\u001b[0;34m,\u001b[0m \u001b[0;34m**\u001b[0m\u001b[0mkwargs\u001b[0m\u001b[0;34m)\u001b[0m\u001b[0;34m:\u001b[0m\u001b[0;34m\u001b[0m\u001b[0;34m\u001b[0m\u001b[0m\n\u001b[0;32m-> 4030\u001b[0;31m         \u001b[0;32mreturn\u001b[0m \u001b[0msuper\u001b[0m\u001b[0;34m(\u001b[0m\u001b[0;34m)\u001b[0m\u001b[0;34m.\u001b[0m\u001b[0mreindex\u001b[0m\u001b[0;34m(\u001b[0m\u001b[0mindex\u001b[0m\u001b[0;34m=\u001b[0m\u001b[0mindex\u001b[0m\u001b[0;34m,\u001b[0m \u001b[0;34m**\u001b[0m\u001b[0mkwargs\u001b[0m\u001b[0;34m)\u001b[0m\u001b[0;34m\u001b[0m\u001b[0;34m\u001b[0m\u001b[0m\n\u001b[0m\u001b[1;32m   4031\u001b[0m \u001b[0;34m\u001b[0m\u001b[0m\n\u001b[1;32m   4032\u001b[0m     def drop(\n",
      "\u001b[0;32m/home/anaconda3/lib/python3.7/site-packages/pandas/core/generic.py\u001b[0m in \u001b[0;36mreindex\u001b[0;34m(self, *args, **kwargs)\u001b[0m\n\u001b[1;32m   4542\u001b[0m         \u001b[0;31m# perform the reindex on the axes\u001b[0m\u001b[0;34m\u001b[0m\u001b[0;34m\u001b[0m\u001b[0;34m\u001b[0m\u001b[0m\n\u001b[1;32m   4543\u001b[0m         return self._reindex_axes(\n\u001b[0;32m-> 4544\u001b[0;31m             \u001b[0maxes\u001b[0m\u001b[0;34m,\u001b[0m \u001b[0mlevel\u001b[0m\u001b[0;34m,\u001b[0m \u001b[0mlimit\u001b[0m\u001b[0;34m,\u001b[0m \u001b[0mtolerance\u001b[0m\u001b[0;34m,\u001b[0m \u001b[0mmethod\u001b[0m\u001b[0;34m,\u001b[0m \u001b[0mfill_value\u001b[0m\u001b[0;34m,\u001b[0m \u001b[0mcopy\u001b[0m\u001b[0;34m\u001b[0m\u001b[0;34m\u001b[0m\u001b[0m\n\u001b[0m\u001b[1;32m   4545\u001b[0m         ).__finalize__(self)\n\u001b[1;32m   4546\u001b[0m \u001b[0;34m\u001b[0m\u001b[0m\n",
      "\u001b[0;32m/home/anaconda3/lib/python3.7/site-packages/pandas/core/generic.py\u001b[0m in \u001b[0;36m_reindex_axes\u001b[0;34m(self, axes, level, limit, tolerance, method, fill_value, copy)\u001b[0m\n\u001b[1;32m   4565\u001b[0m                 \u001b[0mfill_value\u001b[0m\u001b[0;34m=\u001b[0m\u001b[0mfill_value\u001b[0m\u001b[0;34m,\u001b[0m\u001b[0;34m\u001b[0m\u001b[0;34m\u001b[0m\u001b[0m\n\u001b[1;32m   4566\u001b[0m                 \u001b[0mcopy\u001b[0m\u001b[0;34m=\u001b[0m\u001b[0mcopy\u001b[0m\u001b[0;34m,\u001b[0m\u001b[0;34m\u001b[0m\u001b[0;34m\u001b[0m\u001b[0m\n\u001b[0;32m-> 4567\u001b[0;31m                 \u001b[0mallow_dups\u001b[0m\u001b[0;34m=\u001b[0m\u001b[0;32mFalse\u001b[0m\u001b[0;34m,\u001b[0m\u001b[0;34m\u001b[0m\u001b[0;34m\u001b[0m\u001b[0m\n\u001b[0m\u001b[1;32m   4568\u001b[0m             )\n\u001b[1;32m   4569\u001b[0m \u001b[0;34m\u001b[0m\u001b[0m\n",
      "\u001b[0;32m/home/anaconda3/lib/python3.7/site-packages/pandas/core/generic.py\u001b[0m in \u001b[0;36m_reindex_with_indexers\u001b[0;34m(self, reindexers, fill_value, copy, allow_dups)\u001b[0m\n\u001b[1;32m   4611\u001b[0m                 \u001b[0mfill_value\u001b[0m\u001b[0;34m=\u001b[0m\u001b[0mfill_value\u001b[0m\u001b[0;34m,\u001b[0m\u001b[0;34m\u001b[0m\u001b[0;34m\u001b[0m\u001b[0m\n\u001b[1;32m   4612\u001b[0m                 \u001b[0mallow_dups\u001b[0m\u001b[0;34m=\u001b[0m\u001b[0mallow_dups\u001b[0m\u001b[0;34m,\u001b[0m\u001b[0;34m\u001b[0m\u001b[0;34m\u001b[0m\u001b[0m\n\u001b[0;32m-> 4613\u001b[0;31m                 \u001b[0mcopy\u001b[0m\u001b[0;34m=\u001b[0m\u001b[0mcopy\u001b[0m\u001b[0;34m,\u001b[0m\u001b[0;34m\u001b[0m\u001b[0;34m\u001b[0m\u001b[0m\n\u001b[0m\u001b[1;32m   4614\u001b[0m             )\n\u001b[1;32m   4615\u001b[0m \u001b[0;34m\u001b[0m\u001b[0m\n",
      "\u001b[0;32m/home/anaconda3/lib/python3.7/site-packages/pandas/core/internals/managers.py\u001b[0m in \u001b[0;36mreindex_indexer\u001b[0;34m(self, new_axis, indexer, axis, fill_value, allow_dups, copy)\u001b[0m\n\u001b[1;32m   1249\u001b[0m         \u001b[0;31m# some axes don't allow reindexing with dups\u001b[0m\u001b[0;34m\u001b[0m\u001b[0;34m\u001b[0m\u001b[0;34m\u001b[0m\u001b[0m\n\u001b[1;32m   1250\u001b[0m         \u001b[0;32mif\u001b[0m \u001b[0;32mnot\u001b[0m \u001b[0mallow_dups\u001b[0m\u001b[0;34m:\u001b[0m\u001b[0;34m\u001b[0m\u001b[0;34m\u001b[0m\u001b[0m\n\u001b[0;32m-> 1251\u001b[0;31m             \u001b[0mself\u001b[0m\u001b[0;34m.\u001b[0m\u001b[0maxes\u001b[0m\u001b[0;34m[\u001b[0m\u001b[0maxis\u001b[0m\u001b[0;34m]\u001b[0m\u001b[0;34m.\u001b[0m\u001b[0m_can_reindex\u001b[0m\u001b[0;34m(\u001b[0m\u001b[0mindexer\u001b[0m\u001b[0;34m)\u001b[0m\u001b[0;34m\u001b[0m\u001b[0;34m\u001b[0m\u001b[0m\n\u001b[0m\u001b[1;32m   1252\u001b[0m \u001b[0;34m\u001b[0m\u001b[0m\n\u001b[1;32m   1253\u001b[0m         \u001b[0;32mif\u001b[0m \u001b[0maxis\u001b[0m \u001b[0;34m>=\u001b[0m \u001b[0mself\u001b[0m\u001b[0;34m.\u001b[0m\u001b[0mndim\u001b[0m\u001b[0;34m:\u001b[0m\u001b[0;34m\u001b[0m\u001b[0;34m\u001b[0m\u001b[0m\n",
      "\u001b[0;32m/home/anaconda3/lib/python3.7/site-packages/pandas/core/indexes/base.py\u001b[0m in \u001b[0;36m_can_reindex\u001b[0;34m(self, indexer)\u001b[0m\n\u001b[1;32m   3097\u001b[0m         \u001b[0;31m# trying to reindex on an axis with duplicates\u001b[0m\u001b[0;34m\u001b[0m\u001b[0;34m\u001b[0m\u001b[0;34m\u001b[0m\u001b[0m\n\u001b[1;32m   3098\u001b[0m         \u001b[0;32mif\u001b[0m \u001b[0;32mnot\u001b[0m \u001b[0mself\u001b[0m\u001b[0;34m.\u001b[0m\u001b[0mis_unique\u001b[0m \u001b[0;32mand\u001b[0m \u001b[0mlen\u001b[0m\u001b[0;34m(\u001b[0m\u001b[0mindexer\u001b[0m\u001b[0;34m)\u001b[0m\u001b[0;34m:\u001b[0m\u001b[0;34m\u001b[0m\u001b[0;34m\u001b[0m\u001b[0m\n\u001b[0;32m-> 3099\u001b[0;31m             \u001b[0;32mraise\u001b[0m \u001b[0mValueError\u001b[0m\u001b[0;34m(\u001b[0m\u001b[0;34m\"cannot reindex from a duplicate axis\"\u001b[0m\u001b[0;34m)\u001b[0m\u001b[0;34m\u001b[0m\u001b[0;34m\u001b[0m\u001b[0m\n\u001b[0m\u001b[1;32m   3100\u001b[0m \u001b[0;34m\u001b[0m\u001b[0m\n\u001b[1;32m   3101\u001b[0m     \u001b[0;32mdef\u001b[0m \u001b[0mreindex\u001b[0m\u001b[0;34m(\u001b[0m\u001b[0mself\u001b[0m\u001b[0;34m,\u001b[0m \u001b[0mtarget\u001b[0m\u001b[0;34m,\u001b[0m \u001b[0mmethod\u001b[0m\u001b[0;34m=\u001b[0m\u001b[0;32mNone\u001b[0m\u001b[0;34m,\u001b[0m \u001b[0mlevel\u001b[0m\u001b[0;34m=\u001b[0m\u001b[0;32mNone\u001b[0m\u001b[0;34m,\u001b[0m \u001b[0mlimit\u001b[0m\u001b[0;34m=\u001b[0m\u001b[0;32mNone\u001b[0m\u001b[0;34m,\u001b[0m \u001b[0mtolerance\u001b[0m\u001b[0;34m=\u001b[0m\u001b[0;32mNone\u001b[0m\u001b[0;34m)\u001b[0m\u001b[0;34m:\u001b[0m\u001b[0;34m\u001b[0m\u001b[0;34m\u001b[0m\u001b[0m\n",
      "\u001b[0;31mValueError\u001b[0m: cannot reindex from a duplicate axis"
     ]
    }
   ],
   "source": [
    "gz2['list_deg'] = deg_df['list_deg'] #이건 왜 안 되지??"
   ]
  },
  {
   "cell_type": "code",
   "execution_count": null,
   "metadata": {},
   "outputs": [],
   "source": [
    "len(sorted(set(np.arange(243500))-set(matched[0]))) #왜 이게 731개보다 더 많은지 알아봐라"
   ]
  },
  {
   "cell_type": "code",
   "execution_count": 181,
   "metadata": {},
   "outputs": [
    {
     "data": {
      "text/plain": [
       "242769"
      ]
     },
     "execution_count": 181,
     "metadata": {},
     "output_type": "execute_result"
    }
   ],
   "source": [
    "len(list_sh)"
   ]
  },
  {
   "cell_type": "code",
   "execution_count": 179,
   "metadata": {},
   "outputs": [
    {
     "data": {
      "text/plain": [
       "731"
      ]
     },
     "execution_count": 179,
     "metadata": {},
     "output_type": "execute_result"
    }
   ],
   "source": [
    "243500-len(matched[0])"
   ]
  },
  {
   "cell_type": "code",
   "execution_count": 180,
   "metadata": {},
   "outputs": [
    {
     "data": {
      "text/plain": [
       "242769"
      ]
     },
     "execution_count": 180,
     "metadata": {},
     "output_type": "execute_result"
    }
   ],
   "source": [
    "deg_df.size"
   ]
  },
  {
   "cell_type": "code",
   "execution_count": 188,
   "metadata": {},
   "outputs": [
    {
     "data": {
      "text/plain": [
       "array([     0,      1,      2, ..., 243497, 243498, 243499])"
      ]
     },
     "execution_count": 188,
     "metadata": {},
     "output_type": "execute_result"
    }
   ],
   "source": [
    "np.arange(243500)"
   ]
  },
  {
   "cell_type": "code",
   "execution_count": 198,
   "metadata": {},
   "outputs": [
    {
     "data": {
      "text/plain": [
       "[216187,\n",
       " 216188,\n",
       " 216189,\n",
       " 216190,\n",
       " 216191,\n",
       " 216192,\n",
       " 216193,\n",
       " 216194,\n",
       " 216195,\n",
       " 216196,\n",
       " 216197,\n",
       " 216198,\n",
       " 216199,\n",
       " 216200,\n",
       " 216201,\n",
       " 216202,\n",
       " 216203,\n",
       " 216204,\n",
       " 216205,\n",
       " 216206]"
      ]
     },
     "execution_count": 198,
     "metadata": {},
     "output_type": "execute_result"
    }
   ],
   "source": [
    "sorted(matched[0])[216973-800:216973+20-800]"
   ]
  },
  {
   "cell_type": "code",
   "execution_count": null,
   "metadata": {},
   "outputs": [],
   "source": []
  }
 ],
 "metadata": {
  "kernelspec": {
   "display_name": "Python 3 (ipykernel)",
   "language": "python",
   "name": "python3"
  },
  "language_info": {
   "codemirror_mode": {
    "name": "ipython",
    "version": 3
   },
   "file_extension": ".py",
   "mimetype": "text/x-python",
   "name": "python",
   "nbconvert_exporter": "python",
   "pygments_lexer": "ipython3",
   "version": "3.9.12"
  },
  "vscode": {
   "interpreter": {
    "hash": "33b86a8baa15c3531779ddfa11990b149499ac573dd1459ca40b1cf8efa0594e"
   }
  }
 },
 "nbformat": 4,
 "nbformat_minor": 4
}
