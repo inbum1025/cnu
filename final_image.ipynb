{
 "cells": [
  {
   "cell_type": "code",
   "execution_count": 31,
   "id": "9ccc28c6-8511-4f2b-84b6-33fa2bf7d1d0",
   "metadata": {},
   "outputs": [],
   "source": [
    "from astropy import units as u\n",
    "from astropy.coordinates import SkyCoord, FK4\n",
    "import pandas as pd\n",
    "import wget\n",
    "import selenium\n",
    "import requests as req\n",
    "import bz2\n",
    "import os"
   ]
  },
  {
   "cell_type": "code",
   "execution_count": 4,
   "id": "523eaf3f-535d-4207-b70b-e45adfafed83",
   "metadata": {
    "tags": []
   },
   "outputs": [
    {
     "name": "stdout",
     "output_type": "stream",
     "text": [
      "100% [..........................................................................] 3126202 / 3126202"
     ]
    },
    {
     "data": {
      "text/plain": [
       "'img_fits/frame-r-003063-3-0050.fits (1).bz2'"
      ]
     },
     "execution_count": 4,
     "metadata": {},
     "output_type": "execute_result"
    }
   ],
   "source": [
    "from astropy import units as u\n",
    "from astropy.coordinates import SkyCoord, FK4\n",
    "import pandas as pd\n",
    "import wget\n",
    "import selenium\n",
    "import requests as req\n",
    "import bz2\n",
    "import os\n",
    "\n",
    "\n",
    "# def download_url(ra,dec,filters = 'gri',size = 1)\n",
    "\n",
    "# url = 'https://dr12.sdss.org/mosaics/script?onlyprimary=True&pixelscale=0.396&ra=%s&filters=%s&dec=%s&size=%s'% (ra, filters, dec, size)\n",
    "\n",
    "# wget.download(url,'cnu/img_sh')\n",
    "\n",
    "list_file = open('download.txt', 'r').read().split(' ')\n",
    "\n",
    "wget.download(list_file[1], 'img_fits')"
   ]
  },
  {
   "cell_type": "code",
   "execution_count": 7,
   "id": "07e2880b-9ac0-4a71-af99-3c6b00ddbea4",
   "metadata": {},
   "outputs": [
    {
     "name": "stdout",
     "output_type": "stream",
     "text": [
      "57\n"
     ]
    }
   ],
   "source": [
    "print(len(list_file))"
   ]
  },
  {
   "cell_type": "code",
   "execution_count": 5,
   "id": "848fa843-18bb-4409-887a-db93d8fb33ee",
   "metadata": {
    "collapsed": true,
    "jupyter": {
     "outputs_hidden": true
    },
    "tags": []
   },
   "outputs": [
    {
     "name": "stdout",
     "output_type": "stream",
     "text": [
      "https://dr12.sdss.org/sas/dr12/boss/photoObj/frames/301/3063/3/frame-g-003063-3-0050.fits.bz2\n",
      "https://dr12.sdss.org/sas/dr12/boss/photoObj/frames/301/3063/3/frame-r-003063-3-0050.fits.bz2\n",
      "https://dr12.sdss.org/sas/dr12/boss/photoObj/frames/301/3063/3/frame-i-003063-3-0050.fits.bz2\n",
      "https://dr12.sdss.org/sas/dr12/boss/photoObj/frames/301/3063/3/frame-g-003063-3-0051.fits.bz2\n",
      "https://dr12.sdss.org/sas/dr12/boss/photoObj/frames/301/3063/3/frame-r-003063-3-0051.fits.bz2\n",
      "https://dr12.sdss.org/sas/dr12/boss/photoObj/frames/301/3063/3/frame-i-003063-3-0051.fits.bz2\n",
      "https://dr12.sdss.org/sas/dr12/boss/photoObj/frames/301/3063/4/frame-g-003063-4-0052.fits.bz2\n",
      "https://dr12.sdss.org/sas/dr12/boss/photoObj/frames/301/3063/4/frame-r-003063-4-0052.fits.bz2\n",
      "https://dr12.sdss.org/sas/dr12/boss/photoObj/frames/301/3063/4/frame-i-003063-4-0052.fits.bz2\n",
      "https://dr12.sdss.org/sas/dr12/boss/photoObj/frames/301/3063/3/frame-g-003063-3-0053.fits.bz2\n",
      "https://dr12.sdss.org/sas/dr12/boss/photoObj/frames/301/3063/3/frame-r-003063-3-0053.fits.bz2\n",
      "https://dr12.sdss.org/sas/dr12/boss/photoObj/frames/301/3063/3/frame-i-003063-3-0053.fits.bz2\n",
      "https://dr12.sdss.org/sas/dr12/boss/photoObj/frames/301/3063/4/frame-g-003063-4-0053.fits.bz2\n",
      "https://dr12.sdss.org/sas/dr12/boss/photoObj/frames/301/3063/4/frame-r-003063-4-0053.fits.bz2\n",
      "https://dr12.sdss.org/sas/dr12/boss/photoObj/frames/301/3063/4/frame-i-003063-4-0053.fits.bz2\n",
      "https://dr12.sdss.org/sas/dr12/boss/photoObj/frames/301/3063/3/frame-g-003063-3-0054.fits.bz2\n",
      "https://dr12.sdss.org/sas/dr12/boss/photoObj/frames/301/3063/3/frame-r-003063-3-0054.fits.bz2\n",
      "https://dr12.sdss.org/sas/dr12/boss/photoObj/frames/301/3063/3/frame-i-003063-3-0054.fits.bz2\n",
      "https://dr12.sdss.org/sas/dr12/boss/photoObj/frames/301/3804/3/frame-g-003804-3-0198.fits.bz2\n",
      "https://dr12.sdss.org/sas/dr12/boss/photoObj/frames/301/3804/3/frame-r-003804-3-0198.fits.bz2\n",
      "https://dr12.sdss.org/sas/dr12/boss/photoObj/frames/301/3804/3/frame-i-003804-3-0198.fits.bz2\n",
      "https://dr12.sdss.org/sas/dr12/boss/photoObj/frames/301/3804/4/frame-g-003804-4-0198.fits.bz2\n",
      "https://dr12.sdss.org/sas/dr12/boss/photoObj/frames/301/3804/4/frame-r-003804-4-0198.fits.bz2\n",
      "https://dr12.sdss.org/sas/dr12/boss/photoObj/frames/301/3804/4/frame-i-003804-4-0198.fits.bz2\n",
      "https://dr12.sdss.org/sas/dr12/boss/photoObj/frames/301/3804/4/frame-g-003804-4-0199.fits.bz2\n",
      "https://dr12.sdss.org/sas/dr12/boss/photoObj/frames/301/3804/4/frame-r-003804-4-0199.fits.bz2\n",
      "https://dr12.sdss.org/sas/dr12/boss/photoObj/frames/301/3804/4/frame-i-003804-4-0199.fits.bz2\n",
      "https://dr12.sdss.org/sas/dr12/boss/photoObj/frames/301/3804/3/frame-g-003804-3-0199.fits.bz2\n",
      "https://dr12.sdss.org/sas/dr12/boss/photoObj/frames/301/3804/3/frame-r-003804-3-0199.fits.bz2\n",
      "https://dr12.sdss.org/sas/dr12/boss/photoObj/frames/301/3804/3/frame-i-003804-3-0199.fits.bz2\n",
      "https://dr12.sdss.org/sas/dr12/boss/photoObj/frames/301/3804/3/frame-g-003804-3-0200.fits.bz2\n",
      "https://dr12.sdss.org/sas/dr12/boss/photoObj/frames/301/3804/3/frame-r-003804-3-0200.fits.bz2\n",
      "https://dr12.sdss.org/sas/dr12/boss/photoObj/frames/301/3804/3/frame-i-003804-3-0200.fits.bz2\n",
      "https://dr12.sdss.org/sas/dr12/boss/photoObj/frames/301/3804/4/frame-g-003804-4-0200.fits.bz2\n",
      "https://dr12.sdss.org/sas/dr12/boss/photoObj/frames/301/3804/4/frame-r-003804-4-0200.fits.bz2\n",
      "https://dr12.sdss.org/sas/dr12/boss/photoObj/frames/301/3804/4/frame-i-003804-4-0200.fits.bz2\n",
      "https://dr12.sdss.org/sas/dr12/boss/photoObj/frames/301/3804/3/frame-g-003804-3-0201.fits.bz2\n",
      "https://dr12.sdss.org/sas/dr12/boss/photoObj/frames/301/3804/3/frame-r-003804-3-0201.fits.bz2\n",
      "https://dr12.sdss.org/sas/dr12/boss/photoObj/frames/301/3804/3/frame-i-003804-3-0201.fits.bz2\n",
      "https://dr12.sdss.org/sas/dr12/boss/photoObj/frames/301/3804/4/frame-g-003804-4-0201.fits.bz2\n",
      "https://dr12.sdss.org/sas/dr12/boss/photoObj/frames/301/3804/4/frame-r-003804-4-0201.fits.bz2\n",
      "https://dr12.sdss.org/sas/dr12/boss/photoObj/frames/301/3804/4/frame-i-003804-4-0201.fits.bz2\n",
      "https://dr12.sdss.org/sas/dr12/boss/photoObj/frames/301/3836/3/frame-g-003836-3-0256.fits.bz2\n",
      "https://dr12.sdss.org/sas/dr12/boss/photoObj/frames/301/3836/3/frame-r-003836-3-0256.fits.bz2\n",
      "https://dr12.sdss.org/sas/dr12/boss/photoObj/frames/301/3836/3/frame-i-003836-3-0256.fits.bz2\n",
      "https://dr12.sdss.org/sas/dr12/boss/photoObj/frames/301/3836/3/frame-g-003836-3-0257.fits.bz2\n",
      "https://dr12.sdss.org/sas/dr12/boss/photoObj/frames/301/3836/3/frame-r-003836-3-0257.fits.bz2\n",
      "https://dr12.sdss.org/sas/dr12/boss/photoObj/frames/301/3836/3/frame-i-003836-3-0257.fits.bz2\n",
      "https://dr12.sdss.org/sas/dr12/boss/photoObj/frames/301/3836/3/frame-g-003836-3-0258.fits.bz2\n",
      "https://dr12.sdss.org/sas/dr12/boss/photoObj/frames/301/3836/3/frame-r-003836-3-0258.fits.bz2\n",
      "https://dr12.sdss.org/sas/dr12/boss/photoObj/frames/301/3836/3/frame-i-003836-3-0258.fits.bz2\n",
      "https://dr12.sdss.org/sas/dr12/boss/photoObj/frames/301/3836/3/frame-g-003836-3-0259.fits.bz2\n",
      "https://dr12.sdss.org/sas/dr12/boss/photoObj/frames/301/3836/3/frame-r-003836-3-0259.fits.bz2\n",
      "https://dr12.sdss.org/sas/dr12/boss/photoObj/frames/301/3836/3/frame-i-003836-3-0259.fits.bz2\n",
      "https://dr12.sdss.org/sas/dr12/boss/photoObj/frames/301/3836/3/frame-g-003836-3-0260.fits.bz2\n",
      "https://dr12.sdss.org/sas/dr12/boss/photoObj/frames/301/3836/3/frame-r-003836-3-0260.fits.bz2\n",
      "https://dr12.sdss.org/sas/dr12/boss/photoObj/frames/301/3836/3/frame-i-003836-3-0260.fits.bz2\n"
     ]
    }
   ],
   "source": [
    "for i in list_file : \n",
    "    print(i)"
   ]
  },
  {
   "cell_type": "code",
   "execution_count": 6,
   "id": "330e28c6-9ed6-4fbe-a14a-c9bae09beed2",
   "metadata": {
    "collapsed": true,
    "jupyter": {
     "outputs_hidden": true
    },
    "tags": []
   },
   "outputs": [
    {
     "name": "stdout",
     "output_type": "stream",
     "text": [
      "['https://dr12.sdss.org/sas/dr12/boss/photoObj/frames/301/3063/3/frame-g-003063-3-0050.fits.bz2', 'https://dr12.sdss.org/sas/dr12/boss/photoObj/frames/301/3063/3/frame-r-003063-3-0050.fits.bz2', 'https://dr12.sdss.org/sas/dr12/boss/photoObj/frames/301/3063/3/frame-i-003063-3-0050.fits.bz2', 'https://dr12.sdss.org/sas/dr12/boss/photoObj/frames/301/3063/3/frame-g-003063-3-0051.fits.bz2', 'https://dr12.sdss.org/sas/dr12/boss/photoObj/frames/301/3063/3/frame-r-003063-3-0051.fits.bz2', 'https://dr12.sdss.org/sas/dr12/boss/photoObj/frames/301/3063/3/frame-i-003063-3-0051.fits.bz2', 'https://dr12.sdss.org/sas/dr12/boss/photoObj/frames/301/3063/4/frame-g-003063-4-0052.fits.bz2', 'https://dr12.sdss.org/sas/dr12/boss/photoObj/frames/301/3063/4/frame-r-003063-4-0052.fits.bz2', 'https://dr12.sdss.org/sas/dr12/boss/photoObj/frames/301/3063/4/frame-i-003063-4-0052.fits.bz2', 'https://dr12.sdss.org/sas/dr12/boss/photoObj/frames/301/3063/3/frame-g-003063-3-0053.fits.bz2', 'https://dr12.sdss.org/sas/dr12/boss/photoObj/frames/301/3063/3/frame-r-003063-3-0053.fits.bz2', 'https://dr12.sdss.org/sas/dr12/boss/photoObj/frames/301/3063/3/frame-i-003063-3-0053.fits.bz2', 'https://dr12.sdss.org/sas/dr12/boss/photoObj/frames/301/3063/4/frame-g-003063-4-0053.fits.bz2', 'https://dr12.sdss.org/sas/dr12/boss/photoObj/frames/301/3063/4/frame-r-003063-4-0053.fits.bz2', 'https://dr12.sdss.org/sas/dr12/boss/photoObj/frames/301/3063/4/frame-i-003063-4-0053.fits.bz2', 'https://dr12.sdss.org/sas/dr12/boss/photoObj/frames/301/3063/3/frame-g-003063-3-0054.fits.bz2', 'https://dr12.sdss.org/sas/dr12/boss/photoObj/frames/301/3063/3/frame-r-003063-3-0054.fits.bz2', 'https://dr12.sdss.org/sas/dr12/boss/photoObj/frames/301/3063/3/frame-i-003063-3-0054.fits.bz2', 'https://dr12.sdss.org/sas/dr12/boss/photoObj/frames/301/3804/3/frame-g-003804-3-0198.fits.bz2', 'https://dr12.sdss.org/sas/dr12/boss/photoObj/frames/301/3804/3/frame-r-003804-3-0198.fits.bz2', 'https://dr12.sdss.org/sas/dr12/boss/photoObj/frames/301/3804/3/frame-i-003804-3-0198.fits.bz2', 'https://dr12.sdss.org/sas/dr12/boss/photoObj/frames/301/3804/4/frame-g-003804-4-0198.fits.bz2', 'https://dr12.sdss.org/sas/dr12/boss/photoObj/frames/301/3804/4/frame-r-003804-4-0198.fits.bz2', 'https://dr12.sdss.org/sas/dr12/boss/photoObj/frames/301/3804/4/frame-i-003804-4-0198.fits.bz2', 'https://dr12.sdss.org/sas/dr12/boss/photoObj/frames/301/3804/4/frame-g-003804-4-0199.fits.bz2', 'https://dr12.sdss.org/sas/dr12/boss/photoObj/frames/301/3804/4/frame-r-003804-4-0199.fits.bz2', 'https://dr12.sdss.org/sas/dr12/boss/photoObj/frames/301/3804/4/frame-i-003804-4-0199.fits.bz2', 'https://dr12.sdss.org/sas/dr12/boss/photoObj/frames/301/3804/3/frame-g-003804-3-0199.fits.bz2', 'https://dr12.sdss.org/sas/dr12/boss/photoObj/frames/301/3804/3/frame-r-003804-3-0199.fits.bz2', 'https://dr12.sdss.org/sas/dr12/boss/photoObj/frames/301/3804/3/frame-i-003804-3-0199.fits.bz2', 'https://dr12.sdss.org/sas/dr12/boss/photoObj/frames/301/3804/3/frame-g-003804-3-0200.fits.bz2', 'https://dr12.sdss.org/sas/dr12/boss/photoObj/frames/301/3804/3/frame-r-003804-3-0200.fits.bz2', 'https://dr12.sdss.org/sas/dr12/boss/photoObj/frames/301/3804/3/frame-i-003804-3-0200.fits.bz2', 'https://dr12.sdss.org/sas/dr12/boss/photoObj/frames/301/3804/4/frame-g-003804-4-0200.fits.bz2', 'https://dr12.sdss.org/sas/dr12/boss/photoObj/frames/301/3804/4/frame-r-003804-4-0200.fits.bz2', 'https://dr12.sdss.org/sas/dr12/boss/photoObj/frames/301/3804/4/frame-i-003804-4-0200.fits.bz2', 'https://dr12.sdss.org/sas/dr12/boss/photoObj/frames/301/3804/3/frame-g-003804-3-0201.fits.bz2', 'https://dr12.sdss.org/sas/dr12/boss/photoObj/frames/301/3804/3/frame-r-003804-3-0201.fits.bz2', 'https://dr12.sdss.org/sas/dr12/boss/photoObj/frames/301/3804/3/frame-i-003804-3-0201.fits.bz2', 'https://dr12.sdss.org/sas/dr12/boss/photoObj/frames/301/3804/4/frame-g-003804-4-0201.fits.bz2', 'https://dr12.sdss.org/sas/dr12/boss/photoObj/frames/301/3804/4/frame-r-003804-4-0201.fits.bz2', 'https://dr12.sdss.org/sas/dr12/boss/photoObj/frames/301/3804/4/frame-i-003804-4-0201.fits.bz2', 'https://dr12.sdss.org/sas/dr12/boss/photoObj/frames/301/3836/3/frame-g-003836-3-0256.fits.bz2', 'https://dr12.sdss.org/sas/dr12/boss/photoObj/frames/301/3836/3/frame-r-003836-3-0256.fits.bz2', 'https://dr12.sdss.org/sas/dr12/boss/photoObj/frames/301/3836/3/frame-i-003836-3-0256.fits.bz2', 'https://dr12.sdss.org/sas/dr12/boss/photoObj/frames/301/3836/3/frame-g-003836-3-0257.fits.bz2', 'https://dr12.sdss.org/sas/dr12/boss/photoObj/frames/301/3836/3/frame-r-003836-3-0257.fits.bz2', 'https://dr12.sdss.org/sas/dr12/boss/photoObj/frames/301/3836/3/frame-i-003836-3-0257.fits.bz2', 'https://dr12.sdss.org/sas/dr12/boss/photoObj/frames/301/3836/3/frame-g-003836-3-0258.fits.bz2', 'https://dr12.sdss.org/sas/dr12/boss/photoObj/frames/301/3836/3/frame-r-003836-3-0258.fits.bz2', 'https://dr12.sdss.org/sas/dr12/boss/photoObj/frames/301/3836/3/frame-i-003836-3-0258.fits.bz2', 'https://dr12.sdss.org/sas/dr12/boss/photoObj/frames/301/3836/3/frame-g-003836-3-0259.fits.bz2', 'https://dr12.sdss.org/sas/dr12/boss/photoObj/frames/301/3836/3/frame-r-003836-3-0259.fits.bz2', 'https://dr12.sdss.org/sas/dr12/boss/photoObj/frames/301/3836/3/frame-i-003836-3-0259.fits.bz2', 'https://dr12.sdss.org/sas/dr12/boss/photoObj/frames/301/3836/3/frame-g-003836-3-0260.fits.bz2', 'https://dr12.sdss.org/sas/dr12/boss/photoObj/frames/301/3836/3/frame-r-003836-3-0260.fits.bz2', 'https://dr12.sdss.org/sas/dr12/boss/photoObj/frames/301/3836/3/frame-i-003836-3-0260.fits.bz2']\n"
     ]
    }
   ],
   "source": [
    "print(list_file)"
   ]
  },
  {
   "cell_type": "code",
   "execution_count": 9,
   "id": "c3ec18ea-7c83-4e79-9f0f-fee37058e782",
   "metadata": {},
   "outputs": [],
   "source": [
    "ra =  187.7027\n",
    "dec = 12.3887\n",
    "filters= 'gri'   # ugriz중에서 한 글자 혹은 여러글자 연달아 써도 됨 예) u, r, riz, ugz 등...\n",
    "size = 1"
   ]
  },
  {
   "cell_type": "code",
   "execution_count": 10,
   "id": "a245e3b3-b405-44a2-9bf9-e499b04c443f",
   "metadata": {},
   "outputs": [],
   "source": [
    "url = 'https://dr12.sdss.org/mosaics/script?onlyprimary=True&pixelscale=0.396&ra=%s&filters=%s&dec=%s&size=%s'% (ra, filters, dec, size)"
   ]
  },
  {
   "cell_type": "code",
   "execution_count": 21,
   "id": "7cc121c0-dc4b-43a8-9063-34ddd5af8120",
   "metadata": {},
   "outputs": [
    {
     "name": "stdout",
     "output_type": "stream",
     "text": [
      "100% [............................................................................] 228905 / 228905"
     ]
    },
    {
     "data": {
      "text/plain": [
       "'img_sh/J123048.00+122319.0.sh'"
      ]
     },
     "execution_count": 21,
     "metadata": {},
     "output_type": "execute_result"
    }
   ],
   "source": [
    "wget.download(url, 'img_sh')"
   ]
  },
  {
   "cell_type": "code",
   "execution_count": 14,
   "id": "b75bf767-8412-470e-bea6-2b0e8a9cafd8",
   "metadata": {},
   "outputs": [
    {
     "name": "stdout",
     "output_type": "stream",
     "text": [
      "https://dr12.sdss.org/mosaics/script?onlyprimary=True&pixelscale=0.396&ra=187.7027&filters=gri&dec=12.3887&size=1\n"
     ]
    }
   ],
   "source": [
    "print(url)"
   ]
  },
  {
   "cell_type": "code",
   "execution_count": 22,
   "id": "b3cdd52b-e4ac-490b-9671-528ebd73f415",
   "metadata": {},
   "outputs": [
    {
     "data": {
      "text/plain": [
       "['.ipynb_checkpoints', 'J123048.00+122319.0.sh']"
      ]
     },
     "execution_count": 22,
     "metadata": {},
     "output_type": "execute_result"
    }
   ],
   "source": [
    "os.listdir('img_sh')"
   ]
  },
  {
   "cell_type": "code",
   "execution_count": 34,
   "id": "3cf8e6b5-5731-474e-9a15-12637487e9e3",
   "metadata": {
    "tags": []
   },
   "outputs": [],
   "source": [
    "a = os.popen('/img_sh/J123048.00+122319.0.sh')"
   ]
  },
  {
   "cell_type": "code",
   "execution_count": null,
   "id": "3c70ac26-e60e-466b-8f02-d4080de055e3",
   "metadata": {},
   "outputs": [],
   "source": [
    "#OneDrive - 충남대학교/workspace/cnu_project/sdss_data/match.ipynb"
   ]
  },
  {
   "cell_type": "code",
   "execution_count": 35,
   "id": "1a5a8f5e-764d-4be5-acfd-066448e09eca",
   "metadata": {},
   "outputs": [
    {
     "data": {
      "text/plain": [
       "''"
      ]
     },
     "execution_count": 35,
     "metadata": {},
     "output_type": "execute_result"
    }
   ],
   "source": [
    "a = a.read()\n",
    "a"
   ]
  },
  {
   "cell_type": "code",
   "execution_count": null,
   "id": "fac93011-dce1-4c6e-9cf9-fb4a57d7d73d",
   "metadata": {},
   "outputs": [],
   "source": []
  }
 ],
 "metadata": {
  "kernelspec": {
   "display_name": "Python 3 (ipykernel)",
   "language": "python",
   "name": "python3"
  },
  "language_info": {
   "codemirror_mode": {
    "name": "ipython",
    "version": 3
   },
   "file_extension": ".py",
   "mimetype": "text/x-python",
   "name": "python",
   "nbconvert_exporter": "python",
   "pygments_lexer": "ipython3",
   "version": "3.9.12"
  }
 },
 "nbformat": 4,
 "nbformat_minor": 5
}
