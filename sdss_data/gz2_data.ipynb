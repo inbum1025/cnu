{
 "cells": [
  {
   "cell_type": "code",
   "execution_count": 8,
   "id": "e6917c99-196e-41c5-9863-e5be647719c0",
   "metadata": {},
   "outputs": [
    {
     "name": "stdout",
     "output_type": "stream",
     "text": [
      "Collecting package metadata (current_repodata.json): ...working... done\n",
      "Solving environment: ...working... done\n",
      "\n",
      "# All requested packages already installed.\n",
      "\n",
      "Retrieving notices: ...working... done\n",
      "\n",
      "Note: you may need to restart the kernel to use updated packages.\n"
     ]
    }
   ],
   "source": [
    "conda install astropy"
   ]
  },
  {
   "cell_type": "code",
   "execution_count": 3,
   "id": "f59a7d82-1fab-49d1-bc9d-d3d8d3eea249",
   "metadata": {},
   "outputs": [],
   "source": [
    "import numpy as np\n",
    "import matplotlib.pyplot as plt\n",
    "import astropy.io.fits as fits"
   ]
  },
  {
   "cell_type": "markdown",
   "id": "0dd1be54-488e-4093-94e1-0b065c489974",
   "metadata": {},
   "source": [
    "## data info 확인하기"
   ]
  },
  {
   "cell_type": "code",
   "execution_count": 4,
   "id": "ee88ccf4-e4d5-4270-8f0d-cd4ecddac7df",
   "metadata": {},
   "outputs": [
    {
     "name": "stdout",
     "output_type": "stream",
     "text": [
      "Filename: gz2_hart16-Copy1.fits\n",
      "No.    Name      Ver    Type      Cards   Dimensions   Format\n",
      "  0  PRIMARY       1 PrimaryHDU       4   ()      \n",
      "  1                1 BinTableHDU    547   239695R x 231C   [K, E, E, 44A, 44A, 80A, 8A, I, I, I, E, E, E, D, K, I, E, E, E, D, K, I, E, E, E, D, K, I, E, E, E, D, K, I, E, E, E, D, K, I, E, E, E, D, K, I, E, E, E, D, K, I, E, E, E, D, K, I, E, E, E, D, K, I, E, E, E, D, K, I, E, E, E, D, K, I, E, E, E, D, K, I, E, E, E, D, K, I, E, E, E, D, K, I, E, E, E, D, K, I, E, E, E, D, K, I, E, E, E, D, K, I, E, E, E, D, K, I, E, E, E, D, K, I, E, E, E, D, K, I, E, E, E, D, K, I, E, E, E, D, K, I, E, E, E, D, K, I, E, E, E, D, K, I, E, E, E, D, K, I, E, E, E, D, K, I, E, E, E, D, K, I, E, E, E, D, K, I, E, E, E, D, K, I, E, E, E, D, K, I, E, E, E, D, K, I, E, E, E, D, K, I, E, E, E, D, K, I, E, E, E, D, K, I, E, E, E, D, K, I, E, E, E, D, K, I, E, E, E, D, K]   \n"
     ]
    }
   ],
   "source": [
    "gz2_data = fits.open('gz2_hart16-Copy1.fits')\n",
    "gz2_data.info()"
   ]
  },
  {
   "cell_type": "code",
   "execution_count": 1,
   "id": "8bf90e74-101b-4afb-9b9a-08d009109cbe",
   "metadata": {},
   "outputs": [
    {
     "ename": "NameError",
     "evalue": "name 'gz2_data' is not defined",
     "output_type": "error",
     "traceback": [
      "\u001b[1;31m---------------------------------------------------------------------------\u001b[0m",
      "\u001b[1;31mNameError\u001b[0m                                 Traceback (most recent call last)",
      "Input \u001b[1;32mIn [1]\u001b[0m, in \u001b[0;36m<cell line: 1>\u001b[1;34m()\u001b[0m\n\u001b[1;32m----> 1\u001b[0m \u001b[43mgz2_data\u001b[49m[data]\n",
      "\u001b[1;31mNameError\u001b[0m: name 'gz2_data' is not defined"
     ]
    }
   ],
   "source": [
    "gz2_data[data]"
   ]
  },
  {
   "cell_type": "markdown",
   "id": "dfa7455c-9df3-4092-9526-b18f9cb3710f",
   "metadata": {},
   "source": [
    "## skycord 뽑아내기"
   ]
  },
  {
   "cell_type": "code",
   "execution_count": 27,
   "id": "13bb2a13-ca83-4176-83d1-42795ce70fc9",
   "metadata": {},
   "outputs": [
    {
     "data": {
      "text/plain": [
       "239695"
      ]
     },
     "execution_count": 27,
     "metadata": {},
     "output_type": "execute_result"
    }
   ],
   "source": [
    "len(gz2_data[1].data)"
   ]
  },
  {
   "cell_type": "code",
   "execution_count": 22,
   "id": "822d5354-9f02-4c5e-92b6-54dd8d51ebbe",
   "metadata": {},
   "outputs": [
    {
     "data": {
      "text/plain": [
       "250.09453"
      ]
     },
     "execution_count": 22,
     "metadata": {},
     "output_type": "execute_result"
    }
   ],
   "source": [
    "gz2_data[1].data[319][1] #2,3번째 RA, DEC     gz2_class :7번째"
   ]
  },
  {
   "cell_type": "code",
   "execution_count": 29,
   "id": "834843c8-6b36-4246-bdf9-90e5dc0ef2ec",
   "metadata": {},
   "outputs": [
    {
     "data": {
      "text/plain": [
       "179.04298"
      ]
     },
     "execution_count": 29,
     "metadata": {},
     "output_type": "execute_result"
    }
   ],
   "source": [
    "gz2_data[1].data[0][1]"
   ]
  },
  {
   "cell_type": "code",
   "execution_count": 37,
   "id": "af3dab24-8b78-427b-aa99-47611d5ad0d4",
   "metadata": {},
   "outputs": [],
   "source": [
    "name_gz2 = []\n",
    "for i in range(239695):\n",
    "    name_gz2.append(gz2_data[1].data[i][0])"
   ]
  },
  {
   "cell_type": "code",
   "execution_count": 42,
   "id": "49a53cff-b1da-4093-bd58-17a29fa02591",
   "metadata": {},
   "outputs": [],
   "source": [
    "ra_gz2 = []\n",
    "for i in range(239695):\n",
    "    ra_gz2.append(gz2_data[1].data[i][1])\n",
    "    "
   ]
  },
  {
   "cell_type": "code",
   "execution_count": 35,
   "id": "b807b16b-92f7-47a1-9391-2b760a3202da",
   "metadata": {},
   "outputs": [],
   "source": [
    "dec_gz2 = []\n",
    "for i in range(239695):\n",
    "    dec_gz2.append(gz2_data[1].data[i][2])"
   ]
  },
  {
   "cell_type": "code",
   "execution_count": 36,
   "id": "998489a7-aac1-4d63-b71b-05a1d287d273",
   "metadata": {},
   "outputs": [
    {
     "data": {
      "text/plain": [
       "239695"
      ]
     },
     "execution_count": 36,
     "metadata": {},
     "output_type": "execute_result"
    }
   ],
   "source": [
    "len(dec_gz2)"
   ]
  },
  {
   "cell_type": "code",
   "execution_count": 23,
   "id": "65492637-8bc8-4bae-8f2a-b6e14039b9c2",
   "metadata": {
    "collapsed": true,
    "jupyter": {
     "outputs_hidden": true
    },
    "tags": []
   },
   "outputs": [
    {
     "name": "stdout",
     "output_type": "stream",
     "text": [
      "[(587732591714893851, 179.04298 , 60.52252  , '11:56:10.32', '+60:31:21.1', 'original', 'Sc+t', 45, 342,  0,  0.   , 0.   , 0.   , 0.        , 0, 42, 42.   , 0.933, 0.988, 0.98799998, 1, 3, 0.506, 0.067, 0.012, 0.012, 0, 2, 2., 0.048, 0.048, 0.04768116, 0, 40, 40.   , 0.952, 0.952, 0.95384826, 1, 1, 1.   , 0.025, 0.025, 0.025     , 0, 39, 39.   , 0.975, 0.975, 0.97530509, 1, 40, 40.   , 1.   , 1.   , 1.        , 1,  0,  0.   , 0.   , 0.   , 0.        , 0, 2, 2., 0.05 , 0.05 , 0.04999999, 0, 24, 24., 0.6  , 0.6  , 0.60097317, 0, 14, 14.   , 0.35 , 0.35 , 0.34497445, 0,  0,  0., 0.   , 0.   , 0.        , 0, 11, 11.   , 0.262, 0.262, 0.26647826, 0, 31, 31.   , 0.738, 0.738, 0.72547026, 0,  0,  0.   , 0.   , 0.   , 0.        , 0,  0,  0., 0.   , 0.   , 0.        , 0,  0,  0., 0.   , 0.   , 0.        , 0, 0, 0., 0., 0., 0., 0, 1, 1., 0.091, 0.091, 0.09075027, 0, 3, 3., 0.273, 0.273, 0.27027258, 0,  4,  4.   , 0.364, 0.364, 0.36399999, 0, 2, 2., 0.182, 0.182, 0.18207672, 0, 1, 1., 0.091, 0.091, 0.09086133, 0, 0, 0., 0., 0., 0., 0, 1, 1., 0.5, 0.5, 0.49719232, 0, 1, 1., 0.5, 0.5, 0.4957643, 0, 0, 0., 0. , 0. , 0. , 0, 27, 27., 0.675, 0.675, 0.67648701, 0, 12, 12.   , 0.3  , 0.3 , 0.30132041, 0, 1, 1., 0.025, 0.025, 0.025     , 0, 0, 0., 0., 0., 0., 0, 3, 3., 0.075, 0.075, 0.07507129, 0, 1, 1., 0.025, 0.025, 0.02461704, 0, 2, 2., 0.05 , 0.05 , 0.04958331, 0, 18, 18.   , 0.45 , 0.45 , 0.4826464 , 0, 16, 16., 0.4  , 0.4  , 0.39450602, 0)\n",
      " (588009368545984617, 135.0844  , 52.49424  , '09:00:20.26', '+52:29:39.3', 'original', 'Sb+t', 42, 332,  1,  1.   , 0.024, 0.024, 0.024     , 0, 41, 40.205, 0.976, 0.976, 0.97600001, 1, 0, 0.   , 0.   , 0.   , 0.   , 0, 0, 0., 0.   , 0.   , 0.        , 0, 41, 40.205, 1.   , 1.   , 1.        , 1, 4, 3.205, 0.098, 0.08 , 0.08      , 0, 37, 37.   , 0.902, 0.92 , 0.9200381 , 1, 41, 40.205, 1.   , 1.   , 1.        , 1,  0,  0.   , 0.   , 0.   , 0.        , 0, 0, 0., 0.   , 0.   , 0.        , 0, 12, 12., 0.293, 0.298, 0.29810596, 0, 19, 18.205, 0.463, 0.453, 0.4526227 , 0, 10, 10., 0.244, 0.249, 0.249     , 0,  1,  0.205, 0.024, 0.005, 0.00499714, 0, 41, 41.   , 0.976, 0.995, 0.99497631, 1,  1,  1.   , 1.   , 1.   , 1.        , 1,  0,  0., 0.   , 0.   , 0.        , 0,  0,  0., 0.   , 0.   , 0.        , 0, 0, 0., 0., 0., 0., 0, 0, 0., 0.   , 0.   , 0.        , 0, 0, 0., 0.   , 0.   , 0.        , 0,  1,  0.205, 1.   , 0.   , 0.        , 0, 0, 0., 0.   , 0.   , 0.        , 0, 0, 0., 0.   , 0.   , 0.        , 0, 0, 0., 0., 0., 0., 0, 0, 0., 0. , 0. , 0.        , 0, 0, 0., 0. , 0. , 0.       , 0, 0, 0., 0. , 0. , 0. , 0, 35, 35., 0.854, 0.871, 0.87105635, 1,  4,  3.205, 0.098, 0.08, 0.08006771, 0, 2, 2., 0.049, 0.05 , 0.04999999, 0, 0, 0., 0., 0., 0., 0, 4, 4., 0.098, 0.099, 0.09806296, 0, 2, 2., 0.049, 0.05 , 0.0499827 , 0, 1, 1., 0.024, 0.025, 0.02497662, 0, 21, 20.205, 0.512, 0.503, 0.50483274, 0, 13, 13., 0.317, 0.323, 0.32274265, 0)\n",
      " (587732484359913515, 183.37198 , 50.74151  , '12:13:29.27', '+50:44:29.4', 'original', 'Ei', 36, 125, 28, 28.   , 0.778, 0.78 , 0.77999997, 0,  5,  5.   , 0.139, 0.139, 0.139     , 0, 3, 2.892, 0.083, 0.081, 0.081, 0, 0, 0., 0.   , 0.   , 0.        , 0,  5,  5.   , 1.   , 1.   , 1.        , 1, 2, 2.   , 0.4  , 0.4  , 0.4       , 0,  3,  3.   , 0.6  , 0.6  , 0.60019042, 0,  0,  0.   , 0.   , 0.   , 0.        , 0,  5,  5.   , 1.   , 1.   , 1.        , 1, 0, 0., 0.   , 0.   , 0.        , 0,  0,  0., 0.   , 0.   , 0.        , 0,  4,  4.   , 0.8  , 0.8  , 0.79876761, 0,  1,  1., 0.2  , 0.2  , 0.19868611, 0,  8,  8.   , 0.242, 0.242, 0.24352813, 0, 25, 25.   , 0.758, 0.758, 0.75618844, 0,  5,  5.   , 0.179, 0.179, 0.17875904, 0, 23, 23., 0.821, 0.821, 0.82075188, 1,  0,  0., 0.   , 0.   , 0.        , 0, 0, 0., 0., 0., 0., 0, 0, 0., 0.   , 0.   , 0.        , 0, 0, 0., 0.   , 0.   , 0.        , 0,  0,  0.   , 0.   , 0.   , 0.        , 0, 4, 4., 0.5  , 0.5  , 0.49776151, 0, 4, 4., 0.5  , 0.5  , 0.5008763 , 0, 0, 0., 0., 0., 0., 0, 0, 0., 0. , 0. , 0.        , 0, 0, 0., 0. , 0. , 0.       , 0, 0, 0., 0. , 0. , 0. , 0,  0,  0., 0.   , 0.   , 0.        , 0,  0,  0.   , 0.   , 0.  , 0.        , 0, 0, 0., 0.   , 0.   , 0.        , 0, 0, 0., 0., 0., 0., 0, 0, 0., 0.   , 0.   , 0.        , 0, 0, 0., 0.   , 0.   , 0.        , 0, 0, 0., 0.   , 0.   , 0.        , 0,  0,  0.   , 0.   , 0.   , 0.        , 0,  0,  0., 0.   , 0.   , 0.        , 0)\n",
      " ...\n",
      " (587731512070177108,  21.690212, -0.546427 , '01:26:45.65', '+00:32:47.1', 'stripe82', 'Ei', 48, 164, 36, 35.366, 0.75 , 0.789, 0.78899997, 0,  7,  7.   , 0.146, 0.156, 0.156     , 0, 5, 2.455, 0.104, 0.055, 0.055, 0, 0, 0., 0.   , 0.   , 0.        , 0,  7,  7.   , 1.   , 1.   , 1.        , 1, 1, 1.   , 0.143, 0.143, 0.14300001, 0,  6,  6.   , 0.857, 0.857, 0.85699999, 1,  2,  2.   , 0.286, 0.286, 0.28600001, 0,  5,  5.   , 0.714, 0.714, 0.71399999, 0, 6, 6., 0.857, 0.857, 0.85699999, 1,  0,  0., 0.   , 0.   , 0.        , 0,  1,  1.   , 0.143, 0.143, 0.14300001, 0,  0,  0., 0.   , 0.   , 0.        , 0,  5,  5.   , 0.116, 0.118, 0.118     , 0, 38, 37.366, 0.884, 0.882, 0.88200003, 1, 11, 10.366, 0.306, 0.293, 0.29300001, 0, 25, 25., 0.694, 0.707, 0.70700002, 0,  0,  0., 0.   , 0.   , 0.        , 0, 0, 0., 0., 0., 0., 0, 0, 0., 0.   , 0.   , 0.        , 0, 1, 1., 0.2  , 0.2  , 0.2       , 0,  3,  3.   , 0.6  , 0.6  , 0.60000002, 0, 1, 1., 0.2  , 0.2  , 0.2       , 0, 0, 0., 0.   , 0.   , 0.        , 0, 0, 0., 0., 0., 0., 0, 0, 0., 0. , 0. , 0.        , 0, 0, 0., 0. , 0. , 0.       , 0, 0, 0., 0. , 0. , 0. , 0,  1,  1., 0.5  , 0.5  , 0.5       , 0,  1,  1.   , 0.5  , 0.5 , 0.5       , 0, 0, 0., 0.   , 0.   , 0.        , 0, 0, 0., 0., 0., 0., 0, 0, 0., 0.   , 0.   , 0.        , 0, 0, 0., 0.   , 0.   , 0.        , 0, 0, 0., 0.   , 0.   , 0.        , 0,  0,  0.   , 0.   , 0.   , 0.        , 0,  2,  2., 1.   , 1.   , 1.        , 1)\n",
      " (587731513145688256,  25.747143,  0.3600786, '01:42:59.31', '+00:21:36.3', 'stripe82', 'Ei(i)', 48, 204, 25, 25.   , 0.521, 0.531, 0.53100002, 0, 14, 13.072, 0.292, 0.278, 0.278     , 0, 9, 9.   , 0.188, 0.191, 0.191, 0, 0, 0., 0.   , 0.   , 0.        , 0, 14, 13.072, 1.   , 1.   , 1.        , 1, 0, 0.   , 0.   , 0.   , 0.        , 0, 14, 13.072, 1.   , 1.   , 1.        , 1,  1,  1.   , 0.071, 0.076, 0.076     , 0, 13, 12.072, 0.929, 0.924, 0.92400002, 1, 8, 8., 0.571, 0.612, 0.61199999, 0,  1,  1., 0.071, 0.076, 0.076     , 0,  1,  0.072, 0.071, 0.006, 0.006     , 0,  4,  4., 0.286, 0.306, 0.30599999, 0, 34, 34.   , 0.872, 0.893, 0.89300001, 1,  5,  4.072, 0.128, 0.107, 0.107     , 0,  4,  4.   , 0.16 , 0.16 , 0.16      , 0, 21, 21., 0.84 , 0.84 , 0.83999997, 1,  0,  0., 0.   , 0.   , 0.        , 0, 0, 0., 0., 0., 0., 0, 2, 2., 0.059, 0.059, 0.059     , 0, 1, 1., 0.029, 0.029, 0.029     , 0, 14, 14.   , 0.412, 0.412, 0.412     , 0, 9, 9., 0.265, 0.265, 0.26499999, 0, 8, 8., 0.235, 0.235, 0.235     , 0, 0, 0., 0., 0., 0., 0, 0, 0., 0. , 0. , 0.        , 0, 0, 0., 0. , 0. , 0.       , 0, 0, 0., 0. , 0. , 0. , 0,  1,  1., 1.   , 1.   , 1.        , 1,  0,  0.   , 0.   , 0.  , 0.        , 0, 0, 0., 0.   , 0.   , 0.        , 0, 1, 1., 1., 1., 1., 1, 0, 0., 0.   , 0.   , 0.        , 0, 0, 0., 0.   , 0.   , 0.        , 0, 0, 0., 0.   , 0.   , 0.        , 0,  0,  0.   , 0.   , 0.   , 0.        , 0,  0,  0., 0.   , 0.   , 0.        , 0)\n",
      " (588015507679805636,  48.13063 , -1.1122439, '03:12:31.35', '-01:06:44.1', 'stripe82', 'Ec', 49, 170, 36, 36.   , 0.735, 0.763, 0.76300001, 0, 10, 10.   , 0.204, 0.212, 0.212     , 0, 3, 1.159, 0.061, 0.025, 0.025, 0, 2, 2., 0.2  , 0.2  , 0.2       , 0,  8,  8.   , 0.8  , 0.8  , 0.80000001, 1, 1, 1.   , 0.125, 0.125, 0.125     , 0,  7,  7.   , 0.875, 0.875, 0.875     , 1,  0,  0.   , 0.   , 0.   , 0.        , 0,  8,  8.   , 1.   , 1.   , 1.        , 1, 7, 7., 0.875, 0.875, 0.875     , 1,  1,  1., 0.125, 0.125, 0.125     , 0,  0,  0.   , 0.   , 0.   , 0.        , 0,  0,  0., 0.   , 0.   , 0.        , 0,  3,  3.   , 0.065, 0.065, 0.065     , 0, 43, 43.   , 0.935, 0.935, 0.935     , 1,  0,  0.   , 0.   , 0.   , 0.        , 0, 11, 11., 0.306, 0.306, 0.30599999, 0, 25, 25., 0.694, 0.694, 0.69400001, 0, 0, 0., 0., 0., 0., 0, 0, 0., 0.   , 0.   , 0.        , 0, 1, 1., 0.333, 0.333, 0.333     , 0,  2,  2.   , 0.667, 0.667, 0.667     , 0, 0, 0., 0.   , 0.   , 0.        , 0, 0, 0., 0.   , 0.   , 0.        , 0, 0, 0., 0., 0., 0., 0, 1, 1., 0.5, 0.5, 0.5       , 0, 0, 0., 0. , 0. , 0.       , 0, 1, 1., 0.5, 0.5, 0.5, 0,  0,  0., 0.   , 0.   , 0.        , 0,  0,  0.   , 0.   , 0.  , 0.        , 0, 0, 0., 0.   , 0.   , 0.        , 0, 0, 0., 0., 0., 0., 0, 0, 0., 0.   , 0.   , 0.        , 0, 0, 0., 0.   , 0.   , 0.        , 0, 0, 0., 0.   , 0.   , 0.        , 0,  0,  0.   , 0.   , 0.   , 0.        , 0,  0,  0., 0.   , 0.   , 0.        , 0)]\n"
     ]
    }
   ],
   "source": [
    "image_data = gz2_data[1].data\n",
    "print(image_data)\n"
   ]
  },
  {
   "cell_type": "code",
   "execution_count": 24,
   "id": "88e58494-f025-4a2e-a2c2-87d654873085",
   "metadata": {
    "collapsed": true,
    "jupyter": {
     "outputs_hidden": true
    },
    "tags": []
   },
   "outputs": [
    {
     "name": "stdout",
     "output_type": "stream",
     "text": [
      "XTENSION= 'BINTABLE'           / binary table extension                         BITPIX  =                    8 / array data type                                NAXIS   =                    2 / number of array dimensions                     NAXIS1  =                 1306 / length of dimension 1                          NAXIS2  =               239695 / length of dimension 2                          PCOUNT  =                    0 / number of group parameters                     GCOUNT  =                    1 / number of groups                               TFIELDS =                  231 / number of table fields                         TTYPE1  = 'dr7objid'                                                            TFORM1  = 'K       '                                                            TTYPE2  = 'ra      '                                                            TFORM2  = 'E       '                                                            TTYPE3  = 'dec     '                                                            TFORM3  = 'E       '                                                            TTYPE4  = 'rastring'                                                            TFORM4  = '44A     '                                                            TTYPE5  = 'decstring'                                                           TFORM5  = '44A     '                                                            TTYPE6  = 'sample  '                                                            TFORM6  = '80A     '                                                            TTYPE7  = 'gz2_class'                                                           TFORM7  = '8A      '                                                            TTYPE8  = 'total_classifications'                                               TFORM8  = 'I       '                                                            TTYPE9  = 'total_votes'                                                         TFORM9  = 'I       '                                                            TTYPE10 = 't01_smooth_or_features_a01_smooth_count'                             TFORM10 = 'I       '                                                            TTYPE11 = 't01_smooth_or_features_a01_smooth_weight'                            TFORM11 = 'E       '                                                            TTYPE12 = 't01_smooth_or_features_a01_smooth_fraction'                          TFORM12 = 'E       '                                                            TTYPE13 = 't01_smooth_or_features_a01_smooth_weighted_fraction'                 TFORM13 = 'E       '                                                            TTYPE14 = 't01_smooth_or_features_a01_smooth_debiased'                          TFORM14 = 'D       '                                                            TTYPE15 = 't01_smooth_or_features_a01_smooth_flag'                              TFORM15 = 'K       '                                                            TTYPE16 = 't01_smooth_or_features_a02_features_or_disk_count'                   TFORM16 = 'I       '                                                            TTYPE17 = 't01_smooth_or_features_a02_features_or_disk_weight'                  TFORM17 = 'E       '                                                            TTYPE18 = 't01_smooth_or_features_a02_features_or_disk_fraction'                TFORM18 = 'E       '                                                            TTYPE19 = 't01_smooth_or_features_a02_features_or_disk_weighted_fraction'       TFORM19 = 'E       '                                                            TTYPE20 = 't01_smooth_or_features_a02_features_or_disk_debiased'                TFORM20 = 'D       '                                                            TTYPE21 = 't01_smooth_or_features_a02_features_or_disk_flag'                    TFORM21 = 'K       '                                                            TTYPE22 = 't01_smooth_or_features_a03_star_or_artifact_count'                   TFORM22 = 'I       '                                                            TTYPE23 = 't01_smooth_or_features_a03_star_or_artifact_weight'                  TFORM23 = 'E       '                                                            TTYPE24 = 't01_smooth_or_features_a03_star_or_artifact_fraction'                TFORM24 = 'E       '                                                            TTYPE25 = 't01_smooth_or_features_a03_star_or_artifact_weighted_fraction'       TFORM25 = 'E       '                                                            TTYPE26 = 't01_smooth_or_features_a03_star_or_artifact_debiased'                TFORM26 = 'D       '                                                            TTYPE27 = 't01_smooth_or_features_a03_star_or_artifact_flag'                    TFORM27 = 'K       '                                                            TTYPE28 = 't02_edgeon_a04_yes_count'                                            TFORM28 = 'I       '                                                            TTYPE29 = 't02_edgeon_a04_yes_weight'                                           TFORM29 = 'E       '                                                            TTYPE30 = 't02_edgeon_a04_yes_fraction'                                         TFORM30 = 'E       '                                                            TTYPE31 = 't02_edgeon_a04_yes_weighted_fraction'                                TFORM31 = 'E       '                                                            TTYPE32 = 't02_edgeon_a04_yes_debiased'                                         TFORM32 = 'D       '                                                            TTYPE33 = 't02_edgeon_a04_yes_flag'                                             TFORM33 = 'K       '                                                            TTYPE34 = 't02_edgeon_a05_no_count'                                             TFORM34 = 'I       '                                                            TTYPE35 = 't02_edgeon_a05_no_weight'                                            TFORM35 = 'E       '                                                            TTYPE36 = 't02_edgeon_a05_no_fraction'                                          TFORM36 = 'E       '                                                            TTYPE37 = 't02_edgeon_a05_no_weighted_fraction'                                 TFORM37 = 'E       '                                                            TTYPE38 = 't02_edgeon_a05_no_debiased'                                          TFORM38 = 'D       '                                                            TTYPE39 = 't02_edgeon_a05_no_flag'                                              TFORM39 = 'K       '                                                            TTYPE40 = 't03_bar_a06_bar_count'                                               TFORM40 = 'I       '                                                            TTYPE41 = 't03_bar_a06_bar_weight'                                              TFORM41 = 'E       '                                                            TTYPE42 = 't03_bar_a06_bar_fraction'                                            TFORM42 = 'E       '                                                            TTYPE43 = 't03_bar_a06_bar_weighted_fraction'                                   TFORM43 = 'E       '                                                            TTYPE44 = 't03_bar_a06_bar_debiased'                                            TFORM44 = 'D       '                                                            TTYPE45 = 't03_bar_a06_bar_flag'                                                TFORM45 = 'K       '                                                            TTYPE46 = 't03_bar_a07_no_bar_count'                                            TFORM46 = 'I       '                                                            TTYPE47 = 't03_bar_a07_no_bar_weight'                                           TFORM47 = 'E       '                                                            TTYPE48 = 't03_bar_a07_no_bar_fraction'                                         TFORM48 = 'E       '                                                            TTYPE49 = 't03_bar_a07_no_bar_weighted_fraction'                                TFORM49 = 'E       '                                                            TTYPE50 = 't03_bar_a07_no_bar_debiased'                                         TFORM50 = 'D       '                                                            TTYPE51 = 't03_bar_a07_no_bar_flag'                                             TFORM51 = 'K       '                                                            TTYPE52 = 't04_spiral_a08_spiral_count'                                         TFORM52 = 'I       '                                                            TTYPE53 = 't04_spiral_a08_spiral_weight'                                        TFORM53 = 'E       '                                                            TTYPE54 = 't04_spiral_a08_spiral_fraction'                                      TFORM54 = 'E       '                                                            TTYPE55 = 't04_spiral_a08_spiral_weighted_fraction'                             TFORM55 = 'E       '                                                            TTYPE56 = 't04_spiral_a08_spiral_debiased'                                      TFORM56 = 'D       '                                                            TTYPE57 = 't04_spiral_a08_spiral_flag'                                          TFORM57 = 'K       '                                                            TTYPE58 = 't04_spiral_a09_no_spiral_count'                                      TFORM58 = 'I       '                                                            TTYPE59 = 't04_spiral_a09_no_spiral_weight'                                     TFORM59 = 'E       '                                                            TTYPE60 = 't04_spiral_a09_no_spiral_fraction'                                   TFORM60 = 'E       '                                                            TTYPE61 = 't04_spiral_a09_no_spiral_weighted_fraction'                          TFORM61 = 'E       '                                                            TTYPE62 = 't04_spiral_a09_no_spiral_debiased'                                   TFORM62 = 'D       '                                                            TTYPE63 = 't04_spiral_a09_no_spiral_flag'                                       TFORM63 = 'K       '                                                            TTYPE64 = 't05_bulge_prominence_a10_no_bulge_count'                             TFORM64 = 'I       '                                                            TTYPE65 = 't05_bulge_prominence_a10_no_bulge_weight'                            TFORM65 = 'E       '                                                            TTYPE66 = 't05_bulge_prominence_a10_no_bulge_fraction'                          TFORM66 = 'E       '                                                            TTYPE67 = 't05_bulge_prominence_a10_no_bulge_weighted_fraction'                 TFORM67 = 'E       '                                                            TTYPE68 = 't05_bulge_prominence_a10_no_bulge_debiased'                          TFORM68 = 'D       '                                                            TTYPE69 = 't05_bulge_prominence_a10_no_bulge_flag'                              TFORM69 = 'K       '                                                            TTYPE70 = 't05_bulge_prominence_a11_just_noticeable_count'                      TFORM70 = 'I       '                                                            TTYPE71 = 't05_bulge_prominence_a11_just_noticeable_weight'                     TFORM71 = 'E       '                                                            TTYPE72 = 't05_bulge_prominence_a11_just_noticeable_fraction'                   TFORM72 = 'E       '                                                            TTYPE73 = 't05_bulge_prominence_a11_just_noticeable_weighted_fraction'          TFORM73 = 'E       '                                                            TTYPE74 = 't05_bulge_prominence_a11_just_noticeable_debiased'                   TFORM74 = 'D       '                                                            TTYPE75 = 't05_bulge_prominence_a11_just_noticeable_flag'                       TFORM75 = 'K       '                                                            TTYPE76 = 't05_bulge_prominence_a12_obvious_count'                              TFORM76 = 'I       '                                                            TTYPE77 = 't05_bulge_prominence_a12_obvious_weight'                             TFORM77 = 'E       '                                                            TTYPE78 = 't05_bulge_prominence_a12_obvious_fraction'                           TFORM78 = 'E       '                                                            TTYPE79 = 't05_bulge_prominence_a12_obvious_weighted_fraction'                  TFORM79 = 'E       '                                                            TTYPE80 = 't05_bulge_prominence_a12_obvious_debiased'                           TFORM80 = 'D       '                                                            TTYPE81 = 't05_bulge_prominence_a12_obvious_flag'                               TFORM81 = 'K       '                                                            TTYPE82 = 't05_bulge_prominence_a13_dominant_count'                             TFORM82 = 'I       '                                                            TTYPE83 = 't05_bulge_prominence_a13_dominant_weight'                            TFORM83 = 'E       '                                                            TTYPE84 = 't05_bulge_prominence_a13_dominant_fraction'                          TFORM84 = 'E       '                                                            TTYPE85 = 't05_bulge_prominence_a13_dominant_weighted_fraction'                 TFORM85 = 'E       '                                                            TTYPE86 = 't05_bulge_prominence_a13_dominant_debiased'                          TFORM86 = 'D       '                                                            TTYPE87 = 't05_bulge_prominence_a13_dominant_flag'                              TFORM87 = 'K       '                                                            TTYPE88 = 't06_odd_a14_yes_count'                                               TFORM88 = 'I       '                                                            TTYPE89 = 't06_odd_a14_yes_weight'                                              TFORM89 = 'E       '                                                            TTYPE90 = 't06_odd_a14_yes_fraction'                                            TFORM90 = 'E       '                                                            TTYPE91 = 't06_odd_a14_yes_weighted_fraction'                                   TFORM91 = 'E       '                                                            TTYPE92 = 't06_odd_a14_yes_debiased'                                            TFORM92 = 'D       '                                                            TTYPE93 = 't06_odd_a14_yes_flag'                                                TFORM93 = 'K       '                                                            TTYPE94 = 't06_odd_a15_no_count'                                                TFORM94 = 'I       '                                                            TTYPE95 = 't06_odd_a15_no_weight'                                               TFORM95 = 'E       '                                                            TTYPE96 = 't06_odd_a15_no_fraction'                                             TFORM96 = 'E       '                                                            TTYPE97 = 't06_odd_a15_no_weighted_fraction'                                    TFORM97 = 'E       '                                                            TTYPE98 = 't06_odd_a15_no_debiased'                                             TFORM98 = 'D       '                                                            TTYPE99 = 't06_odd_a15_no_flag'                                                 TFORM99 = 'K       '                                                            TTYPE100= 't07_rounded_a16_completely_round_count'                              TFORM100= 'I       '                                                            TTYPE101= 't07_rounded_a16_completely_round_weight'                             TFORM101= 'E       '                                                            TTYPE102= 't07_rounded_a16_completely_round_fraction'                           TFORM102= 'E       '                                                            TTYPE103= 't07_rounded_a16_completely_round_weighted_fraction'                  TFORM103= 'E       '                                                            TTYPE104= 't07_rounded_a16_completely_round_debiased'                           TFORM104= 'D       '                                                            TTYPE105= 't07_rounded_a16_completely_round_flag'                               TFORM105= 'K       '                                                            TTYPE106= 't07_rounded_a17_in_between_count'                                    TFORM106= 'I       '                                                            TTYPE107= 't07_rounded_a17_in_between_weight'                                   TFORM107= 'E       '                                                            TTYPE108= 't07_rounded_a17_in_between_fraction'                                 TFORM108= 'E       '                                                            TTYPE109= 't07_rounded_a17_in_between_weighted_fraction'                        TFORM109= 'E       '                                                            TTYPE110= 't07_rounded_a17_in_between_debiased'                                 TFORM110= 'D       '                                                            TTYPE111= 't07_rounded_a17_in_between_flag'                                     TFORM111= 'K       '                                                            TTYPE112= 't07_rounded_a18_cigar_shaped_count'                                  TFORM112= 'I       '                                                            TTYPE113= 't07_rounded_a18_cigar_shaped_weight'                                 TFORM113= 'E       '                                                            TTYPE114= 't07_rounded_a18_cigar_shaped_fraction'                               TFORM114= 'E       '                                                            TTYPE115= 't07_rounded_a18_cigar_shaped_weighted_fraction'                      TFORM115= 'E       '                                                            TTYPE116= 't07_rounded_a18_cigar_shaped_debiased'                               TFORM116= 'D       '                                                            TTYPE117= 't07_rounded_a18_cigar_shaped_flag'                                   TFORM117= 'K       '                                                            TTYPE118= 't08_odd_feature_a19_ring_count'                                      TFORM118= 'I       '                                                            TTYPE119= 't08_odd_feature_a19_ring_weight'                                     TFORM119= 'E       '                                                            TTYPE120= 't08_odd_feature_a19_ring_fraction'                                   TFORM120= 'E       '                                                            TTYPE121= 't08_odd_feature_a19_ring_weighted_fraction'                          TFORM121= 'E       '                                                            TTYPE122= 't08_odd_feature_a19_ring_debiased'                                   TFORM122= 'D       '                                                            TTYPE123= 't08_odd_feature_a19_ring_flag'                                       TFORM123= 'K       '                                                            TTYPE124= 't08_odd_feature_a20_lens_or_arc_count'                               TFORM124= 'I       '                                                            TTYPE125= 't08_odd_feature_a20_lens_or_arc_weight'                              TFORM125= 'E       '                                                            TTYPE126= 't08_odd_feature_a20_lens_or_arc_fraction'                            TFORM126= 'E       '                                                            TTYPE127= 't08_odd_feature_a20_lens_or_arc_weighted_fraction'                   TFORM127= 'E       '                                                            TTYPE128= 't08_odd_feature_a20_lens_or_arc_debiased'                            TFORM128= 'D       '                                                            TTYPE129= 't08_odd_feature_a20_lens_or_arc_flag'                                TFORM129= 'K       '                                                            TTYPE130= 't08_odd_feature_a21_disturbed_count'                                 TFORM130= 'I       '                                                            TTYPE131= 't08_odd_feature_a21_disturbed_weight'                                TFORM131= 'E       '                                                            TTYPE132= 't08_odd_feature_a21_disturbed_fraction'                              TFORM132= 'E       '                                                            TTYPE133= 't08_odd_feature_a21_disturbed_weighted_fraction'                     TFORM133= 'E       '                                                            TTYPE134= 't08_odd_feature_a21_disturbed_debiased'                              TFORM134= 'D       '                                                            TTYPE135= 't08_odd_feature_a21_disturbed_flag'                                  TFORM135= 'K       '                                                            TTYPE136= 't08_odd_feature_a22_irregular_count'                                 TFORM136= 'I       '                                                            TTYPE137= 't08_odd_feature_a22_irregular_weight'                                TFORM137= 'E       '                                                            TTYPE138= 't08_odd_feature_a22_irregular_fraction'                              TFORM138= 'E       '                                                            TTYPE139= 't08_odd_feature_a22_irregular_weighted_fraction'                     TFORM139= 'E       '                                                            TTYPE140= 't08_odd_feature_a22_irregular_debiased'                              TFORM140= 'D       '                                                            TTYPE141= 't08_odd_feature_a22_irregular_flag'                                  TFORM141= 'K       '                                                            TTYPE142= 't08_odd_feature_a23_other_count'                                     TFORM142= 'I       '                                                            TTYPE143= 't08_odd_feature_a23_other_weight'                                    TFORM143= 'E       '                                                            TTYPE144= 't08_odd_feature_a23_other_fraction'                                  TFORM144= 'E       '                                                            TTYPE145= 't08_odd_feature_a23_other_weighted_fraction'                         TFORM145= 'E       '                                                            TTYPE146= 't08_odd_feature_a23_other_debiased'                                  TFORM146= 'D       '                                                            TTYPE147= 't08_odd_feature_a23_other_flag'                                      TFORM147= 'K       '                                                            TTYPE148= 't08_odd_feature_a24_merger_count'                                    TFORM148= 'I       '                                                            TTYPE149= 't08_odd_feature_a24_merger_weight'                                   TFORM149= 'E       '                                                            TTYPE150= 't08_odd_feature_a24_merger_fraction'                                 TFORM150= 'E       '                                                            TTYPE151= 't08_odd_feature_a24_merger_weighted_fraction'                        TFORM151= 'E       '                                                            TTYPE152= 't08_odd_feature_a24_merger_debiased'                                 TFORM152= 'D       '                                                            TTYPE153= 't08_odd_feature_a24_merger_flag'                                     TFORM153= 'K       '                                                            TTYPE154= 't08_odd_feature_a38_dust_lane_count'                                 TFORM154= 'I       '                                                            TTYPE155= 't08_odd_feature_a38_dust_lane_weight'                                TFORM155= 'E       '                                                            TTYPE156= 't08_odd_feature_a38_dust_lane_fraction'                              TFORM156= 'E       '                                                            TTYPE157= 't08_odd_feature_a38_dust_lane_weighted_fraction'                     TFORM157= 'E       '                                                            TTYPE158= 't08_odd_feature_a38_dust_lane_debiased'                              TFORM158= 'D       '                                                            TTYPE159= 't08_odd_feature_a38_dust_lane_flag'                                  TFORM159= 'K       '                                                            TTYPE160= 't09_bulge_shape_a25_rounded_count'                                   TFORM160= 'I       '                                                            TTYPE161= 't09_bulge_shape_a25_rounded_weight'                                  TFORM161= 'E       '                                                            TTYPE162= 't09_bulge_shape_a25_rounded_fraction'                                TFORM162= 'E       '                                                            TTYPE163= 't09_bulge_shape_a25_rounded_weighted_fraction'                       TFORM163= 'E       '                                                            TTYPE164= 't09_bulge_shape_a25_rounded_debiased'                                TFORM164= 'D       '                                                            TTYPE165= 't09_bulge_shape_a25_rounded_flag'                                    TFORM165= 'K       '                                                            TTYPE166= 't09_bulge_shape_a26_boxy_count'                                      TFORM166= 'I       '                                                            TTYPE167= 't09_bulge_shape_a26_boxy_weight'                                     TFORM167= 'E       '                                                            TTYPE168= 't09_bulge_shape_a26_boxy_fraction'                                   TFORM168= 'E       '                                                            TTYPE169= 't09_bulge_shape_a26_boxy_weighted_fraction'                          TFORM169= 'E       '                                                            TTYPE170= 't09_bulge_shape_a26_boxy_debiased'                                   TFORM170= 'D       '                                                            TTYPE171= 't09_bulge_shape_a26_boxy_flag'                                       TFORM171= 'K       '                                                            TTYPE172= 't09_bulge_shape_a27_no_bulge_count'                                  TFORM172= 'I       '                                                            TTYPE173= 't09_bulge_shape_a27_no_bulge_weight'                                 TFORM173= 'E       '                                                            TTYPE174= 't09_bulge_shape_a27_no_bulge_fraction'                               TFORM174= 'E       '                                                            TTYPE175= 't09_bulge_shape_a27_no_bulge_weighted_fraction'                      TFORM175= 'E       '                                                            TTYPE176= 't09_bulge_shape_a27_no_bulge_debiased'                               TFORM176= 'D       '                                                            TTYPE177= 't09_bulge_shape_a27_no_bulge_flag'                                   TFORM177= 'K       '                                                            TTYPE178= 't10_arms_winding_a28_tight_count'                                    TFORM178= 'I       '                                                            TTYPE179= 't10_arms_winding_a28_tight_weight'                                   TFORM179= 'E       '                                                            TTYPE180= 't10_arms_winding_a28_tight_fraction'                                 TFORM180= 'E       '                                                            TTYPE181= 't10_arms_winding_a28_tight_weighted_fraction'                        TFORM181= 'E       '                                                            TTYPE182= 't10_arms_winding_a28_tight_debiased'                                 TFORM182= 'D       '                                                            TTYPE183= 't10_arms_winding_a28_tight_flag'                                     TFORM183= 'K       '                                                            TTYPE184= 't10_arms_winding_a29_medium_count'                                   TFORM184= 'I       '                                                            TTYPE185= 't10_arms_winding_a29_medium_weight'                                  TFORM185= 'E       '                                                            TTYPE186= 't10_arms_winding_a29_medium_fraction'                                TFORM186= 'E       '                                                            TTYPE187= 't10_arms_winding_a29_medium_weighted_fraction'                       TFORM187= 'E       '                                                            TTYPE188= 't10_arms_winding_a29_medium_debiased'                                TFORM188= 'D       '                                                            TTYPE189= 't10_arms_winding_a29_medium_flag'                                    TFORM189= 'K       '                                                            TTYPE190= 't10_arms_winding_a30_loose_count'                                    TFORM190= 'I       '                                                            TTYPE191= 't10_arms_winding_a30_loose_weight'                                   TFORM191= 'E       '                                                            TTYPE192= 't10_arms_winding_a30_loose_fraction'                                 TFORM192= 'E       '                                                            TTYPE193= 't10_arms_winding_a30_loose_weighted_fraction'                        TFORM193= 'E       '                                                            TTYPE194= 't10_arms_winding_a30_loose_debiased'                                 TFORM194= 'D       '                                                            TTYPE195= 't10_arms_winding_a30_loose_flag'                                     TFORM195= 'K       '                                                            TTYPE196= 't11_arms_number_a31_1_count'                                         TFORM196= 'I       '                                                            TTYPE197= 't11_arms_number_a31_1_weight'                                        TFORM197= 'E       '                                                            TTYPE198= 't11_arms_number_a31_1_fraction'                                      TFORM198= 'E       '                                                            TTYPE199= 't11_arms_number_a31_1_weighted_fraction'                             TFORM199= 'E       '                                                            TTYPE200= 't11_arms_number_a31_1_debiased'                                      TFORM200= 'D       '                                                            TTYPE201= 't11_arms_number_a31_1_flag'                                          TFORM201= 'K       '                                                            TTYPE202= 't11_arms_number_a32_2_count'                                         TFORM202= 'I       '                                                            TTYPE203= 't11_arms_number_a32_2_weight'                                        TFORM203= 'E       '                                                            TTYPE204= 't11_arms_number_a32_2_fraction'                                      TFORM204= 'E       '                                                            TTYPE205= 't11_arms_number_a32_2_weighted_fraction'                             TFORM205= 'E       '                                                            TTYPE206= 't11_arms_number_a32_2_debiased'                                      TFORM206= 'D       '                                                            TTYPE207= 't11_arms_number_a32_2_flag'                                          TFORM207= 'K       '                                                            TTYPE208= 't11_arms_number_a33_3_count'                                         TFORM208= 'I       '                                                            TTYPE209= 't11_arms_number_a33_3_weight'                                        TFORM209= 'E       '                                                            TTYPE210= 't11_arms_number_a33_3_fraction'                                      TFORM210= 'E       '                                                            TTYPE211= 't11_arms_number_a33_3_weighted_fraction'                             TFORM211= 'E       '                                                            TTYPE212= 't11_arms_number_a33_3_debiased'                                      TFORM212= 'D       '                                                            TTYPE213= 't11_arms_number_a33_3_flag'                                          TFORM213= 'K       '                                                            TTYPE214= 't11_arms_number_a34_4_count'                                         TFORM214= 'I       '                                                            TTYPE215= 't11_arms_number_a34_4_weight'                                        TFORM215= 'E       '                                                            TTYPE216= 't11_arms_number_a34_4_fraction'                                      TFORM216= 'E       '                                                            TTYPE217= 't11_arms_number_a34_4_weighted_fraction'                             TFORM217= 'E       '                                                            TTYPE218= 't11_arms_number_a34_4_debiased'                                      TFORM218= 'D       '                                                            TTYPE219= 't11_arms_number_a34_4_flag'                                          TFORM219= 'K       '                                                            TTYPE220= 't11_arms_number_a36_more_than_4_count'                               TFORM220= 'I       '                                                            TTYPE221= 't11_arms_number_a36_more_than_4_weight'                              TFORM221= 'E       '                                                            TTYPE222= 't11_arms_number_a36_more_than_4_fraction'                            TFORM222= 'E       '                                                            TTYPE223= 't11_arms_number_a36_more_than_4_weighted_fraction'                   TFORM223= 'E       '                                                            TTYPE224= 't11_arms_number_a36_more_than_4_debiased'                            TFORM224= 'D       '                                                            TTYPE225= 't11_arms_number_a36_more_than_4_flag'                                TFORM225= 'K       '                                                            TTYPE226= 't11_arms_number_a37_cant_tell_count'                                 TFORM226= 'I       '                                                            TTYPE227= 't11_arms_number_a37_cant_tell_weight'                                TFORM227= 'E       '                                                            TTYPE228= 't11_arms_number_a37_cant_tell_fraction'                              TFORM228= 'E       '                                                            TTYPE229= 't11_arms_number_a37_cant_tell_weighted_fraction'                     TFORM229= 'E       '                                                            TTYPE230= 't11_arms_number_a37_cant_tell_debiased'                              TFORM230= 'D       '                                                            TTYPE231= 't11_arms_number_a37_cant_tell_flag'                                  TFORM231= 'K       '                                                            TNULL1  =               999999                                                  TNULL8  =                16959                                                  TNULL9  =                16959                                                  TNULL10 =                16959                                                  TNULL15 =               999999                                                  TNULL16 =                16959                                                  TNULL21 =               999999                                                  TNULL22 =                16959                                                  TNULL27 =               999999                                                  TNULL28 =                16959                                                  TNULL33 =               999999                                                  TNULL34 =                16959                                                  TNULL39 =               999999                                                  TNULL40 =                16959                                                  TNULL45 =               999999                                                  TNULL46 =                16959                                                  TNULL51 =               999999                                                  TNULL52 =                16959                                                  TNULL57 =               999999                                                  TNULL58 =                16959                                                  TNULL63 =               999999                                                  TNULL64 =                16959                                                  TNULL69 =               999999                                                  TNULL70 =                16959                                                  TNULL75 =               999999                                                  TNULL76 =                16959                                                  TNULL81 =               999999                                                  TNULL82 =                16959                                                  TNULL87 =               999999                                                  TNULL88 =                16959                                                  TNULL93 =               999999                                                  TNULL94 =                16959                                                  TNULL99 =               999999                                                  TNULL100=                16959                                                  TNULL105=               999999                                                  TNULL106=                16959                                                  TNULL111=               999999                                                  TNULL112=                16959                                                  TNULL117=               999999                                                  TNULL118=                16959                                                  TNULL123=               999999                                                  TNULL124=                16959                                                  TNULL129=               999999                                                  TNULL130=                16959                                                  TNULL135=               999999                                                  TNULL136=                16959                                                  TNULL141=               999999                                                  TNULL142=                16959                                                  TNULL147=               999999                                                  TNULL148=                16959                                                  TNULL153=               999999                                                  TNULL154=                16959                                                  TNULL159=               999999                                                  TNULL160=                16959                                                  TNULL165=               999999                                                  TNULL166=                16959                                                  TNULL171=               999999                                                  TNULL172=                16959                                                  TNULL177=               999999                                                  TNULL178=                16959                                                  TNULL183=               999999                                                  TNULL184=                16959                                                  TNULL189=               999999                                                  TNULL190=                16959                                                  TNULL195=               999999                                                  TNULL196=                16959                                                  TNULL201=               999999                                                  TNULL202=                16959                                                  TNULL207=               999999                                                  TNULL208=                16959                                                  TNULL213=               999999                                                  TNULL214=                16959                                                  TNULL219=               999999                                                  TNULL220=                16959                                                  TNULL225=               999999                                                  TNULL226=                16959                                                  TNULL231=               999999                                                  END                                                                                                                                                                                                                                                                                                                                                                                                                                                                                                                                                                                                                                                                                                                                                                                                                                                                                                                                                                                                                                                                                                                                                                                                                                                                                                                                                                                                                                                                                                                                                                                                                                                                                                                                                                                                                                                                                                                                                                                                                                                                                                                                                                                                                                                                                                                                                                                                             \n"
     ]
    }
   ],
   "source": [
    "header = gz2_data[1].header\n",
    "print(header)\n"
   ]
  },
  {
   "cell_type": "code",
   "execution_count": 25,
   "id": "e5f45ba6-a6f5-4aa8-aa18-4a3798a84f3c",
   "metadata": {
    "tags": []
   },
   "outputs": [
    {
     "data": {
      "text/plain": [
       "'dec'"
      ]
     },
     "execution_count": 25,
     "metadata": {},
     "output_type": "execute_result"
    }
   ],
   "source": [
    "header['ttype3']"
   ]
  },
  {
   "cell_type": "markdown",
   "id": "12bac7cd-d530-4f30-9f13-0f8cf24843a1",
   "metadata": {},
   "source": [
    "# skycoord"
   ]
  },
  {
   "cell_type": "code",
   "execution_count": 40,
   "id": "815d2ce0-9dbc-4e00-ad7b-72aada7aa629",
   "metadata": {},
   "outputs": [],
   "source": [
    "from astropy.coordinates import SkyCoord  # High-level coordinates\n",
    "from astropy.coordinates import ICRS, Galactic, FK4, FK5  # Low-level frames\n",
    "from astropy.coordinates import Angle, Latitude, Longitude  # Angles\n",
    "import astropy.units as u"
   ]
  },
  {
   "cell_type": "code",
   "execution_count": 43,
   "id": "398f8672-b768-4f04-8c40-be4e2668a6f1",
   "metadata": {},
   "outputs": [],
   "source": [
    "c_gz2 = SkyCoord(frame = ICRS, ra = ra_gz2 * u.deg , dec = dec_gz2 * u.deg)"
   ]
  },
  {
   "cell_type": "code",
   "execution_count": 44,
   "id": "14366ba4-526d-4f2c-be07-5910d69a79a6",
   "metadata": {},
   "outputs": [
    {
     "data": {
      "text/plain": [
       "<SkyCoord (ICRS): (ra, dec) in deg\n",
       "    [(179.04298 , 60.52252  ), (135.0844  , 52.49424  ),\n",
       "     (183.37198 , 50.74151  ), ..., ( 21.690212, -0.546427 ),\n",
       "     ( 25.747143,  0.3600786), ( 48.13063 , -1.1122439)]>"
      ]
     },
     "execution_count": 44,
     "metadata": {},
     "output_type": "execute_result"
    }
   ],
   "source": [
    "c_gz2"
   ]
  },
  {
   "cell_type": "code",
   "execution_count": null,
   "id": "be4bca67-da44-48de-836a-a3b3f264764a",
   "metadata": {},
   "outputs": [],
   "source": []
  }
 ],
 "metadata": {
  "kernelspec": {
   "display_name": "Python 3 (ipykernel)",
   "language": "python",
   "name": "python3"
  },
  "language_info": {
   "codemirror_mode": {
    "name": "ipython",
    "version": 3
   },
   "file_extension": ".py",
   "mimetype": "text/x-python",
   "name": "python",
   "nbconvert_exporter": "python",
   "pygments_lexer": "ipython3",
   "version": "3.9.12"
  }
 },
 "nbformat": 4,
 "nbformat_minor": 5
}
